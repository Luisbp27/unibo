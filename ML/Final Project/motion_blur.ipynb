{
  "cells": [
    {
      "cell_type": "markdown",
      "metadata": {
        "id": "bacEDFoO3XOz"
      },
      "source": [
        "# Motion Deblurring\n",
        "\n",
        "The project involves deblurring images. The blurred version is obtained through a superposition of slightly translated versions of the same image, following a random trajectory. This kind of blur is supposed to simulate the result of a shot taken with a shaky hand."
      ]
    },
    {
      "cell_type": "code",
      "execution_count": 10,
      "metadata": {
        "id": "tXq5YKgoyJdX"
      },
      "outputs": [],
      "source": [
        "from tensorflow.keras import layers, models\n",
        "from tensorflow.keras.datasets import mnist\n",
        "import tensorflow as tf\n",
        "import numpy as np\n",
        "import matplotlib.pyplot as plt"
      ]
    },
    {
      "cell_type": "markdown",
      "metadata": {
        "id": "VMXlh4Cz4_Vk"
      },
      "source": [
        "We work with images obtained from MNIST."
      ]
    },
    {
      "cell_type": "code",
      "execution_count": 11,
      "metadata": {
        "colab": {
          "base_uri": "https://localhost:8080/"
        },
        "id": "Sb-6a1ZsyuC5",
        "outputId": "bfb00259-939d-40b1-c887-271253703b9a"
      },
      "outputs": [],
      "source": [
        "(x_train, y_train), (x_test, y_test) = mnist.load_data()\n",
        "x_train = (x_train/255.).astype(np.float32)\n",
        "x_test = (x_test/255.).astype(np.float32)"
      ]
    },
    {
      "cell_type": "markdown",
      "metadata": {
        "id": "z6c89m6z5J7N"
      },
      "source": [
        "Below you can find the generator you need to use for your project. Do not modify the number of moves, nor the range of translations. You are free to change the batchsize."
      ]
    },
    {
      "cell_type": "code",
      "execution_count": 12,
      "metadata": {
        "id": "eMU4M2_Ty18E"
      },
      "outputs": [],
      "source": [
        "def generator(dataset,batchsize,moves=10):\n",
        "  while True:\n",
        "    rand = np.random.randint(dataset.shape[0],size=batchsize)\n",
        "    y_truth = dataset[rand]\n",
        "    blurred = np.copy(y_truth)\n",
        "    moving = tf.expand_dims(y_truth,axis=-1)\n",
        "\n",
        "    for i in range(moves):\n",
        "      #RandomTranslation requires a channel axis\n",
        "      moving = layers.RandomTranslation(0.07,0.07,fill_mode='constant',interpolation='bilinear')(moving)\n",
        "      blurred = blurred + tf.squeeze(moving)\n",
        "    blurred = blurred/(moves+1)\n",
        "    yield(blurred,y_truth)\n"
      ]
    },
    {
      "cell_type": "code",
      "execution_count": 13,
      "metadata": {
        "id": "yUHecGrg7y9n"
      },
      "outputs": [],
      "source": [
        "my_gen = generator(x_train,5)"
      ]
    },
    {
      "cell_type": "code",
      "execution_count": 14,
      "metadata": {
        "id": "2cg2crUI2a0W"
      },
      "outputs": [],
      "source": [
        "def plot(x,y):\n",
        "  no = x.shape[0]\n",
        "  print(no)\n",
        "  plt.figure(figsize=(2*no, 4))\n",
        "  for i in range(no):\n",
        "    # display original\n",
        "    ax = plt.subplot(2, no, i + 1)\n",
        "    plt.imshow(x[i])\n",
        "    plt.gray()\n",
        "    ax.get_xaxis().set_visible(False)\n",
        "    ax.get_yaxis().set_visible(False)\n",
        "\n",
        "    # display reconstruction\n",
        "    ax = plt.subplot(2, no, i + 1 + no)\n",
        "    plt.imshow(y[i])\n",
        "    plt.gray()\n",
        "    ax.get_xaxis().set_visible(False)\n",
        "    ax.get_yaxis().set_visible(False)\n",
        "  plt.show()"
      ]
    },
    {
      "cell_type": "markdown",
      "metadata": {
        "id": "lVt0nxCeEfVJ"
      },
      "source": [
        "Here we plot some examples. In the first row you see the blurred image, and in the second the original image, that is the ground truth that you are suppose to obtain through deblurring."
      ]
    },
    {
      "cell_type": "code",
      "execution_count": 15,
      "metadata": {
        "colab": {
          "base_uri": "https://localhost:8080/",
          "height": 355
        },
        "id": "6CtE9rzb78Hg",
        "outputId": "ae62d84f-79e3-4cdf-f1c5-d9ca594cca83"
      },
      "outputs": [
        {
          "name": "stdout",
          "output_type": "stream",
          "text": [
            "5\n"
          ]
        },
        {
          "data": {
            "image/png": "[encoded data removed]",
            "text/plain": [
              "<Figure size 1000x400 with 10 Axes>"
            ]
          },
          "metadata": {},
          "output_type": "display_data"
        }
      ],
      "source": [
        "test_x,test_y = next(my_gen)\n",
        "plot(test_x,test_y)"
      ]
    },
    {
      "cell_type": "markdown",
      "metadata": {
        "id": "7TbSJVKZEKig"
      },
      "source": [
        "# Evaluation\n",
        "\n",
        "Use Mean Squared Error (mse) to evaluate the error between the deblurred image and the ground truth.\n",
        "Measure mse on 10000 blurred versions of the validation set.\n",
        "\n",
        "Repeat the prevevious computation 10 times, and gives as a result the **mean\n",
        "mse over the ten rounds, along with the standard deviation**."
      ]
    }
  ],
  "metadata": {
    "accelerator": "GPU",
    "colab": {
      "gpuType": "V100",
      "machine_shape": "hm",
      "provenance": []
    },
    "kernelspec": {
      "display_name": "Python 3",
      "name": "python3"
    },
    "language_info": {
      "codemirror_mode": {
        "name": "ipython",
        "version": 3
      },
      "file_extension": ".py",
      "mimetype": "text/x-python",
      "name": "python",
      "nbconvert_exporter": "python",
      "pygments_lexer": "ipython3",
      "version": "3.11.7"
    }
  },
  "nbformat": 4,
  "nbformat_minor": 0
}
