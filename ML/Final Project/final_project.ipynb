{
 "cells": [
  {
   "cell_type": "markdown",
   "metadata": {},
   "source": [
    "<div align=\"center\">\n",
    "<h1>Final Project: Motion Deblurring</font></h1>\n",
    "<h2>Course: Machine Learning</font></h2>\n",
    "\n",
    "<img src=\"./images/unibo.png\" alt=\"unibo_logo\" width=\"200\"/>\n",
    "\n",
    "<h3>Professor: Andrea Asperti</font></h3>\n",
    "<h3>University: Università degli Studi di Bologna</font></h3>\n",
    "<h3>Author: Lluis Barca Pons</font></h3>\n",
    "<h3>Date: 2024-01-15</font></h3>\n",
    "</div>"
   ]
  },
  {
   "cell_type": "markdown",
   "metadata": {},
   "source": [
    "***"
   ]
  },
  {
   "cell_type": "markdown",
   "metadata": {},
   "source": [
    " ### <font color='289C4E'>Table of contents<font><a class='anchor' id='top'></a>\n",
    "1. [Introduction](#1)\n",
    "   - [Project Overview](#1.1)\n",
    "   - [Dataset Description](#1.2)\n",
    "2. [Setup](#2)\n",
    "3. [Data Loading and Preprocessing](#3)"
   ]
  },
  {
   "cell_type": "markdown",
   "metadata": {},
   "source": [
    "[<h1 align=\"center\"><font color='green'>1. Introduction</font></h1>](#1)"
   ]
  },
  {
   "cell_type": "markdown",
   "metadata": {},
   "source": [
    "[<h2> <font color='gray'>1.1. Project Overview</font></h2>](#1.1)"
   ]
  },
  {
   "cell_type": "markdown",
   "metadata": {},
   "source": [
    "In this project, our primary objective is to tackle the challenge of motion deblurring in images. Motion blur is a common issue in photography and occurs when the camera or subject moves during the capture of a photo, resulting in a smeared or blurred appearance. This effect can often degrade the quality of an image and obscure details.\n",
    "\n",
    "The goal is to develop and implement a machine learning model that can effectively deblur such images, restoring them to a clearer state. This process involves not only the removal of blur but also the preservation of underlying image details."
   ]
  },
  {
   "cell_type": "markdown",
   "metadata": {},
   "source": [
    "[<h2> <font color='gray'>1.2. Dataset Description</font></h2>](#1.2)"
   ]
  },
  {
   "cell_type": "markdown",
   "metadata": {},
   "source": [
    "We will be using the MNIST dataset, which is a widely recognized collection of handwritten digits commonly used in image processing and machine learning. Each image in the dataset is a 28x28 grayscale representation of digits from 0 to 9."
   ]
  },
  {
   "cell_type": "markdown",
   "metadata": {},
   "source": [
    "## 1.3. Challenge Specifics"
   ]
  },
  {
   "cell_type": "markdown",
   "metadata": {},
   "source": [
    "For this project, the challenge involves artificially introducing motion blur into these MNIST images. The blurring process mimics the effect of a shaky hand or a moving camera. Our task will be to reverse this blurring – effectively developing a deblurring algorithm that can recover the original, unblurred image.\n",
    "\n",
    "This project will encompass various stages, including data preparation, model development, training, and evaluation. The success of the deblurring algorithm will be quantitatively assessed using the Mean Squared Error (MSE) metric, comparing the deblurred images with the original, unaltered images from the MNIST dataset."
   ]
  },
  {
   "cell_type": "markdown",
   "metadata": {},
   "source": [
    "[<h1 align=\"center\"><font color='green'>2. Setup</font></h1>](#2)"
   ]
  },
  {
   "cell_type": "markdown",
   "metadata": {},
   "source": [
    "This section involves setting up the necessary environment for our motion deblurring project. It includes importing required libraries and setting some initial parameters that will be used throughout the notebook."
   ]
  },
  {
   "cell_type": "markdown",
   "metadata": {},
   "source": [
    "## 2.1. Import Libraries"
   ]
  },
  {
   "cell_type": "markdown",
   "metadata": {},
   "source": [
    "First, we'll import all the necessary libraries. This includes libraries for data manipulation, machine learning, and visualization."
   ]
  },
  {
   "cell_type": "code",
   "execution_count": 10,
   "metadata": {},
   "outputs": [],
   "source": [
    "import numpy as np\n",
    "import matplotlib.pyplot as plt\n",
    "import tensorflow as tf\n",
    "from tensorflow.keras.datasets import mnist\n",
    "from tensorflow.keras import Model, layers\n",
    "from tensorflow.keras.layers import Input, Conv2D, MaxPooling2D, UpSampling2D"
   ]
  },
  {
   "cell_type": "markdown",
   "metadata": {},
   "source": [
    "## 2.2. Configure Parameters"
   ]
  },
  {
   "cell_type": "markdown",
   "metadata": {},
   "source": [
    "Here, we can set some global configuration parameters that will be used in the notebook. This could include settings related to image processing, model training, etc."
   ]
  },
  {
   "cell_type": "code",
   "execution_count": 11,
   "metadata": {},
   "outputs": [],
   "source": [
    "batch_size = 10  # Number of samples in each batch\n",
    "image_size = (28, 28)  # Size of the images in the MNIST dataset"
   ]
  },
  {
   "cell_type": "markdown",
   "metadata": {},
   "source": [
    "# 3. Data Loading and Preprocessing"
   ]
  },
  {
   "cell_type": "markdown",
   "metadata": {},
   "source": [
    "In this section, we will load the MNIST dataset and perform necessary preprocessing steps to prepare the data for our deblurring model."
   ]
  },
  {
   "cell_type": "markdown",
   "metadata": {},
   "source": [
    "## 3.1. Load the MNIST Dataset"
   ]
  },
  {
   "cell_type": "markdown",
   "metadata": {},
   "source": [
    "The MNIST dataset is a collection of 28x28 grayscale images of handwritten digits (0-9), as we said. It's widely used for benchmarking image processing systems. We will load this dataset using TensorFlow/Keras utilities."
   ]
  },
  {
   "cell_type": "code",
   "execution_count": 12,
   "metadata": {},
   "outputs": [
    {
     "name": "stdout",
     "output_type": "stream",
     "text": [
      "Training set shape: (60000, 28, 28)\n",
      "Test set shape: (10000, 28, 28)\n"
     ]
    }
   ],
   "source": [
    "# Load MNIST dataset\n",
    "(x_train, y_train), (x_test, y_test) = mnist.load_data()\n",
    "\n",
    "# Display the shape of the datasets\n",
    "print(\"Training set shape:\", x_train.shape)\n",
    "print(\"Test set shape:\", x_test.shape)"
   ]
  },
  {
   "cell_type": "markdown",
   "metadata": {},
   "source": [
    "## 3.2. Preprocess the Data"
   ]
  },
  {
   "cell_type": "markdown",
   "metadata": {},
   "source": [
    "Before feeding the data into our model, we need to preprocess it. This usually involves normalizing the pixel values and reshaping the images as required by our model."
   ]
  },
  {
   "cell_type": "code",
   "execution_count": 13,
   "metadata": {},
   "outputs": [
    {
     "name": "stdout",
     "output_type": "stream",
     "text": [
      "Reshaped training set: (60000, 28, 28)\n",
      "Reshaped test set: (10000, 28, 28)\n"
     ]
    }
   ],
   "source": [
    "# Normalize the pixel values to the range 0-1\n",
    "x_train = x_train.astype('float32') / 255.\n",
    "x_test = x_test.astype('float32') / 255.\n",
    "\n",
    "# Reshape the data to include the channel dimension\n",
    "#x_train = np.expand_dims(x_train, axis=-1)\n",
    "#x_test = np.expand_dims(x_test, axis=-1)\n",
    "\n",
    "# Display the new shape of the datasets\n",
    "print(\"Reshaped training set:\", x_train.shape)\n",
    "print(\"Reshaped test set:\", x_test.shape)"
   ]
  },
  {
   "cell_type": "markdown",
   "metadata": {},
   "source": [
    "It's often useful to visualize some of the data points to understand what our dataset looks like. Let's plot a few images from the MNIST dataset."
   ]
  },
  {
   "cell_type": "code",
   "execution_count": 14,
   "metadata": {},
   "outputs": [
    {
     "data": {
      "image/png": "[encoded data removed]",
      "text/plain": [
       "<Figure size 1000x200 with 10 Axes>"
      ]
     },
     "metadata": {},
     "output_type": "display_data"
    }
   ],
   "source": [
    "# Function to display images\n",
    "def display_images(images, num_images=10):\n",
    "    plt.figure(figsize=(10, 2))\n",
    "    for i in range(num_images):\n",
    "        ax = plt.subplot(1, num_images, i + 1)\n",
    "        plt.imshow(images[i].reshape(28, 28), cmap='gray')\n",
    "        plt.axis('off')\n",
    "    plt.show()\n",
    "\n",
    "# Display a few images from the dataset\n",
    "display_images(x_train)\n"
   ]
  },
  {
   "cell_type": "markdown",
   "metadata": {},
   "source": [
    "# 4. Blurred Image Generation "
   ]
  },
  {
   "cell_type": "markdown",
   "metadata": {},
   "source": [
    "In this section, we will define and utilize a function to artificially introduce motion blur into the MNIST images. This step is crucial for simulating the effect we aim to deblur later."
   ]
  },
  {
   "cell_type": "markdown",
   "metadata": {},
   "source": [
    "## 4.1. Define function to generate blurred images"
   ]
  },
  {
   "cell_type": "markdown",
   "metadata": {},
   "source": [
    "We will create a `generator` function as per the project requirements. This function will take images from the MNIST dataset and apply a motion blur effect. The specifics of the blurring process (like the number of moves and the range of translations) should align with the project guidelines."
   ]
  },
  {
   "cell_type": "code",
   "execution_count": 15,
   "metadata": {},
   "outputs": [],
   "source": [
    "def generator(dataset,batchsize,moves=10):\n",
    "  while True:\n",
    "    rand = np.random.randint(dataset.shape[0],size=batchsize)\n",
    "    y_truth = dataset[rand]\n",
    "    blurred = np.copy(y_truth)\n",
    "    moving = tf.expand_dims(y_truth,axis=-1)\n",
    "\n",
    "    for i in range(moves):\n",
    "      # RandomTranslation requires a channel axis\n",
    "      moving = layers.RandomTranslation(0.07,0.07,fill_mode='constant',interpolation='bilinear')(moving)\n",
    "      blurred = blurred + tf.squeeze(moving)\n",
    "    blurred = blurred/(moves+1)\n",
    "    yield(blurred,y_truth)"
   ]
  },
  {
   "cell_type": "markdown",
   "metadata": {},
   "source": [
    "## 4.2. Generate blurred images examples"
   ]
  },
  {
   "cell_type": "markdown",
   "metadata": {},
   "source": [
    "Let's generate a sample batch of blurred images and visualize them to understand the effect of our blurring function."
   ]
  },
  {
   "cell_type": "code",
   "execution_count": 19,
   "metadata": {},
   "outputs": [
    {
     "data": {
      "image/png": "[encoded data removed]",
      "text/plain": [
       "<Figure size 1000x200 with 10 Axes>"
      ]
     },
     "metadata": {},
     "output_type": "display_data"
    }
   ],
   "source": [
    "\n",
    "# This change affects how TensorFlow's NumPy API (tf.experimental.numpy) operates,\n",
    "# making it more compatible with standard NumPy, particularly in terms of\n",
    "# handling shapes and array operations.\n",
    "tf.experimental.numpy.experimental_enable_numpy_behavior()\n",
    "\n",
    "# Generate a sample batch of blurred images\n",
    "sample_blurred, sample_original = next(generator(x_train, batch_size))\n",
    "\n",
    "# Visualize the blurred images\n",
    "display_images(sample_blurred)"
   ]
  },
  {
   "cell_type": "markdown",
   "metadata": {},
   "source": [
    "# 5. Model Architecture"
   ]
  },
  {
   "cell_type": "markdown",
   "metadata": {},
   "source": [
    "In this section, we will design the architecture of the neural network that will be used to deblur the images. The choice of model architecture can significantly impact the performance of deblurring."
   ]
  },
  {
   "cell_type": "markdown",
   "metadata": {},
   "source": [
    "## 5.1. Designing the model"
   ]
  },
  {
   "cell_type": "markdown",
   "metadata": {},
   "source": [
    "For deblurring tasks, Convolutional Neural Networks (CNNs) are often effective due to their ability to capture spatial hierarchies in images. We will design a simple CNN model as a starting point."
   ]
  },
  {
   "cell_type": "code",
   "execution_count": 20,
   "metadata": {},
   "outputs": [
    {
     "name": "stdout",
     "output_type": "stream",
     "text": [
      "Model: \"model\"\n",
      "_________________________________________________________________\n",
      " Layer (type)                Output Shape              Param #   \n",
      "=================================================================\n",
      " input_1 (InputLayer)        [(None, 28, 28, 1)]       0         \n",
      "                                                                 \n",
      " conv2d (Conv2D)             (None, 28, 28, 32)        320       \n",
      "                                                                 \n",
      " max_pooling2d (MaxPooling2  (None, 14, 14, 32)        0         \n",
      " D)                                                              \n",
      "                                                                 \n",
      " conv2d_1 (Conv2D)           (None, 14, 14, 64)        18496     \n",
      "                                                                 \n",
      " max_pooling2d_1 (MaxPoolin  (None, 7, 7, 64)          0         \n",
      " g2D)                                                            \n",
      "                                                                 \n",
      " conv2d_2 (Conv2D)           (None, 7, 7, 64)          36928     \n",
      "                                                                 \n",
      " up_sampling2d (UpSampling2  (None, 14, 14, 64)        0         \n",
      " D)                                                              \n",
      "                                                                 \n",
      " conv2d_3 (Conv2D)           (None, 14, 14, 32)        18464     \n",
      "                                                                 \n",
      " up_sampling2d_1 (UpSamplin  (None, 28, 28, 32)        0         \n",
      " g2D)                                                            \n",
      "                                                                 \n",
      " conv2d_4 (Conv2D)           (None, 28, 28, 1)         289       \n",
      "                                                                 \n",
      "=================================================================\n",
      "Total params: 74497 (291.00 KB)\n",
      "Trainable params: 74497 (291.00 KB)\n",
      "Non-trainable params: 0 (0.00 Byte)\n",
      "_________________________________________________________________\n"
     ]
    }
   ],
   "source": [
    "def build_model(input_shape):\n",
    "    # Define the model architecture\n",
    "    input_img = Input(shape=input_shape)\n",
    "\n",
    "    # Encoder: a series of Conv2D and MaxPooling2D layers\n",
    "    x = Conv2D(32, (3, 3), activation='relu', padding='same')(input_img)\n",
    "    x = MaxPooling2D((2, 2), padding='same')(x)\n",
    "    x = Conv2D(64, (3, 3), activation='relu', padding='same')(x)\n",
    "    x = MaxPooling2D((2, 2), padding='same')(x)\n",
    "\n",
    "    # Decoder: a series of Conv2D and UpSampling2D layers\n",
    "    x = Conv2D(64, (3, 3), activation='relu', padding='same')(x)\n",
    "    x = UpSampling2D((2, 2))(x)\n",
    "    x = Conv2D(32, (3, 3), activation='relu', padding='same')(x)\n",
    "    x = UpSampling2D((2, 2))(x)\n",
    "    decoded = Conv2D(1, (3, 3), activation='sigmoid', padding='same')(x)\n",
    "\n",
    "    # Declare the model\n",
    "    model = Model(input_img, decoded)\n",
    "    return model\n",
    "\n",
    "# Instantiate the model\n",
    "model = build_model(input_shape=(28, 28, 1))\n",
    "\n",
    "# Display the model summary\n",
    "model.summary()"
   ]
  },
  {
   "cell_type": "markdown",
   "metadata": {},
   "source": [
    "## 5.2. Model Compilation"
   ]
  },
  {
   "cell_type": "markdown",
   "metadata": {},
   "source": [
    "After defining the model architecture, the next step is to compile the model. This includes specifying the optimizer, loss function, and metrics for training."
   ]
  },
  {
   "cell_type": "code",
   "execution_count": 21,
   "metadata": {},
   "outputs": [],
   "source": [
    "model.compile(optimizer='adam', loss='mean_squared_error')"
   ]
  },
  {
   "cell_type": "markdown",
   "metadata": {},
   "source": [
    "# 6. Training the Model"
   ]
  },
  {
   "cell_type": "markdown",
   "metadata": {},
   "source": [
    "In this section, we'll train our neural network on the dataset of blurred images. The goal is to enable the model to learn how to deblur these images effectively."
   ]
  },
  {
   "cell_type": "markdown",
   "metadata": {},
   "source": [
    "## 6.1. Prepare the training data"
   ]
  },
  {
   "cell_type": "markdown",
   "metadata": {},
   "source": [
    "Before training, we need to prepare our dataset. We'll use the previously created generator to produce both blurred and original images for training."
   ]
  },
  {
   "cell_type": "code",
   "execution_count": 22,
   "metadata": {},
   "outputs": [],
   "source": [
    "# Define the number of epochs and steps per epoch for training\n",
    "epochs = 10  # You can adjust this based on your training needs\n",
    "steps_per_epoch = len(x_train) // batch_size\n",
    "\n",
    "# Create a generator for training data\n",
    "train_data_generator = generator(x_train, batch_size)"
   ]
  },
  {
   "cell_type": "markdown",
   "metadata": {},
   "source": [
    "## 6.2. Train the model"
   ]
  },
  {
   "cell_type": "markdown",
   "metadata": {},
   "source": [
    "Now, we'll train the model using the blurred images as input and the original, unblurred images as targets."
   ]
  },
  {
   "cell_type": "code",
   "execution_count": null,
   "metadata": {},
   "outputs": [],
   "source": [
    "# Train the model\n",
    "model.fit(train_data_generator, steps_per_epoch=steps_per_epoch, epochs=epochs)\n",
    "\n",
    "# Save the model for later use\n",
    "model.save('deblurring_model.h5')"
   ]
  },
  {
   "cell_type": "markdown",
   "metadata": {},
   "source": [
    "# 7. Evaluating the Model"
   ]
  },
  {
   "cell_type": "markdown",
   "metadata": {},
   "source": [
    "After training the model, it's important to evaluate its performance to understand how well it can deblur images. We will use the Mean Squared Error (MSE) metric, as specified in the project guidelines, to quantify the model's accuracy."
   ]
  },
  {
   "cell_type": "markdown",
   "metadata": {},
   "source": [
    "## 7.1. Prepare the validation data"
   ]
  },
  {
   "cell_type": "markdown",
   "metadata": {},
   "source": [
    "First, we need to prepare a validation dataset of blurred images to test our model."
   ]
  },
  {
   "cell_type": "code",
   "execution_count": 24,
   "metadata": {},
   "outputs": [],
   "source": [
    "# Create a generator for validation data\n",
    "validation_data_generator = generator(x_test, batch_size)\n",
    "\n",
    "# Generate a set of validation data (blurred and original images)\n",
    "validation_blurred, validation_original = next(validation_data_generator)"
   ]
  },
  {
   "cell_type": "markdown",
   "metadata": {},
   "source": [
    "## 7.2. Evaluate the model"
   ]
  },
  {
   "cell_type": "markdown",
   "metadata": {},
   "source": [
    "We will use the model to deblur the validation images and then compute the MSE against the original (unblurred) images."
   ]
  },
  {
   "cell_type": "code",
   "execution_count": null,
   "metadata": {},
   "outputs": [],
   "source": [
    "# Use the model to deblur validation images\n",
    "deblurred_images = model.predict(validation_blurred)\n",
    "\n",
    "# Compute Mean Squared Error between the deblurred images and the original images\n",
    "mse = np.mean((deblurred_images - validation_original) ** 2)\n",
    "print(f\"Mean Squared Error on Validation Set: {mse}\")"
   ]
  },
  {
   "cell_type": "markdown",
   "metadata": {},
   "source": [
    "## 7.3. Visualize the results"
   ]
  },
  {
   "cell_type": "markdown",
   "metadata": {},
   "source": [
    "It's often helpful to visually assess the deblurring results. Let's display some of the deblurred images alongside their blurred and original counterparts."
   ]
  },
  {
   "cell_type": "code",
   "execution_count": null,
   "metadata": {},
   "outputs": [],
   "source": [
    "# Function to display images side by side for comparison\n",
    "def display_comparison(blurred, deblurred, original, num_images=10):\n",
    "    plt.figure(figsize=(15, 5))\n",
    "    for i in range(num_images):\n",
    "        # Display blurred image\n",
    "        ax = plt.subplot(3, num_images, i + 1)\n",
    "        plt.imshow(blurred[i].reshape(28, 28), cmap='gray')\n",
    "        plt.title(\"Blurred\")\n",
    "        plt.axis('off')\n",
    "\n",
    "        # Display deblurred image\n",
    "        ax = plt.subplot(3, num_images, i + 1 + num_images)\n",
    "        plt.imshow(deblurred[i].reshape(28, 28), cmap='gray')\n",
    "        plt.title(\"Deblurred\")\n",
    "        plt.axis('off')\n",
    "\n",
    "        # Display original image\n",
    "        ax = plt.subplot(3, num_images, i + 1 + 2 * num_images)\n",
    "        plt.imshow(original[i].reshape(28, 28), cmap='gray')\n",
    "        plt.title(\"Original\")\n",
    "        plt.axis('off')\n",
    "    plt.show()\n",
    "\n",
    "# Display the comparison\n",
    "display_comparison(validation_blurred, deblurred_images, validation_original)\n"
   ]
  },
  {
   "cell_type": "markdown",
   "metadata": {},
   "source": [
    "# 8. Results Visualization"
   ]
  },
  {
   "cell_type": "markdown",
   "metadata": {},
   "source": [
    "Visualizing the results is a key step in understanding the effectiveness of our deblurring model. This section will focus on comparing the blurred, deblurred, and original images, providing insights into the model's performance."
   ]
  },
  {
   "cell_type": "markdown",
   "metadata": {},
   "source": [
    "## 8.1. Detailed comparison of Images"
   ]
  },
  {
   "cell_type": "markdown",
   "metadata": {},
   "source": [
    "To get a clearer picture of how our model performs, we'll display a set of images before and after deblurring, alongside their corresponding original images. This visual comparison helps in assessing the quality of the deblurring process."
   ]
  },
  {
   "cell_type": "code",
   "execution_count": null,
   "metadata": {},
   "outputs": [],
   "source": [
    "# Function for detailed comparison\n",
    "def detailed_comparison(blurred, deblurred, original, indices):\n",
    "    plt.figure(figsize=(15, 5))\n",
    "    for i, idx in enumerate(indices):\n",
    "        # Display blurred image\n",
    "        ax = plt.subplot(3, len(indices), i + 1)\n",
    "        plt.imshow(blurred[idx].reshape(28, 28), cmap='gray')\n",
    "        plt.title(f\"Blurred\\nIndex: {idx}\")\n",
    "        plt.axis('off')\n",
    "\n",
    "        # Display deblurred image\n",
    "        ax = plt.subplot(3, len(indices), i + 1 + len(indices))\n",
    "        plt.imshow(deblurred[idx].reshape(28, 28), cmap='gray')\n",
    "        plt.title(\"Deblurred\")\n",
    "        plt.axis('off')\n",
    "\n",
    "        # Display original image\n",
    "        ax = plt.subplot(3, len(indices), i + 1 + 2 * len(indices))\n",
    "        plt.imshow(original[idx].reshape(28, 28), cmap='gray')\n",
    "        plt.title(\"Original\")\n",
    "        plt.axis('off')\n",
    "    plt.show()\n",
    "\n",
    "# Select specific indices for detailed comparison\n",
    "selected_indices = [0, 1, 2, 3, 4]  # You can choose different indices based on your dataset\n",
    "detailed_comparison(validation_blurred, deblurred_images, validation_original, selected_indices)\n"
   ]
  },
  {
   "cell_type": "markdown",
   "metadata": {},
   "source": [
    "## 8.2. Analysis of Results"
   ]
  },
  {
   "cell_type": "markdown",
   "metadata": {},
   "source": [
    "After visualizing the comparisons, it's important to analyze the results. Consider the following points:\n",
    "\n",
    "- How well does the model remove blur from the images?\n",
    "- Are there any noticeable artifacts introduced by the deblurring process?\n",
    "- How close are the deblurred images to the original images?\n",
    "\n",
    "Reflect on these questions and any other observations you may have. This analysis will help in understanding the model's strengths and limitations."
   ]
  },
  {
   "cell_type": "markdown",
   "metadata": {},
   "source": [
    "# 9. Conclusion and Discusion"
   ]
  }
 ],
 "metadata": {
  "kernelspec": {
   "display_name": "Python 3",
   "language": "python",
   "name": "python3"
  },
  "language_info": {
   "codemirror_mode": {
    "name": "ipython",
    "version": 3
   },
   "file_extension": ".py",
   "mimetype": "text/x-python",
   "name": "python",
   "nbconvert_exporter": "python",
   "pygments_lexer": "ipython3",
   "version": "3.11.7"
  }
 },
 "nbformat": 4,
 "nbformat_minor": 2
}
