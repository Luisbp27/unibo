{
 "cells": [
  {
   "cell_type": "markdown",
   "metadata": {},
   "source": [
    "# Final Project: Motion Deblurring\n",
    "## Course: Machine Learning\n",
    "### Author: Lluis Barca\n",
    "### Date: 2024-01-15\n",
    "### Professor: Andrea Asperti\n",
    "### University: Università degli Studi di Bologna"
   ]
  },
  {
   "cell_type": "markdown",
   "metadata": {},
   "source": [
    "# 1. Introduction"
   ]
  },
  {
   "cell_type": "markdown",
   "metadata": {},
   "source": [
    "# 2. Data preparation"
   ]
  },
  {
   "cell_type": "code",
   "execution_count": 1,
   "metadata": {},
   "outputs": [
    {
     "name": "stderr",
     "output_type": "stream",
     "text": [
      "2024-01-08 17:22:55.649358: I tensorflow/core/platform/cpu_feature_guard.cc:182] This TensorFlow binary is optimized to use available CPU instructions in performance-critical operations.\n",
      "To enable the following instructions: AVX2 FMA, in other operations, rebuild TensorFlow with the appropriate compiler flags.\n"
     ]
    }
   ],
   "source": [
    "import pandas as pd\n",
    "import numpy as np\n",
    "import matplotlib.pyplot as plt\n",
    "from tensorflow.keras.datasets import mnist"
   ]
  },
  {
   "cell_type": "code",
   "execution_count": 2,
   "metadata": {},
   "outputs": [
    {
     "data": {
      "image/png": "[encoded data removed]",
      "text/plain": [
       "<Figure size 1000x400 with 10 Axes>"
      ]
     },
     "metadata": {},
     "output_type": "display_data"
    }
   ],
   "source": [
    "def blur_image(image, blur_factor=3):\n",
    "    \"\"\"Apply motion blur to a single image.\"\"\"\n",
    "    # Initialize the blurred image with zeros\n",
    "    blurred_image = np.zeros_like(image)\n",
    "\n",
    "    # Accumulate translated versions of the image\n",
    "    for shift in range(-blur_factor, blur_factor + 1):\n",
    "        # Shift the image and add it to the accumulator\n",
    "        shifted_image = np.roll(image, shift, axis=0)\n",
    "        blurred_image += shifted_image\n",
    "\n",
    "    # Normalize the blurred image\n",
    "    blurred_image = blurred_image / (2 * blur_factor + 1)\n",
    "    return blurred_image\n",
    "\n",
    "# Load MNIST dataset\n",
    "(train_images, _), (test_images, _) = mnist.load_data()\n",
    "\n",
    "# Normalize the images to the range [0, 1]\n",
    "train_images = train_images.astype('float32') / 255\n",
    "test_images = test_images.astype('float32') / 255\n",
    "\n",
    "# Apply blur to the first few images for demonstration\n",
    "num_examples = 5\n",
    "original_images = train_images[:num_examples]\n",
    "blurred_images = np.array([blur_image(img) for img in original_images])\n",
    "\n",
    "# Plot original and blurred images\n",
    "plt.figure(figsize=(10, 4))\n",
    "for i in range(num_examples):\n",
    "    # Display original image\n",
    "    plt.subplot(2, num_examples, i + 1)\n",
    "    plt.imshow(original_images[i], cmap='gray')\n",
    "    plt.title(\"Original\")\n",
    "    plt.axis('off')\n",
    "\n",
    "    # Display blurred image\n",
    "    plt.subplot(2, num_examples, num_examples + i + 1)\n",
    "    plt.imshow(blurred_images[i], cmap='gray')\n",
    "    plt.title(\"Blurred\")\n",
    "    plt.axis('off')\n",
    "\n",
    "plt.tight_layout()\n",
    "plt.show()\n"
   ]
  },
  {
   "cell_type": "markdown",
   "metadata": {},
   "source": [
    "# 3. Deblurring model"
   ]
  },
  {
   "cell_type": "markdown",
   "metadata": {},
   "source": [
    "# 4. Training "
   ]
  },
  {
   "cell_type": "markdown",
   "metadata": {},
   "source": [
    "# 5. Evaluation"
   ]
  },
  {
   "cell_type": "markdown",
   "metadata": {},
   "source": [
    "# 6. Iteration and improvement"
   ]
  },
  {
   "cell_type": "markdown",
   "metadata": {},
   "source": [
    "# 7. Visualization and discussion"
   ]
  },
  {
   "cell_type": "code",
   "execution_count": null,
   "metadata": {},
   "outputs": [],
   "source": []
  }
 ],
 "metadata": {
  "kernelspec": {
   "display_name": "Python 3",
   "language": "python",
   "name": "python3"
  },
  "language_info": {
   "codemirror_mode": {
    "name": "ipython",
    "version": 3
   },
   "file_extension": ".py",
   "mimetype": "text/x-python",
   "name": "python",
   "nbconvert_exporter": "python",
   "pygments_lexer": "ipython3",
   "version": "3.11.7"
  }
 },
 "nbformat": 4,
 "nbformat_minor": 2
}
