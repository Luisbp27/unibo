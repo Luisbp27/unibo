{
 "cells": [
  {
   "cell_type": "markdown",
   "metadata": {},
   "source": [
    "<div style=\"text-align: center;\">\n",
    "<h1>Final Project: Motion Deblurring</font></h1>\n",
    "<h2>Course: Machine Learning</font></h2>\n",
    "\n",
    "<center><img src=\"./images/unibo.png\" alt=\"unibo_logo\" width=\"200\"/></center>\n",
    "\n",
    "<h3>Professor: Andrea Asperti</font></h3>\n",
    "<h3>University: Università degli Studi di Bologna</font></h3>\n",
    "<h3>Author: Lluis Barca Pons</font></h3>\n",
    "<h3>Date: 2024-01-15</font></h3>\n",
    "</div>"
   ]
  },
  {
   "cell_type": "markdown",
   "metadata": {},
   "source": [
    "***"
   ]
  },
  {
   "cell_type": "markdown",
   "metadata": {},
   "source": [
    " ### <font color='BB2E29'>Table of contents<font><a class='anchor' id='top'></a>\n",
    "1. [Introduction](#1)\n",
    "   - [Project Overview](#1.1)\n",
    "   - [Dataset Description](#1.2)\n",
    "   - [Challenge Specifics](#1.3)\n",
    "2. [Setup](#2)\n",
    "   - [Import Libraries](#2.1)\n",
    "   - [Configure Parameters ](#2.2)\n",
    "3. [Data Loading and Preprocessing](#3)\n",
    "   - [Loading MNIST Data Set](#3.1)\n",
    "   - [Data Preprocessing](#3.2)\n",
    "4. [Blurred Image Generation](#4)\n",
    "   - [Blurring Function](#4.1) \n",
    "   - [Generating Blurred Images](#4.2)\n",
    "5. [Model Architecture](#5)\n",
    "   - [Model Definition](#5.1)\n",
    "   - [Model Compilation](#5.2) \n",
    "6. [Model Training](#6) \n",
    "   - [Prepare the training data](#6.1)\n",
    "   - [Train the model](#6.2)\n",
    "7. [Model Evaluation](#7)\n",
    "   - [Prepare the validation data](#7.1) \n",
    "   - [Evaluate the model](#7.2)\n",
    "   - [Visualize the results](#7.3)\n",
    "8.  [Results Visualization](#8)\n",
    "    - [Detailed comparision of images](#8.1)\n",
    "    - [Analysis of the results](#8.2)\n",
    "9. [Conclusions](#9)"
   ]
  },
  {
   "cell_type": "markdown",
   "metadata": {},
   "source": [
    "<h1 align=\"center\"><font color='BB2E29'>1. Introduction</font></h1> <a class=\"anchor\" id=\"1\"></a>"
   ]
  },
  {
   "cell_type": "markdown",
   "metadata": {},
   "source": [
    "<h2> <font color='black'>1.1. Project Overview</font></h2> <a class=\"anchor\" id=\"1.1\"></a>"
   ]
  },
  {
   "cell_type": "markdown",
   "metadata": {},
   "source": [
    "In this project, our primary objective is to achieve the challenge of motion deblurring in images. Motion blur is a common issue in photography and occurs when the camera or subject moves during the capture of a photo, resulting in a smeared or blurred appearance. This effect can often degrade the quality of an image and obscure details.\n",
    "\n",
    "The goal is to develop and implement a machine learning model that can effectively deblur such images, restoring them to a clearer state. This process involves not only the removal of blur but also the preservation of underlying image details."
   ]
  },
  {
   "cell_type": "markdown",
   "metadata": {},
   "source": [
    "<h2> <font color='black'>1.2. Dataset Description</font></h2> <a class=\"anchor\" id=\"1.2\"></a>"
   ]
  },
  {
   "cell_type": "markdown",
   "metadata": {},
   "source": [
    "We will be using the MNIST dataset, which is a widely recognized collection of handwritten digits commonly used in image processing and machine learning. Each image in the dataset is a 28x28 grayscale representation of digits from 0 to 9."
   ]
  },
  {
   "cell_type": "markdown",
   "metadata": {},
   "source": [
    "<h2> <font color='black'>1.3. Challenge Specifics</font></h2> <a class=\"anchor\" id=\"1.3\"></a>"
   ]
  },
  {
   "cell_type": "markdown",
   "metadata": {},
   "source": [
    "For this project, the challenge involves artificially introducing motion blur into these MNIST images. The blurring process mimics the effect of a shaky hand or a moving camera. Our task will be to reverse this blurring – effectively developing a deblurring algorithm that can recover the original, unblurred image.\n",
    "\n",
    "This project will encompass various stages, including data preparation, model development, training, and evaluation. The success of the deblurring algorithm will be quantitatively assessed using the Mean Squared Error (MSE) metric, comparing the deblurred images with the original, unaltered images from the MNIST dataset."
   ]
  },
  {
   "cell_type": "markdown",
   "metadata": {},
   "source": [
    "<h1 align=\"center\"><font color='BB2E29'>2. Setup</font></h1> <a class=\"anchor\" id=\"2\"></a>"
   ]
  },
  {
   "cell_type": "markdown",
   "metadata": {},
   "source": [
    "This section involves setting up the necessary environment for our motion deblurring project. It includes importing required libraries and setting some initial parameters that will be used throughout the notebook."
   ]
  },
  {
   "cell_type": "markdown",
   "metadata": {},
   "source": [
    "<h2> <font color='black'>2.1. Import Libraries</font></h2> <a class=\"anchor\" id=\"2.1\"></a>"
   ]
  },
  {
   "cell_type": "markdown",
   "metadata": {},
   "source": [
    "First, we'll import all the necessary libraries. This includes libraries for data manipulation, machine learning, and visualization."
   ]
  },
  {
   "cell_type": "code",
   "execution_count": 16,
   "metadata": {},
   "outputs": [],
   "source": [
    "import numpy as np\n",
    "import matplotlib.pyplot as plt\n",
    "import tensorflow as tf\n",
    "from tensorflow.keras.datasets import mnist\n",
    "from tensorflow.keras import Model, layers\n",
    "from tensorflow.keras.layers import Conv2D, Input, Add\n",
    "from tensorflow.keras.callbacks import EarlyStopping"
   ]
  },
  {
   "cell_type": "markdown",
   "metadata": {},
   "source": [
    "<h2> <font color='black'>2.2. Configure Parameters</font></h2> <a class=\"anchor\" id=\"2.2\"></a>"
   ]
  },
  {
   "cell_type": "markdown",
   "metadata": {},
   "source": [
    "Here, we can set some global configuration parameters that will be used in the notebook. This could include settings related to image processing, model training, etc."
   ]
  },
  {
   "cell_type": "code",
   "execution_count": 17,
   "metadata": {},
   "outputs": [],
   "source": [
    "batch_size = 10000  # Number of samples in each batch\n",
    "image_size = (28, 28)  # Size of the images in the MNIST dataset\n",
    "epochs = 10 # Number of times the whole data is used to learn"
   ]
  },
  {
   "cell_type": "markdown",
   "metadata": {},
   "source": [
    "<h1 align=\"center\"><font color='BB2E29'>3. Data Loading and Preprocessing</font></h1> <a class=\"anchor\" id=\"3\"></a>"
   ]
  },
  {
   "cell_type": "markdown",
   "metadata": {},
   "source": [
    "In this section, we will load the MNIST dataset and perform necessary preprocessing steps to prepare the data for our deblurring model."
   ]
  },
  {
   "cell_type": "markdown",
   "metadata": {},
   "source": [
    "<h2> <font color='black'>3.1. Loading MNIST Data Set</font></h2> <a class=\"anchor\" id=\"3.1\"></a>"
   ]
  },
  {
   "cell_type": "markdown",
   "metadata": {},
   "source": [
    "The MNIST dataset is a collection of 28x28 grayscale images of handwritten digits (0-9), as we said. It's widely used for benchmarking image processing systems. We will load this dataset using TensorFlow/Keras utilities."
   ]
  },
  {
   "cell_type": "code",
   "execution_count": 18,
   "metadata": {},
   "outputs": [
    {
     "name": "stdout",
     "output_type": "stream",
     "text": [
      "Training set shape: (60000, 28, 28)\n",
      "Test set shape: (10000, 28, 28)\n"
     ]
    }
   ],
   "source": [
    "# Load MNIST dataset\n",
    "(x_train, y_train), (x_test, y_test) = mnist.load_data()\n",
    "\n",
    "# Display the shape of the datasets\n",
    "print(\"Training set shape:\", x_train.shape)\n",
    "print(\"Test set shape:\", x_test.shape)"
   ]
  },
  {
   "cell_type": "markdown",
   "metadata": {},
   "source": [
    "<h2> <font color='black'>3.2. Data Preprocessing</font></h2> <a class=\"anchor\" id=\"3.2\"></a>"
   ]
  },
  {
   "cell_type": "markdown",
   "metadata": {},
   "source": [
    "Before feeding the data into our model, we need to preprocess it. This usually involves normalizing the pixel values."
   ]
  },
  {
   "cell_type": "code",
   "execution_count": 19,
   "metadata": {},
   "outputs": [
    {
     "name": "stdout",
     "output_type": "stream",
     "text": [
      "Training Data - min: 0.0 , max: 1.0\n",
      "Test Data - min: 0.0 , max: 1.0\n"
     ]
    }
   ],
   "source": [
    "# Normalize the pixel values to the range 0-1\n",
    "x_train = x_train.astype('float32') / 255.\n",
    "x_test = x_test.astype('float32') / 255.\n",
    "\n",
    "# Range check\n",
    "print(\"Training Data - min:\", np.min(x_train), \", max:\", np.max(x_train))\n",
    "print(\"Test Data - min:\", np.min(x_test), \", max:\", np.max(x_test))"
   ]
  },
  {
   "cell_type": "markdown",
   "metadata": {},
   "source": [
    "It's often useful to visualize some of the data points to understand what our dataset looks like. Let's plot a few images from the MNIST dataset."
   ]
  },
  {
   "cell_type": "code",
   "execution_count": 20,
   "metadata": {},
   "outputs": [
    {
     "data": {
      "image/png": "[encoded data removed]",
      "text/plain": [
       "<Figure size 1000x200 with 10 Axes>"
      ]
     },
     "metadata": {},
     "output_type": "display_data"
    }
   ],
   "source": [
    "tf.experimental.numpy.experimental_enable_numpy_behavior()\n",
    "\n",
    "# Function to display images\n",
    "def display_images(images, num_images=10):\n",
    "    plt.figure(figsize=(10, 2))\n",
    "    for i in range(num_images):\n",
    "        ax = plt.subplot(1, num_images, i + 1)\n",
    "        plt.imshow(images[i].reshape(28, 28), cmap='gray')\n",
    "        plt.axis('off')\n",
    "    plt.show()\n",
    "\n",
    "# Display a few images from the dataset\n",
    "display_images(x_train)"
   ]
  },
  {
   "cell_type": "markdown",
   "metadata": {},
   "source": [
    "<h1 align=\"center\"><font color='BB2E29'>4. Blurred Image Generation</font></h1> <a class=\"anchor\" id=\"4\"></a>"
   ]
  },
  {
   "cell_type": "markdown",
   "metadata": {},
   "source": [
    "In this section, we will define and utilize a function to artificially introduce motion blur into the MNIST images. This step is crucial for simulating the effect we aim to deblur later."
   ]
  },
  {
   "cell_type": "markdown",
   "metadata": {},
   "source": [
    "<h2> <font color='black'>4.1. Blurring Function</font></h2> <a class=\"anchor\" id=\"4.1\"></a>"
   ]
  },
  {
   "cell_type": "markdown",
   "metadata": {},
   "source": [
    "We have the method to `generator` the method which has been delivered ready-made by the teacher. This function will take images from the MNIST dataset and apply a motion blur effect. The specifics of the blurring process (like the number of moves and the range of translations) should align with the project guidelines."
   ]
  },
  {
   "cell_type": "code",
   "execution_count": 21,
   "metadata": {},
   "outputs": [],
   "source": [
    "def generator(dataset,batchsize,moves=10):\n",
    "  while True:\n",
    "    rand = np.random.randint(dataset.shape[0],size=batchsize)\n",
    "    y_truth = dataset[rand]\n",
    "    blurred = np.copy(y_truth)\n",
    "    moving = tf.expand_dims(y_truth,axis=-1)\n",
    "\n",
    "    for i in range(moves):\n",
    "      # RandomTranslation requires a channel axis\n",
    "      moving = layers.RandomTranslation(0.07,0.07,fill_mode='constant',interpolation='bilinear')(moving)\n",
    "      blurred = blurred + tf.squeeze(moving)\n",
    "    blurred = blurred/(moves+1)\n",
    "    yield(blurred,y_truth)"
   ]
  },
  {
   "cell_type": "markdown",
   "metadata": {},
   "source": [
    "<h2> <font color='black'>4.2. Generating Blurred Images</font></h2> <a class=\"anchor\" id=\"4.2\"></a>"
   ]
  },
  {
   "cell_type": "markdown",
   "metadata": {},
   "source": [
    "Let's generate a sample batch of blurred images and visualize them to understand the effect of our blurring function."
   ]
  },
  {
   "cell_type": "code",
   "execution_count": 22,
   "metadata": {},
   "outputs": [
    {
     "name": "stdout",
     "output_type": "stream",
     "text": [
      "Blurred Images - min: tf.Tensor(0.0, shape=(), dtype=float32) , max: tf.Tensor(0.99922544, shape=(), dtype=float32)\n"
     ]
    },
    {
     "data": {
      "image/png": "[encoded data removed]",
      "text/plain": [
       "<Figure size 1000x200 with 10 Axes>"
      ]
     },
     "metadata": {},
     "output_type": "display_data"
    }
   ],
   "source": [
    "# Generate a sample batch of blurred images\n",
    "sample_blurred, sample_original = next(generator(x_train, batch_size))\n",
    "\n",
    "# Range check\n",
    "print(\"Blurred Images - min:\", np.min(sample_blurred), \", max:\", np.max(sample_blurred))\n",
    "\n",
    "# Visualize the blurred images\n",
    "display_images(sample_blurred)"
   ]
  },
  {
   "cell_type": "markdown",
   "metadata": {},
   "source": [
    "<h1 align=\"center\"><font color='BB2E29'>5. Model Architecture</font></h1> <a class=\"anchor\" id=\"5\"></a>"
   ]
  },
  {
   "cell_type": "markdown",
   "metadata": {},
   "source": [
    "We will design the architecture of the neural network that will be used to deblur the images. The choice of model architecture can significantly impact the performance of deblurring."
   ]
  },
  {
   "cell_type": "markdown",
   "metadata": {},
   "source": [
    "<h2> <font color='black'>5.1. Model Definition</font></h2> <a class=\"anchor\" id=\"5.1\"></a>"
   ]
  },
  {
   "cell_type": "markdown",
   "metadata": {},
   "source": [
    "For deblurring tasks, Convolutional Neural Networks (CNNs) are often effective due to their ability to capture spatial hierarchies in images.\n",
    "- `Conv2D` layers are used to extract features from the input image.\n",
    "- `Add` layers are used to add the original image to the extracted features, helping to preserve the underlying image details.\n",
    "\n",
    "This layers has different hyperparameters: \n",
    "- `activation` is the activation function to use. We will use the `relu` function, which is a common choice for CNNs.\n",
    "- `padding` is the padding to use in the convolutional layers. We will use `same` padding, which pads the input such that the output has the same length as the original input.\n",
    "- `kernel_size` is the size of the convolutional kernel. We will use a 3x3 kernel for all convolutional layers."
   ]
  },
  {
   "cell_type": "code",
   "execution_count": 23,
   "metadata": {},
   "outputs": [
    {
     "name": "stdout",
     "output_type": "stream",
     "text": [
      "Model: \"model_1\"\n",
      "__________________________________________________________________________________________________\n",
      " Layer (type)                Output Shape                 Param #   Connected to                  \n",
      "==================================================================================================\n",
      " input_2 (InputLayer)        [(None, 28, 28, 1)]          0         []                            \n",
      "                                                                                                  \n",
      " conv2d_3 (Conv2D)           (None, 28, 28, 32)           320       ['input_2[0][0]']             \n",
      "                                                                                                  \n",
      " conv2d_4 (Conv2D)           (None, 28, 28, 32)           9248      ['conv2d_3[0][0]']            \n",
      "                                                                                                  \n",
      " add_1 (Add)                 (None, 28, 28, 32)           0         ['conv2d_4[0][0]',            \n",
      "                                                                     'conv2d_3[0][0]']            \n",
      "                                                                                                  \n"
     ]
    },
    {
     "name": "stdout",
     "output_type": "stream",
     "text": [
      " conv2d_5 (Conv2D)           (None, 28, 28, 1)            289       ['add_1[0][0]']               \n",
      "                                                                                                  \n",
      "==================================================================================================\n",
      "Total params: 9857 (38.50 KB)\n",
      "Trainable params: 9857 (38.50 KB)\n",
      "Non-trainable params: 0 (0.00 Byte)\n",
      "__________________________________________________________________________________________________\n"
     ]
    }
   ],
   "source": [
    "def build_model(input_shape):\n",
    "    # Define the model architecture\n",
    "    input_img = Input(shape=input_shape)\n",
    "\n",
    "    # Encoder\n",
    "    x1 = Conv2D(32, (3, 3), activation='relu', padding='same')(input_img)\n",
    "\n",
    "    # Decoder\n",
    "    x2 = Conv2D(32, (3, 3), activation='relu', padding='same')(x1)\n",
    "    x2= Add()([x2, x1])  # Skip connection\n",
    "\n",
    "    # Output layer\n",
    "    decoded = Conv2D(1, (3, 3), activation='sigmoid', padding='same')(x2)\n",
    "\n",
    "    # Declare the model\n",
    "    model = Model(input_img, decoded)\n",
    "\n",
    "    return model\n",
    "\n",
    "model = build_model(input_shape=(28, 28, 1))\n",
    "model.summary()"
   ]
  },
  {
   "cell_type": "markdown",
   "metadata": {},
   "source": [
    "<h2> <font color='black'>5.2. Model Compilation</font></h2> <a class=\"anchor\" id=\"5.2\"></a>"
   ]
  },
  {
   "cell_type": "markdown",
   "metadata": {},
   "source": [
    "After defining the model architecture, the next step is to compile the model. This includes:\n",
    "- `Optimizer`: The optimizer is responsible for updating the model parameters during training. We will use the Adam optimizer, which is a popular choice for deep learning tasks.\n",
    "- `Loss function`: The loss function is used to compute the quantity that the model should seek to minimize during training. We will use the Mean Squared Error (MSE) loss, as a mandatory requirement."
   ]
  },
  {
   "cell_type": "code",
   "execution_count": 24,
   "metadata": {},
   "outputs": [
    {
     "name": "stdout",
     "output_type": "stream",
     "text": [
      "Model: \"model_1\"\n",
      "__________________________________________________________________________________________________\n",
      " Layer (type)                Output Shape                 Param #   Connected to                  \n",
      "==================================================================================================\n",
      " input_2 (InputLayer)        [(None, 28, 28, 1)]          0         []                            \n",
      "                                                                                                  \n",
      " conv2d_3 (Conv2D)           (None, 28, 28, 32)           320       ['input_2[0][0]']             \n",
      "                                                                                                  \n",
      " conv2d_4 (Conv2D)           (None, 28, 28, 32)           9248      ['conv2d_3[0][0]']            \n",
      "                                                                                                  \n",
      " add_1 (Add)                 (None, 28, 28, 32)           0         ['conv2d_4[0][0]',            \n",
      "                                                                     'conv2d_3[0][0]']            \n",
      "                                                                                                  \n",
      " conv2d_5 (Conv2D)           (None, 28, 28, 1)            289       ['add_1[0][0]']               \n",
      "                                                                                                  \n",
      "==================================================================================================\n",
      "Total params: 9857 (38.50 KB)\n",
      "Trainable params: 9857 (38.50 KB)\n",
      "Non-trainable params: 0 (0.00 Byte)\n",
      "__________________________________________________________________________________________________\n"
     ]
    }
   ],
   "source": [
    "model.compile(optimizer='adam', loss='mean_squared_error')\n",
    "model.summary()"
   ]
  },
  {
   "cell_type": "markdown",
   "metadata": {},
   "source": [
    "<h1 align=\"center\"><font color='BB2E29'>6. Model Training</font></h1> <a class=\"anchor\" id=\"6\"></a>"
   ]
  },
  {
   "cell_type": "markdown",
   "metadata": {},
   "source": [
    "In this section, we'll train our neural network on the dataset of blurred images. The goal is to enable the model to learn how to deblur these images effectively."
   ]
  },
  {
   "cell_type": "markdown",
   "metadata": {},
   "source": [
    "<h2> <font color='black'>6.1. Prepare the training data</font></h2> <a class=\"anchor\" id=\"6.1\"></a>"
   ]
  },
  {
   "cell_type": "markdown",
   "metadata": {},
   "source": [
    "Before training, we need to prepare our dataset. We'll use the previously created generator to produce both blurred and original images for training."
   ]
  },
  {
   "cell_type": "code",
   "execution_count": 25,
   "metadata": {},
   "outputs": [],
   "source": [
    "steps_per_epoch = len(x_train) // batch_size\n",
    "\n",
    "# Create a generator for training data\n",
    "train_data_generator = generator(x_train, batch_size)"
   ]
  },
  {
   "cell_type": "markdown",
   "metadata": {},
   "source": [
    "<h2> <font color='black'>6.2. Train the model</font></h2> <a class=\"anchor\" id=\"6.2\"></a>"
   ]
  },
  {
   "cell_type": "markdown",
   "metadata": {},
   "source": [
    "Now, we'll train the model using the blurred images as input and the original, unblurred images as targets. The model has different hyperparameters:\n",
    "- `epochs` is the number of times to iterate over the training dataset.\n",
    "- `batch_size` is the number of samples per gradient update.\n",
    "- `callbacks` is a list of callbacks to apply during training. We will use the `EarlyStopping` callback to stop training when the validation loss stops improving.\n",
    "- `steps_per_epoch` is the number of batches of samples per epoch. We will set this to the number of training samples divided by the batch size."
   ]
  },
  {
   "cell_type": "code",
   "execution_count": 26,
   "metadata": {},
   "outputs": [
    {
     "name": "stdout",
     "output_type": "stream",
     "text": [
      "Epoch 1/10\n",
      "6/6 [==============================] - 49s 8s/step - loss: 0.2251\n",
      "Epoch 2/10\n",
      "6/6 [==============================] - 47s 8s/step - loss: 0.2059\n",
      "Epoch 3/10\n",
      "6/6 [==============================] - 47s 8s/step - loss: 0.1777\n",
      "Epoch 4/10\n",
      "6/6 [==============================] - 47s 8s/step - loss: 0.1376\n",
      "Epoch 5/10\n",
      "6/6 [==============================] - 46s 8s/step - loss: 0.0957\n",
      "Epoch 6/10\n",
      "6/6 [==============================] - 46s 8s/step - loss: 0.0695\n",
      "Epoch 7/10\n",
      "6/6 [==============================] - 46s 8s/step - loss: 0.0608\n",
      "Epoch 8/10\n",
      "6/6 [==============================] - 47s 8s/step - loss: 0.0591\n",
      "Epoch 9/10\n",
      "6/6 [==============================] - 50s 8s/step - loss: 0.0580\n",
      "Epoch 10/10\n",
      "6/6 [==============================] - 51s 8s/step - loss: 0.0571\n"
     ]
    },
    {
     "data": {
      "text/plain": [
       "<keras.src.callbacks.History at 0x146f9b8d0>"
      ]
     },
     "execution_count": 26,
     "metadata": {},
     "output_type": "execute_result"
    }
   ],
   "source": [
    "# Prevent overfitting with early stopping\n",
    "early_stopping = EarlyStopping(monitor='loss', patience=10, restore_best_weights=True)\n",
    "\n",
    "# Train the model\n",
    "model.fit(\n",
    "    train_data_generator,\n",
    "    epochs=epochs,\n",
    "    batch_size=batch_size,\n",
    "    callbacks=[early_stopping],\n",
    "    steps_per_epoch=steps_per_epoch)"
   ]
  },
  {
   "cell_type": "markdown",
   "metadata": {},
   "source": [
    "<h1 align=\"center\"><font color='BB2E29'>7. Model Evaluation</font></h1> <a class=\"anchor\" id=\"7\"></a>"
   ]
  },
  {
   "cell_type": "markdown",
   "metadata": {},
   "source": [
    "After training the model, it's important to evaluate its performance to understand how well it can deblur images. We will use the Mean Squared Error (MSE) metric, as specified in the project guidelines, to quantify the model's accuracy."
   ]
  },
  {
   "cell_type": "markdown",
   "metadata": {},
   "source": [
    "<h2> <font color='black'>7.1. Prepare the validation data</font></h2> <a class=\"anchor\" id=\"7.1\"></a>"
   ]
  },
  {
   "cell_type": "markdown",
   "metadata": {},
   "source": [
    "First, we need to prepare a validation dataset of blurred images to test our model."
   ]
  },
  {
   "cell_type": "code",
   "execution_count": 27,
   "metadata": {},
   "outputs": [
    {
     "name": "stdout",
     "output_type": "stream",
     "text": [
      "Min: tf.Tensor(0.0, shape=(), dtype=float32)\n",
      "Max: tf.Tensor(0.9998018, shape=(), dtype=float32)\n"
     ]
    }
   ],
   "source": [
    "# Create a generator for validation data\n",
    "validation_data_generator = generator(x_test, batch_size)\n",
    "\n",
    "# Generate a set of validation data (blurred and original images)\n",
    "validation_blurred, validation_original = next(validation_data_generator)\n",
    "\n",
    "# Rang of validation_blurred\n",
    "print(\"Min:\", np.min(validation_blurred))\n",
    "print(\"Max:\", np.max(validation_blurred))"
   ]
  },
  {
   "cell_type": "markdown",
   "metadata": {},
   "source": [
    "<h2> <font color='black'>7.2. Evaluate the model</font></h2> <a class=\"anchor\" id=\"7.2\"></a>"
   ]
  },
  {
   "cell_type": "markdown",
   "metadata": {},
   "source": [
    "We will use the model to deblur the validation images and then compute the MSE against the original (unblurred) images."
   ]
  },
  {
   "cell_type": "code",
   "execution_count": 28,
   "metadata": {},
   "outputs": [
    {
     "name": "stdout",
     "output_type": "stream",
     "text": [
      "313/313 [==============================] - 3s 10ms/step\n",
      "313/313 [==============================] - 3s 10ms/step\n",
      "313/313 [==============================] - 4s 12ms/step\n",
      "313/313 [==============================] - 3s 10ms/step\n",
      "313/313 [==============================] - 3s 10ms/step\n",
      "313/313 [==============================] - 4s 11ms/step\n",
      "313/313 [==============================] - 3s 10ms/step\n",
      "313/313 [==============================] - 3s 10ms/step\n",
      "313/313 [==============================] - 4s 11ms/step\n",
      "313/313 [==============================] - 3s 10ms/step\n",
      "Deblurred Images - min: 0.008943921 , max: 0.89677346\n",
      "Mean Squared Error on Validation Set: 0.057029228657484055\n",
      "Standard Deviation on Validation Set: 0.0\n"
     ]
    }
   ],
   "source": [
    "# Use the model to deblur validation images 10 times\n",
    "mse_list = []\n",
    "for i in range(10):\n",
    "    deblurred_images = model.predict(validation_blurred)\n",
    "\n",
    "    # Remove the extra dimension from deblurred images\n",
    "    deblurred_images = np.squeeze(deblurred_images)\n",
    "\n",
    "    mse = np.mean((deblurred_images - validation_original) ** 2)\n",
    "    mse_list.append(mse)\n",
    "\n",
    "# Range check\n",
    "print(\"Deblurred Images - min:\", np.min(deblurred_images), \", max:\", np.max(deblurred_images))\n",
    "\n",
    "# Compute Mean Squared Error and the Standard Deviation between the deblurred images and the original images\n",
    "mse_mean = np.mean(mse_list)\n",
    "mse_std = np.std(mse_list)\n",
    "print(f\"Mean Squared Error on Validation Set: {mse_mean}\")\n",
    "print(f\"Standard Deviation on Validation Set: {mse_std}\")"
   ]
  },
  {
   "cell_type": "markdown",
   "metadata": {},
   "source": [
    "<h2> <font color='black'>7.3. Visualize the results</font></h2> <a class=\"anchor\" id=\"7.3\"></a>"
   ]
  },
  {
   "cell_type": "markdown",
   "metadata": {},
   "source": [
    "It's often helpful to visually assess the deblurring results. Let's display some of the deblurred images alongside their blurred and original counterparts."
   ]
  },
  {
   "cell_type": "code",
   "execution_count": 29,
   "metadata": {},
   "outputs": [
    {
     "data": {
      "image/png": "[encoded data removed]",
      "text/plain": [
       "<Figure size 1500x500 with 30 Axes>"
      ]
     },
     "metadata": {},
     "output_type": "display_data"
    }
   ],
   "source": [
    "# Function to display images side by side for comparison\n",
    "def display_comparison(blurred, deblurred, original, num_images=10):\n",
    "    plt.figure(figsize=(15, 5))\n",
    "    for i in range(num_images):\n",
    "        # Display blurred image\n",
    "        ax = plt.subplot(3, num_images, i + 1)\n",
    "        plt.imshow(blurred[i].reshape(28, 28), cmap='gray')\n",
    "        plt.title(\"Blurred\")\n",
    "        plt.axis('off')\n",
    "\n",
    "        # Display deblurred image\n",
    "        ax = plt.subplot(3, num_images, i + 1 + num_images)\n",
    "        plt.imshow(deblurred[i].reshape(28, 28), cmap='gray')\n",
    "        plt.title(\"Deblurred\")\n",
    "        plt.axis('off')\n",
    "\n",
    "        # Display original image\n",
    "        ax = plt.subplot(3, num_images, i + 1 + 2 * num_images)\n",
    "        plt.imshow(original[i].reshape(28, 28), cmap='gray')\n",
    "        plt.title(\"Original\")\n",
    "        plt.axis('off')\n",
    "    plt.show()\n",
    "\n",
    "# Display the comparison\n",
    "display_comparison(validation_blurred, deblurred_images, validation_original)\n"
   ]
  },
  {
   "cell_type": "markdown",
   "metadata": {},
   "source": [
    "<h1 align=\"center\"><font color='BB2E29'>8. Results Visualization</font></h1> <a class=\"anchor\" id=\"8\"></a>"
   ]
  },
  {
   "cell_type": "markdown",
   "metadata": {},
   "source": [
    "Visualizing the results is a key step in understanding the effectiveness of our deblurring model. This section will focus on comparing the blurred, deblurred, and original images, providing insights into the model's performance."
   ]
  },
  {
   "cell_type": "markdown",
   "metadata": {},
   "source": [
    "<h2> <font color='black'>8.1. Detailed comparision of images</font></h2> <a class=\"anchor\" id=\"8.1\"></a>"
   ]
  },
  {
   "cell_type": "markdown",
   "metadata": {},
   "source": [
    "To get a clearer picture of how our model performs, we'll display a set of images before and after deblurring, alongside their corresponding original images. This visual comparison helps in assessing the quality of the deblurring process."
   ]
  },
  {
   "cell_type": "code",
   "execution_count": 30,
   "metadata": {},
   "outputs": [
    {
     "data": {
      "image/png": "[encoded data removed]",
      "text/plain": [
       "<Figure size 1500x500 with 15 Axes>"
      ]
     },
     "metadata": {},
     "output_type": "display_data"
    }
   ],
   "source": [
    "# Function for detailed comparison\n",
    "def detailed_comparison(blurred, deblurred, original, indices):\n",
    "    plt.figure(figsize=(15, 5))\n",
    "    for i, idx in enumerate(indices):\n",
    "        # Display blurred image\n",
    "        ax = plt.subplot(3, len(indices), i + 1)\n",
    "        plt.imshow(blurred[idx].reshape(28, 28), cmap='gray')\n",
    "        plt.title(f\"Blurred\\nIndex: {idx}\")\n",
    "        plt.axis('off')\n",
    "\n",
    "        # Display deblurred image\n",
    "        ax = plt.subplot(3, len(indices), i + 1 + len(indices))\n",
    "        plt.imshow(deblurred[idx].reshape(28, 28), cmap='gray')\n",
    "        plt.title(\"Deblurred\")\n",
    "        plt.axis('off')\n",
    "\n",
    "        # Display original image\n",
    "        ax = plt.subplot(3, len(indices), i + 1 + 2 * len(indices))\n",
    "        plt.imshow(original[idx].reshape(28, 28), cmap='gray')\n",
    "        plt.title(\"Original\")\n",
    "        plt.axis('off')\n",
    "    plt.show()\n",
    "\n",
    "# Select specific indices for detailed comparison\n",
    "selected_indices = [0, 1, 2, 3, 4]  # You can choose different indices based on your dataset\n",
    "detailed_comparison(validation_blurred, deblurred_images, validation_original, selected_indices)"
   ]
  },
  {
   "cell_type": "markdown",
   "metadata": {},
   "source": [
    "<h2> <font color='black'>8.2. Analysis of the results</font></h2> <a class=\"anchor\" id=\"8.2\"></a>"
   ]
  },
  {
   "cell_type": "markdown",
   "metadata": {},
   "source": [
    "After visualizing the comparisons, it's important to analyze the results. Consider the following points:\n",
    "\n",
    "- **How well does the model remove blur from the images?**\n",
    "  \n",
    "  The model seems to have partially removed the blur from the images. The deblurred images are visibly clearer than the blurred ones, indicating that the model is learning to reverse some of the blurring effects. However, some residual blur is present, as details are not as sharp as in the original images. This suggests there is room for further improvement in the model's ability to deblur.\n",
    "\n",
    "- **Are there any noticeable artifacts introduced by the deblurring process?**\n",
    "  \n",
    "  There do not appear to be significant artifacts introduced by the deblurring process, such as ringing or excessive noise, which is a positive outcome. The deblurred images maintain a semblance of smoothness without apparent distortions that are often introduced by aggressive deblurring techniques. \n",
    "- **How close are the deblurred images to the original images?**\n",
    "\n",
    "  The deblurred images show a resemblance to the original images but lack the same level of detail and sharpness. The overall shapes and structures of the digits are recognizable, which is a good sign that the model. However, the deblurred images are not as clear as the original images, indicating that the model is not yet able to fully reverse the blurring process.\n",
    "\n"
   ]
  },
  {
   "cell_type": "markdown",
   "metadata": {},
   "source": [
    "<h1 align=\"center\"><font color='BB2E29'>9. Conclusions</font></h1> <a class=\"anchor\" id=\"9\"></a>"
   ]
  },
  {
   "cell_type": "markdown",
   "metadata": {},
   "source": [
    "The model is effectively reducing blur, but further refinement is needed to reach the sharpness and clarity of the original images. Consider the following steps for improvement:\n",
    "\n",
    "- **Enhance the Model**: Further refine the model architecture, consider deeper networks or those with residual connections.\n",
    "- **Hyperparameter Tuning**: Adjust learning rates, batch sizes, and other hyperparameters to find more optimal settings.\n",
    "- **Training Duration**: Extend training duration if possible, provided overfitting is controlled.\n",
    "- **Post-Processing**: Explore post-processing techniques that might sharpen the image or improve contrast.\n",
    "- **Loss Function**: Experiment with different loss functions that might emphasize sharper features or edge preservation.\n",
    "\n",
    "Probably, by adding more layers to the model, better results could be achieved. The problem is that adding more and denser layers has a direct impact on the adjustment time of the model.\n",
    "\n",
    "Specifically, the adjustment time could be increased to more than an hour with the computer that the project has been carried out. This is why we have opted for a simpler model, which does not obtain such good results, but which allows several runs to be carried out in order to try out different configurations."
   ]
  }
 ],
 "metadata": {
  "kernelspec": {
   "display_name": "Python 3",
   "language": "python",
   "name": "python3"
  },
  "language_info": {
   "codemirror_mode": {
    "name": "ipython",
    "version": 3
   },
   "file_extension": ".py",
   "mimetype": "text/x-python",
   "name": "python",
   "nbconvert_exporter": "python",
   "pygments_lexer": "ipython3",
   "version": "3.11.7"
  }
 },
 "nbformat": 4,
 "nbformat_minor": 2
}
