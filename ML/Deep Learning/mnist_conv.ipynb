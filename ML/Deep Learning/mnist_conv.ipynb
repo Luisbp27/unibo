{
 "cells": [
  {
   "cell_type": "markdown",
   "metadata": {
    "id": "QX15PRrJq_zX"
   },
   "source": [
    "This notebook is meant to introduce convolutional layers, with special emphasis on the relation between the dimension of the input tensor, the kernel size, the stride, the number of filters and the dimension of the output tensor."
   ]
  },
  {
   "cell_type": "code",
   "execution_count": 1,
   "metadata": {
    "id": "atmltv8-UZW9"
   },
   "outputs": [
    {
     "name": "stderr",
     "output_type": "stream",
     "text": [
      "2023-11-13 09:53:29.700563: I tensorflow/core/platform/cpu_feature_guard.cc:182] This TensorFlow binary is optimized to use available CPU instructions in performance-critical operations.\n",
      "To enable the following instructions: AVX2 FMA, in other operations, rebuild TensorFlow with the appropriate compiler flags.\n"
     ]
    }
   ],
   "source": [
    "from keras.layers import Input, Conv2D, ZeroPadding2D, Dense, Flatten\n",
    "from keras.models import Model\n",
    "from keras import metrics\n",
    "from keras.datasets import mnist"
   ]
  },
  {
   "cell_type": "markdown",
   "metadata": {
    "id": "MDH8iUaxrvZB"
   },
   "source": [
    "We run the example over the mnist data set. Keras provides a very friendly access to several renowed databases, comprising mnist, cifar10, cifar100, IMDB and many others. See https://keras.io/api/datasets/ for documentation"
   ]
  },
  {
   "cell_type": "code",
   "execution_count": null,
   "metadata": {
    "colab": {
     "base_uri": "https://localhost:8080/"
    },
    "id": "5j-DYkTaz3Ts",
    "outputId": "48d861a9-59b6-43c2-fd04-0051c54f3959"
   },
   "outputs": [
    {
     "name": "stdout",
     "output_type": "stream",
     "text": [
      "Downloading data from https://storage.googleapis.com/tensorflow/tf-keras-datasets/mnist.npz\n",
      "11493376/11490434 [==============================] - 0s 0us/step\n"
     ]
    }
   ],
   "source": [
    "import numpy as np\n",
    "(x_train, y_train), (x_test, y_test) = mnist.load_data()"
   ]
  },
  {
   "cell_type": "markdown",
   "metadata": {
    "id": "nOMU1JxB0BRH"
   },
   "source": [
    "Mnist images are grayscale images with pixels in the range [0,255].\n",
    "We pass to floats, and normalize them in the range [0,1]."
   ]
  },
  {
   "cell_type": "code",
   "execution_count": null,
   "metadata": {
    "id": "G78aNHyG0bWD"
   },
   "outputs": [],
   "source": [
    "x_train = x_train.astype('float32') / 255.\n",
    "x_test = x_test.astype('float32') / 255."
   ]
  },
  {
   "cell_type": "markdown",
   "metadata": {
    "id": "5aYDPNGn0n73"
   },
   "source": [
    "Bidimensional convolutions expect input with three dimensions (plus an additional batchsize dimension): width, height, channels. \n",
    "Since mnist digits have only two dimensions (being in grayscale), we need to extend them with an additional dimension."
   ]
  },
  {
   "cell_type": "code",
   "execution_count": null,
   "metadata": {
    "colab": {
     "base_uri": "https://localhost:8080/"
    },
    "id": "koAbxpngVCsq",
    "outputId": "2e8f89c2-5c1e-4fbd-a0fe-6be18adc2100"
   },
   "outputs": [
    {
     "name": "stdout",
     "output_type": "stream",
     "text": [
      "(60000, 28, 28, 1)\n",
      "(10000, 28, 28, 1)\n"
     ]
    }
   ],
   "source": [
    "(n,w,h) = x_train.shape\n",
    "x_train = x_train.reshape(n,w,h,1)\n",
    "(n,w,h) = x_test.shape\n",
    "x_test = x_test.reshape(n,w,h,1)\n",
    "print(x_train.shape)\n",
    "print(x_test.shape)"
   ]
  },
  {
   "cell_type": "markdown",
   "metadata": {
    "id": "mOp2WtJJsrpn"
   },
   "source": [
    "Mnist labels are integers in the range [0,9]. Since the network will produce probabilities for each one of these categories, if we want to compare it with the ground trouth probability using categorical crossentropy, that is the traditional choice, we should change each integer in its categorical description, using e.g. the \"to_categorical\" function in utils.\n",
    "\n",
    "Alternatively, we can use the so called \"sparse categorical crossentropy\" loss function https://www.tensorflow.org/api_docs/python/tf/keras/losses/SparseCategoricalCrossentropy that allows us to directly compare predictions with labels."
   ]
  },
  {
   "cell_type": "code",
   "execution_count": null,
   "metadata": {
    "id": "ZK--l9nzs9F-"
   },
   "outputs": [],
   "source": [
    "#y_train = keras.utils.to_categorical(y_train)\n",
    "#y_test = keras.utils.to_categorical(y_test)"
   ]
  },
  {
   "cell_type": "markdown",
   "metadata": {
    "id": "ZO6JwhwnurFi"
   },
   "source": [
    "Let us come to the convolutional network. We define a simple network composed by three convolutional layers, followed by a couple of Dense layers."
   ]
  },
  {
   "cell_type": "code",
   "execution_count": null,
   "metadata": {
    "id": "hVUe816fUyu6"
   },
   "outputs": [],
   "source": [
    "xin = Input(shape=(28,28,1))\n",
    "x = Conv2D(16,(3,3),strides=(2,2),padding='valid')(xin)\n",
    "x = Conv2D(32,(3,3),strides=(2,2),padding='valid')(x)\n",
    "x = Conv2D(32,(3,3),strides=(2,2),padding='valid')(x)\n",
    "x = Flatten()(x)\n",
    "x = Dense(64, activation ='relu')(x)\n",
    "res = Dense(10,activation = 'softmax')(x)\n",
    "\n",
    "mynet = Model(inputs=xin,outputs=res)"
   ]
  },
  {
   "cell_type": "markdown",
   "metadata": {
    "id": "wBDN-sBi7uUO"
   },
   "source": [
    "Let's have a look at the summary"
   ]
  },
  {
   "cell_type": "code",
   "execution_count": null,
   "metadata": {
    "colab": {
     "base_uri": "https://localhost:8080/"
    },
    "id": "sgWQT4jHZUR3",
    "outputId": "32768a6c-191c-441a-9e93-c308fdf92479"
   },
   "outputs": [
    {
     "name": "stdout",
     "output_type": "stream",
     "text": [
      "Model: \"functional_1\"\n",
      "_________________________________________________________________\n",
      "Layer (type)                 Output Shape              Param #   \n",
      "=================================================================\n",
      "input_1 (InputLayer)         [(None, 28, 28, 1)]       0         \n",
      "_________________________________________________________________\n",
      "conv2d (Conv2D)              (None, 13, 13, 16)        160       \n",
      "_________________________________________________________________\n",
      "conv2d_1 (Conv2D)            (None, 6, 6, 32)          4640      \n",
      "_________________________________________________________________\n",
      "conv2d_2 (Conv2D)            (None, 2, 2, 32)          9248      \n",
      "_________________________________________________________________\n",
      "flatten (Flatten)            (None, 128)               0         \n",
      "_________________________________________________________________\n",
      "dense (Dense)                (None, 64)                8256      \n",
      "_________________________________________________________________\n",
      "dense_1 (Dense)              (None, 10)                650       \n",
      "=================================================================\n",
      "Total params: 22,954\n",
      "Trainable params: 22,954\n",
      "Non-trainable params: 0\n",
      "_________________________________________________________________\n"
     ]
    }
   ],
   "source": [
    "mynet.summary()"
   ]
  },
  {
   "cell_type": "markdown",
   "metadata": {
    "id": "iiFJ6HMQ8icY"
   },
   "source": [
    "In valid mode, no padding is applied. \n",
    "Along each axis, the output dimension O is computed from the input dimension I using the formula O=(I-K)/S +1, where K is the kernel dimension and S is the stride.\n",
    "\n",
    "For all layers, K=3 and S=2. So, for the first conv we pass from dimension 28\n",
    "to dimension (28-3)/2+1 = 13, then to dimension (13-3)/2+1 = 6 and finally to dimension (6-3)/2+1 = 2. \n",
    "\n",
    "Exercise: modify \"valid\" to \"same\" and see what happens.\n",
    "\n",
    "The second important point is about the number of parameters.\n",
    "You must keep in mind that a kernel of dimension K1 x K2 has an actual dimension K1 x K2 x CI, where CI is number of input channels: in other words the kernel is computing at the same time spatial and cross-channel correlations.\n",
    "\n",
    "So, for the first convolution, we have 3 x 3 x 1 + 1 = 10 parameters for each filter (1 for the bias), and since we are computing 16 filters, the number of parameters is 10 x 16 = 160.\n",
    "\n",
    "For the second convolution, each filter has 3 x 3 x 16 + 1 = 145 parameters, ans since we have 32 filters, the total number of parameters is 145 x 32 = 4640.\n",
    "\n"
   ]
  },
  {
   "cell_type": "markdown",
   "metadata": {
    "id": "Lj77T0xDBbkc"
   },
   "source": [
    "Let us come to training.\n",
    "\n",
    "In addition to the optimizer and the loss, we also pass a \"metrics\" argument. Metrics are additional functions that are not directly used for training, but allows us to monitor its advancement. For instance, we use accuracy, in this case (sparse, because we are using labels, and cateogrical because we have multiple categories)."
   ]
  },
  {
   "cell_type": "code",
   "execution_count": null,
   "metadata": {
    "id": "5woK9FZhd2CA"
   },
   "outputs": [],
   "source": [
    "mynet.compile(optimizer='adam',loss='sparse_categorical_crossentropy', metrics=[metrics.SparseCategoricalAccuracy()])"
   ]
  },
  {
   "cell_type": "code",
   "execution_count": null,
   "metadata": {
    "colab": {
     "base_uri": "https://localhost:8080/"
    },
    "id": "flvXXtQwbvFR",
    "outputId": "9b4bcbb7-d492-4574-a0ae-fa039ebbba5c"
   },
   "outputs": [
    {
     "name": "stdout",
     "output_type": "stream",
     "text": [
      "Epoch 1/10\n",
      "1875/1875 [==============================] - 5s 3ms/step - loss: 0.2738 - sparse_categorical_accuracy: 0.9195 - val_loss: 0.1436 - val_sparse_categorical_accuracy: 0.9557\n",
      "Epoch 2/10\n",
      "1875/1875 [==============================] - 5s 2ms/step - loss: 0.1400 - sparse_categorical_accuracy: 0.9583 - val_loss: 0.1220 - val_sparse_categorical_accuracy: 0.9622\n",
      "Epoch 3/10\n",
      "1875/1875 [==============================] - 5s 2ms/step - loss: 0.1150 - sparse_categorical_accuracy: 0.9659 - val_loss: 0.1107 - val_sparse_categorical_accuracy: 0.9660\n",
      "Epoch 4/10\n",
      "1875/1875 [==============================] - 4s 2ms/step - loss: 0.0984 - sparse_categorical_accuracy: 0.9700 - val_loss: 0.1101 - val_sparse_categorical_accuracy: 0.9665\n",
      "Epoch 5/10\n",
      "1875/1875 [==============================] - 4s 2ms/step - loss: 0.0892 - sparse_categorical_accuracy: 0.9725 - val_loss: 0.0995 - val_sparse_categorical_accuracy: 0.9695\n",
      "Epoch 6/10\n",
      "1875/1875 [==============================] - 5s 2ms/step - loss: 0.0821 - sparse_categorical_accuracy: 0.9744 - val_loss: 0.0971 - val_sparse_categorical_accuracy: 0.9710\n",
      "Epoch 7/10\n",
      "1875/1875 [==============================] - 5s 2ms/step - loss: 0.0739 - sparse_categorical_accuracy: 0.9770 - val_loss: 0.0893 - val_sparse_categorical_accuracy: 0.9739\n",
      "Epoch 8/10\n",
      "1875/1875 [==============================] - 5s 3ms/step - loss: 0.0689 - sparse_categorical_accuracy: 0.9786 - val_loss: 0.0894 - val_sparse_categorical_accuracy: 0.9748\n",
      "Epoch 9/10\n",
      "1875/1875 [==============================] - 5s 2ms/step - loss: 0.0641 - sparse_categorical_accuracy: 0.9797 - val_loss: 0.0928 - val_sparse_categorical_accuracy: 0.9736\n",
      "Epoch 10/10\n",
      "1875/1875 [==============================] - 5s 2ms/step - loss: 0.0604 - sparse_categorical_accuracy: 0.9807 - val_loss: 0.0961 - val_sparse_categorical_accuracy: 0.9720\n"
     ]
    },
    {
     "data": {
      "text/plain": [
       "<tensorflow.python.keras.callbacks.History at 0x7f4e52577f60>"
      ]
     },
     "execution_count": 10,
     "metadata": {
      "tags": []
     },
     "output_type": "execute_result"
    }
   ],
   "source": [
    "mynet.fit(x_train,y_train, shuffle=True, epochs=10, batch_size=32,validation_data=(x_test,y_test))"
   ]
  }
 ],
 "metadata": {
  "accelerator": "GPU",
  "colab": {
   "name": "mnist_conv.ipynb",
   "provenance": []
  },
  "kernelspec": {
   "display_name": "Python 3",
   "name": "python3"
  },
  "language_info": {
   "codemirror_mode": {
    "name": "ipython",
    "version": 3
   },
   "file_extension": ".py",
   "mimetype": "text/x-python",
   "name": "python",
   "nbconvert_exporter": "python",
   "pygments_lexer": "ipython3",
   "version": "3.11.6"
  }
 },
 "nbformat": 4,
 "nbformat_minor": 0
}
