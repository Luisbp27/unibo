{
 "cells": [
  {
   "cell_type": "markdown",
   "id": "19108b00",
   "metadata": {},
   "source": [
    "<div style=\"text-align: center;\">\n",
    "<h1>Assignment 1: Substitution Ciphers</font></h1>\n",
    "<h2>Course: Elements of Applied Data Security</font></h2>\n",
    "\n",
    "<center><img src=\"../images/unibo.png\" alt=\"unibo_logo\" width=\"200\"/></center>\n",
    "\n",
    "<h3>Professor: Alex Marchioni and Livia Manovi</font></h3>\n",
    "<h3>University: Università degli Studi di Bologna</font></h3>\n",
    "<h3>Author: Lluis Barca Pons</font></h3>\n",
    "<h3>Date: 2024-03-25</font></h3>\n",
    "</div>"
   ]
  },
  {
   "cell_type": "markdown",
   "id": "e4018325",
   "metadata": {},
   "source": [
    "## Importing Libraries"
   ]
  },
  {
   "cell_type": "code",
   "execution_count": 303,
   "id": "082b70d2-197b-4c55-9092-4c1cb02a6298",
   "metadata": {},
   "outputs": [],
   "source": [
    "import string\n",
    "import os\n",
    "\n",
    "# English alphabet\n",
    "ALPHABET = string.ascii_lowercase"
   ]
  },
  {
   "cell_type": "markdown",
   "id": "c20a9001-f4fd-401f-922b-db8347ff36fe",
   "metadata": {},
   "source": [
    "## Introduction"
   ]
  },
  {
   "cell_type": "markdown",
   "id": "88c571e3-d03d-4506-a411-67663dc6ff9f",
   "metadata": {},
   "source": [
    "Substitution ciphers represent one of the oldest and simplest classes of encryption techniques, relying on the principle of replacing each element (typically characters in plaintext) with another character or symbol according to a predefined system or key. \n",
    "\n",
    "Unlike transposition ciphers that rearrange the order of the elements, substitution ciphers maintain the original sequence but alter the identities of the elements involved. A classic example is the Caesar cipher, where each letter in the plaintext is shifted a certain number of places down or up the alphabet. \n",
    "\n",
    "Modern variants have evolved to include complex schemes like the monoalphabetic cipher, which maps each letter of the plaintext to a unique letter in the ciphertext alphabet, and the polyalphabetic cipher, which uses multiple substitution alphabets to reduce the predictability of the encryption. Despite their simplicity, substitution ciphers laid the foundational concepts for understanding more advanced cryptographic systems and their vulnerabilities."
   ]
  },
  {
   "cell_type": "markdown",
   "id": "6a297866",
   "metadata": {},
   "source": [
    "## Caesar Cipher"
   ]
  },
  {
   "cell_type": "markdown",
   "id": "b53b1655",
   "metadata": {},
   "source": [
    "Brief description of Caesar Cipher (Max 150 words)"
   ]
  },
  {
   "cell_type": "markdown",
   "id": "2ae56b56-293c-4f94-978b-1ea64f122002",
   "metadata": {},
   "source": [
    "Types of attack of Caesar Cipher (Max 150 words)"
   ]
  },
  {
   "cell_type": "markdown",
   "id": "b29aef0d-75ee-4da1-b058-09fea1bb9c0a",
   "metadata": {},
   "source": [
    "### Encryption"
   ]
  },
  {
   "cell_type": "code",
   "execution_count": 304,
   "id": "43b53968-3fbb-4ac1-a373-6b29c4845f08",
   "metadata": {},
   "outputs": [],
   "source": [
    "def caesar_encrypt(plaintext, shift=0):\n",
    "    ''' Encrypt `plaintext` (str) as a caesar cipher with a given `shift` (int)\n",
    "    '''\n",
    "    # Convert the plaintext to a list of characters\n",
    "    plaintext = list(plaintext)\n",
    "\n",
    "    # Convert the characters to their ASCII values\n",
    "    plaintext = [ord(char) for char in plaintext]\n",
    "\n",
    "    # Shift the ASCII values if the character is a letter\n",
    "    for i in range(len(plaintext)):\n",
    "        if 65 <= plaintext[i] <= 90: # Uppercase\n",
    "            plaintext[i] = (plaintext[i] - 65 + shift) % 26 + 65\n",
    "        elif 97 <= plaintext[i] <= 122: # Lowercase\n",
    "            plaintext[i] = (plaintext[i] - 97 + shift) % 26 + 97\n",
    "\n",
    "    # Convert the shifted ASCII values back to characters\n",
    "    plaintext = [chr(char) for char in plaintext]\n",
    "\n",
    "    # Convert the list of characters to a single string\n",
    "    ciphertext = ''.join(plaintext)\n",
    "\n",
    "    return ciphertext"
   ]
  },
  {
   "cell_type": "code",
   "execution_count": 305,
   "id": "9eb77216-0505-4a29-a8e8-458e273a91f4",
   "metadata": {},
   "outputs": [
    {
     "name": "stdout",
     "output_type": "stream",
     "text": [
      "hello! -> lipps!\n"
     ]
    }
   ],
   "source": [
    "# code snippet to test the implementation of the encryption function\n",
    "plaintext = 'hello!'\n",
    "ciphertext = caesar_encrypt(plaintext, shift=4)\n",
    "\n",
    "print(plaintext, '->', ciphertext) # expected output 'hello! -> lipps!'"
   ]
  },
  {
   "cell_type": "markdown",
   "id": "d79da87f-6130-427e-9104-9619e3b7b5e4",
   "metadata": {},
   "source": [
    "### Decryption"
   ]
  },
  {
   "cell_type": "code",
   "execution_count": 306,
   "id": "a5b0d026",
   "metadata": {},
   "outputs": [],
   "source": [
    "def caesar_decrypt(ciphertext, shift=0):\n",
    "    ''' Decrypt `ciphertext` (str) as a caesar cipher with a given `shift` (int)\n",
    "    '''\n",
    "    # Convert the ciphertext to a list of characters\n",
    "    ciphertext = list(ciphertext)\n",
    "\n",
    "    # Convert the characters to their ASCII values\n",
    "    ciphertext = [ord(char) for char in ciphertext]\n",
    "\n",
    "    # Shift the ASCII values if the character is a letter\n",
    "    for i in range(len(ciphertext)):\n",
    "        if 65 <= ciphertext[i] <= 90: # Uppercase\n",
    "            ciphertext[i] = (ciphertext[i] - 65 - shift) % 26 + 65\n",
    "        elif 97 <= ciphertext[i] <= 122: # Lowercase\n",
    "            ciphertext[i] = (ciphertext[i] - 97 - shift) % 26 + 97\n",
    "\n",
    "    # Convert the shifted ASCII values back to characters\n",
    "    ciphertext = [chr(char) for char in ciphertext]\n",
    "\n",
    "    # Convert the list of characters to a single string\n",
    "    plaintext = ''.join(ciphertext)\n",
    "\n",
    "    return plaintext"
   ]
  },
  {
   "cell_type": "code",
   "execution_count": 307,
   "id": "4317bf77",
   "metadata": {},
   "outputs": [
    {
     "name": "stdout",
     "output_type": "stream",
     "text": [
      "lipps! -> hello!\n"
     ]
    }
   ],
   "source": [
    "# code snippet to test the implementation of the decryption function\n",
    "ciphertext = 'lipps!' # 'hello!' encoded with shift=4\n",
    "plaintext = caesar_decrypt(ciphertext, shift=4)\n",
    "\n",
    "print(ciphertext, '->', plaintext)  # expected output 'lipps! -> hello!'"
   ]
  },
  {
   "cell_type": "markdown",
   "id": "6bf38609",
   "metadata": {},
   "source": [
    "### Ciphertext"
   ]
  },
  {
   "cell_type": "code",
   "execution_count": 308,
   "id": "09746945-d53e-47eb-8bf2-0079a150ecdc",
   "metadata": {},
   "outputs": [],
   "source": [
    "# Load ciphertext\n",
    "def read_file(file_name):\n",
    "    ''' Read the content of a file and return it as a string\n",
    "    '''\n",
    "    try:\n",
    "        with open(file_name, 'r', encoding=\"utf-8\") as file:\n",
    "            return file.read()\n",
    "    except (IOError, OSError, FileNotFoundError) as e:\n",
    "        print(e.strerror)\n",
    "\n",
    "file_path = os.path.join('ciphertext_caesar.txt')\n",
    "ciphertext = read_file(file_path)"
   ]
  },
  {
   "cell_type": "markdown",
   "id": "36d3498f",
   "metadata": {},
   "source": [
    "### Brute Force Attack"
   ]
  },
  {
   "cell_type": "markdown",
   "id": "1c3d1d7c-d12a-4104-8eae-c3ec454069ea",
   "metadata": {},
   "source": [
    "Breaking a Caesar cipher, a process also known as decryption or cracking, exploits its fundamental weakness: the limited number of possible shifts in the alphabet.\n",
    "\n",
    "If we use the **brute force attack**, given the Caesar cipher’s reliance on shifting letters by a fixed number, one can systematically try all 26 possible shifts (excluding the trivial shift of 0) until the decrypted text makes sense. This method is guaranteed to find the correct shift, as the alphabet’s finite size ensures all possibilities are tested."
   ]
  },
  {
   "cell_type": "code",
   "execution_count": 309,
   "id": "60037138",
   "metadata": {},
   "outputs": [
    {
     "name": "stdout",
     "output_type": "stream",
     "text": [
      "Shift 0: aucom dofcom wuymul \n",
      "Shift 1: ztbnl cnebnl vtxltk \n",
      "Shift 2: ysamk bmdamk uswksj \n",
      "Shift 3: xrzlj alczlj trvjri \n",
      "Shift 4: wqyki zkbyki squiqh \n",
      "Shift 5: vpxjh yjaxjh rpthpg \n",
      "Shift 6: uowig xizwig qosgof \n",
      "Shift 7: tnvhf whyvhf pnrfne \n",
      "Shift 8: smuge vgxuge omqemd \n",
      "Shift 9: rltfd ufwtfd nlpdlc \n",
      "Shift 10: qksec tevsec mkockb \n",
      "Shift 11: pjrdb sdurdb ljnbja \n",
      "Shift 12: oiqca rctqca kimaiz \n",
      "Shift 13: nhpbz qbspbz jhlzhy \n",
      "Shift 14: mgoay paroay igkygx \n",
      "Shift 15: lfnzx ozqnzx hfjxfw \n",
      "Shift 16: kemyw nypmyw geiwev \n",
      "Shift 17: jdlxv mxolxv fdhvdu \n",
      "Shift 18: ickwu lwnkwu ecguct \n",
      "Shift 19: hbjvt kvmjvt dbftbs \n",
      "Shift 20: gaius julius caesar \n",
      "Shift 21: fzhtr itkhtr bzdrzq \n",
      "Shift 22: eygsq hsjgsq aycqyp \n",
      "Shift 23: dxfrp grifrp zxbpxo \n",
      "Shift 24: cweqo fqheqo ywaown \n",
      "Shift 25: bvdpn epgdpn xvznvm \n"
     ]
    }
   ],
   "source": [
    "sample = ciphertext[:20]\n",
    "for shift in range(len(ALPHABET)):\n",
    "    plaintext = caesar_decrypt(sample, shift=shift)\n",
    "    print(f'Shift {shift}: {plaintext}')"
   ]
  },
  {
   "cell_type": "code",
   "execution_count": 310,
   "id": "aeeb5386-91a3-405a-81c8-7a106a44f12c",
   "metadata": {},
   "outputs": [
    {
     "name": "stdout",
     "output_type": "stream",
     "text": [
      "gaius julius caesar (12 july 100 bc - 15 march 44 bc) was a roman general and statesman. a member of the first triumvirate, caesar led the roman armies in the gallic wars before defeating his political rival pompey in a civil war, and subsequently became dictator from 49 bc until his assassination in 44 bc. he played a critical role in the events that led to the demise of the roman republic and the rise of the roman empire.\n",
      "in 60 bc, caesar, crassus, and pompey formed the first triumvirate, an informal political alliance that dominated roman politics for several years. their attempts to amass political power were opposed by many in the senate, among them cato the younger with the private support of cicero. caesar rose to become one of the most powerful politicians in the roman republic through a string of military victories in the gallic wars, completed by 51 bc, which greatly extended roman territory. during this time he both invaded britain and built a bridge across the river rhine. these achievements and the support of his veteran army threatened to eclipse the standing of pompey, who had realigned himself with the senate after the death of crassus in 53 bc. with the gallic wars concluded, the senate ordered caesar to step down from his military command and return to rome. in 49 bc, caesar openly defied the senate's authority by crossing the rubicon and marching towards rome at the head of an army. this began caesar's civil war, which he won, leaving him in a position of near-unchallenged power and influence in 45 bc.\n",
      "after assuming control of government, caesar began a programme of social and governmental reform, including the creation of the julian calendar. he gave citizenship to many residents of far regions of the roman republic. he initiated land reforms to support his veterans and initiated an enormous building programme. in early 44 he was proclaimed \"dictator for life\" (dictator perpetuo). fearful of his power and domination of the state, a group of senators led by brutus and cassius assassinated caesar on the ides of march (15 march) 44 bc. a new series of civil wars broke out and the constitutional government of the republic was never fully restored. caesar's great-nephew and adopted heir octavian, later known as augustus, rose to sole power after defeating his opponents in the last civil war of the roman republic. octavian set about solidifying his power, and the era of the roman empire began.\n",
      "caesar was an accomplished author and historian as well as a statesman; much of his life is known from his own accounts of his military campaigns. other contemporary sources include the letters and speeches of cicero and the historical writings of sallust. later biographies of caesar by suetonius and plutarch are also important sources. caesar is considered by many historians to be one of the greatest military commanders in history. his cognomen was subsequently adopted as a synonym for \"emperor\"; the title \"caesar\" was used throughout the roman empire, giving rise to modern descendants such as kaiser and tsar. he has frequently appeared in literary and artistic works.\n"
     ]
    }
   ],
   "source": [
    "# Decrypt the ciphertext\n",
    "plaintext = caesar_decrypt(ciphertext, 20)\n",
    "print(plaintext)"
   ]
  },
  {
   "cell_type": "markdown",
   "id": "9503d65c",
   "metadata": {},
   "source": [
    "## Simple Substitution Cipher"
   ]
  },
  {
   "cell_type": "markdown",
   "id": "1142538f-3869-4cde-b822-e75b386169ad",
   "metadata": {},
   "source": [
    "Explanation of a Simple Substitution Cipher (Max 150 words)"
   ]
  },
  {
   "cell_type": "markdown",
   "id": "7d156339-cebb-4302-9ee2-a74cc5b87866",
   "metadata": {},
   "source": [
    "Type of attacks of a Simple Substitution Cipher (Max 150 words)"
   ]
  },
  {
   "cell_type": "markdown",
   "id": "1b6cc83d-e26d-49cc-8475-0789d2425df0",
   "metadata": {},
   "source": [
    "### Encryption"
   ]
  },
  {
   "cell_type": "markdown",
   "id": "2cfdf6bf-3701-42f0-8a7a-018fa90dac99",
   "metadata": {
    "jp-MarkdownHeadingCollapsed": true,
    "tags": []
   },
   "source": [
    "Explain how the encryption of a Simple Substitution Cipher works (Max 150 words)"
   ]
  },
  {
   "cell_type": "code",
   "execution_count": 311,
   "id": "dd72620a-d955-4fba-872f-ebcd005d484d",
   "metadata": {},
   "outputs": [],
   "source": [
    "def substitution_encrypt(plaintext, mapping):\n",
    "    ''' Encrypt `ciphertext` (str) as a simple substitution cipher with a given\n",
    "        `mapping` (??) from plaintext letters to ciphertext letters '''\n",
    "    # code here\n",
    "    return ciphertext"
   ]
  },
  {
   "cell_type": "code",
   "execution_count": 312,
   "id": "177d186b-bc0a-4dca-a1b4-b1244cfb7bb1",
   "metadata": {},
   "outputs": [
    {
     "name": "stdout",
     "output_type": "stream",
     "text": [
      "hello! -> aucom dofcom wuymul (12 dofs 100 vw - 15 gulwb 44 vw) qum u liguh ayhyluf uhx mnunymguh. u gygvyl iz nby zclmn nlcogpcluny, wuymul fyx nby liguh ulgcym ch nby auffcw qulm vyzily xyzyuncha bcm jifcncwuf lcpuf jigjys ch u wcpcf qul, uhx movmykoyhnfs vywugy xcwnunil zlig 49 vw ohncf bcm ummummchuncih ch 44 vw. by jfusyx u wlcncwuf lify ch nby ypyhnm nbun fyx ni nby xygcmy iz nby liguh lyjovfcw uhx nby lcmy iz nby liguh ygjcly.\n",
      "ch 60 vw, wuymul, wlummom, uhx jigjys zilgyx nby zclmn nlcogpcluny, uh chzilguf jifcncwuf uffcuhwy nbun xigchunyx liguh jifcncwm zil mypyluf syulm. nbycl unnygjnm ni ugumm jifcncwuf jiqyl qyly ijjimyx vs guhs ch nby myhuny, ugiha nbyg wuni nby siohayl qcnb nby jlcpuny mojjiln iz wcwyli. wuymul limy ni vywigy ihy iz nby gimn jiqylzof jifcncwcuhm ch nby liguh lyjovfcw nblioab u mnlcha iz gcfcnuls pcwnilcym ch nby auffcw qulm, wigjfynyx vs 51 vw, qbcwb alyunfs yrnyhxyx liguh nyllcnils. xolcha nbcm ncgy by vinb chpuxyx vlcnuch uhx vocfn u vlcxay uwlimm nby lcpyl lbchy. nbymy uwbcypygyhnm uhx nby mojjiln iz bcm pynyluh ulgs nblyunyhyx ni ywfcjmy nby mnuhxcha iz jigjys, qbi bux lyufcahyx bcgmyfz qcnb nby myhuny uznyl nby xyunb iz wlummom ch 53 vw. qcnb nby auffcw qulm wihwfoxyx, nby myhuny ilxylyx wuymul ni mnyj xiqh zlig bcm gcfcnuls wigguhx uhx lynolh ni ligy. ch 49 vw, wuymul ijyhfs xyzcyx nby myhuny'm uonbilcns vs wlimmcha nby lovcwih uhx gulwbcha niqulxm ligy un nby byux iz uh ulgs. nbcm vyauh wuymul'm wcpcf qul, qbcwb by qih, fyupcha bcg ch u jimcncih iz hyul-ohwbuffyhayx jiqyl uhx chzfoyhwy ch 45 vw.\n",
      "uznyl ummogcha wihnlif iz aipylhgyhn, wuymul vyauh u jlialuggy iz miwcuf uhx aipylhgyhnuf lyzilg, chwfoxcha nby wlyuncih iz nby dofcuh wufyhxul. by aupy wcnctyhmbcj ni guhs lymcxyhnm iz zul lyacihm iz nby liguh lyjovfcw. by chcncunyx fuhx lyzilgm ni mojjiln bcm pynyluhm uhx chcncunyx uh yhilgiom vocfxcha jlialuggy. ch yulfs 44 by qum jliwfucgyx \"xcwnunil zil fczy\" (xcwnunil jyljynoi). zyulzof iz bcm jiqyl uhx xigchuncih iz nby mnuny, u alioj iz myhunilm fyx vs vlonom uhx wummcom ummummchunyx wuymul ih nby cxym iz gulwb (15 gulwb) 44 vw. u hyq mylcym iz wcpcf qulm vliey ion uhx nby wihmncnoncihuf aipylhgyhn iz nby lyjovfcw qum hypyl zoffs lymnilyx. wuymul'm alyun-hyjbyq uhx uxijnyx bycl iwnupcuh, funyl ehiqh um uoaomnom, limy ni mify jiqyl uznyl xyzyuncha bcm ijjihyhnm ch nby fumn wcpcf qul iz nby liguh lyjovfcw. iwnupcuh myn uvion mifcxczscha bcm jiqyl, uhx nby ylu iz nby liguh ygjcly vyauh.\n",
      "wuymul qum uh uwwigjfcmbyx uonbil uhx bcmnilcuh um qyff um u mnunymguh; gowb iz bcm fczy cm ehiqh zlig bcm iqh uwwiohnm iz bcm gcfcnuls wugjucahm. inbyl wihnygjiluls miolwym chwfoxy nby fynnylm uhx mjyywbym iz wcwyli uhx nby bcmnilcwuf qlcncham iz muffomn. funyl vcialujbcym iz wuymul vs moynihcom uhx jfonulwb uly ufmi cgjilnuhn miolwym. wuymul cm wihmcxylyx vs guhs bcmnilcuhm ni vy ihy iz nby alyunymn gcfcnuls wigguhxylm ch bcmnils. bcm wiahigyh qum movmykoyhnfs uxijnyx um u mshihsg zil \"ygjylil\"; nby ncnfy \"wuymul\" qum omyx nblioabion nby liguh ygjcly, acpcha lcmy ni gixylh xymwyhxuhnm mowb um eucmyl uhx nmul. by bum zlykoyhnfs ujjyulyx ch fcnyluls uhx ulncmncw qilem.\n"
     ]
    }
   ],
   "source": [
    "# code snippet to test the implementation of the encryption function\n",
    "plaintext = 'hello!'\n",
    "mapping = {'h': 'a', 'e': 'p', 'l': 'w', 'o': 'q'}\n",
    "\n",
    "ciphertext = substitution_encrypt(plaintext, mapping)\n",
    "\n",
    "print(plaintext, '->', ciphertext) # expected output 'hello! -> apwwq!'"
   ]
  },
  {
   "cell_type": "markdown",
   "id": "cd574022-82e0-4163-807a-aabb6bd4b86d",
   "metadata": {},
   "source": [
    "### Decryption"
   ]
  },
  {
   "cell_type": "markdown",
   "id": "d38bc5b0-dbb0-4523-acef-495bdf268000",
   "metadata": {
    "jp-MarkdownHeadingCollapsed": true,
    "tags": []
   },
   "source": [
    "Explain how the decoder of a Substitution Cipher works (Max 150 words)"
   ]
  },
  {
   "cell_type": "code",
   "execution_count": 313,
   "id": "adb6fd3b",
   "metadata": {},
   "outputs": [],
   "source": [
    "def substitution_decrypt(ciphertext, mapping):\n",
    "    ''' Decrypt `ciphertext` (str) as a simple substitution cipher with a given\n",
    "       `mapping` (dict) from plaintext letters to ciphertext letters '''\n",
    "    # code here\n",
    "    return plaintext"
   ]
  },
  {
   "cell_type": "code",
   "execution_count": 314,
   "id": "33b9b1e0-9132-4147-8d14-5b036f7a0658",
   "metadata": {},
   "outputs": [
    {
     "name": "stdout",
     "output_type": "stream",
     "text": [
      "apwwq! -> hello!\n"
     ]
    }
   ],
   "source": [
    "# code snippet to test the implementation of the decryption function\n",
    "mapping = {'h': 'a', 'e': 'p', 'l': 'w', 'o': 'q'}  # previous mapping\n",
    "ciphertext = 'apwwq!'\n",
    "\n",
    "plaintext = substitution_decrypt(ciphertext, mapping)\n",
    "\n",
    "print(ciphertext, '->', plaintext)  # expected output 'apwwq! -> hello!'"
   ]
  },
  {
   "cell_type": "markdown",
   "id": "a0a843fd-8f7d-4189-8a7c-d7015d9c2897",
   "metadata": {},
   "source": [
    "### Ciphertext"
   ]
  },
  {
   "cell_type": "code",
   "execution_count": 315,
   "id": "8d8aa5ee-a119-48c0-a9e8-3b4b8a3cb034",
   "metadata": {},
   "outputs": [],
   "source": [
    "# Load ciphertext"
   ]
  },
  {
   "cell_type": "markdown",
   "id": "17025077-c0a2-4a1c-add8-a79897c1d4a0",
   "metadata": {},
   "source": [
    "### Frequency Analysis Attack"
   ]
  },
  {
   "cell_type": "markdown",
   "id": "abda6491-1fb9-4442-b3bc-69c403bfc413",
   "metadata": {},
   "source": [
    "Describe the procedure to break a Simple Substitution Cipher (Max 150 words)"
   ]
  },
  {
   "cell_type": "markdown",
   "id": "59434d7e-a0c1-4d03-8c84-a1f9c948f935",
   "metadata": {},
   "source": [
    "#### English Letters Distribution"
   ]
  },
  {
   "cell_type": "code",
   "execution_count": 316,
   "id": "4e9a0d70-5652-4a5e-bb57-84ed8282b3da",
   "metadata": {},
   "outputs": [],
   "source": [
    "# function to infer the letter distribution from a text\n",
    "def letter_distribution(text):\n",
    "    ''' Return the `distribution` (??) of the letters in `text` (str) '''\n",
    "    # code here\n",
    "    return distribution"
   ]
  },
  {
   "cell_type": "code",
   "execution_count": 317,
   "id": "b7131445-b0b8-44c7-8918-9fad5cb7475a",
   "metadata": {},
   "outputs": [
    {
     "ename": "NameError",
     "evalue": "name 'distribution' is not defined",
     "output_type": "error",
     "traceback": [
      "\u001b[0;31m---------------------------------------------------------------------------\u001b[0m",
      "\u001b[0;31mNameError\u001b[0m                                 Traceback (most recent call last)",
      "Cell \u001b[0;32mIn[317], line 4\u001b[0m\n\u001b[1;32m      1\u001b[0m \u001b[38;5;66;03m# code snippet to test the implementation of `letter_distribution`\u001b[39;00m\n\u001b[1;32m      2\u001b[0m text \u001b[38;5;241m=\u001b[39m \u001b[38;5;124m'\u001b[39m\u001b[38;5;124mhello world!\u001b[39m\u001b[38;5;124m'\u001b[39m\n\u001b[0;32m----> 4\u001b[0m \u001b[43mletter_distribution\u001b[49m\u001b[43m(\u001b[49m\u001b[43mtext\u001b[49m\u001b[43m)\u001b[49m\n\u001b[1;32m      5\u001b[0m \u001b[38;5;66;03m# expected ouput:\u001b[39;00m\n\u001b[1;32m      6\u001b[0m \u001b[38;5;66;03m# {'d': 0.1, 'e': 0.1, 'h': 0.1, 'l': 0.3, 'o': 0.2, 'r': 0.1, 'w': 0.1, ...}\u001b[39;00m\n",
      "Cell \u001b[0;32mIn[316], line 5\u001b[0m, in \u001b[0;36mletter_distribution\u001b[0;34m(text)\u001b[0m\n\u001b[1;32m      3\u001b[0m \u001b[38;5;250m\u001b[39m\u001b[38;5;124;03m''' Return the `distribution` (??) of the letters in `text` (str) '''\u001b[39;00m\n\u001b[1;32m      4\u001b[0m \u001b[38;5;66;03m# code here\u001b[39;00m\n\u001b[0;32m----> 5\u001b[0m \u001b[38;5;28;01mreturn\u001b[39;00m \u001b[43mdistribution\u001b[49m\n",
      "\u001b[0;31mNameError\u001b[0m: name 'distribution' is not defined"
     ]
    }
   ],
   "source": [
    "# code snippet to test the implementation of `letter_distribution`\n",
    "text = 'hello world!'\n",
    "\n",
    "letter_distribution(text)\n",
    "# expected ouput:\n",
    "# {'d': 0.1, 'e': 0.1, 'h': 0.1, 'l': 0.3, 'o': 0.2, 'r': 0.1, 'w': 0.1, ...}"
   ]
  },
  {
   "cell_type": "code",
   "execution_count": null,
   "id": "0052ab81-e261-4660-ab34-f86582601c67",
   "metadata": {},
   "outputs": [],
   "source": [
    "# load text"
   ]
  },
  {
   "cell_type": "code",
   "execution_count": null,
   "id": "eeae9160-8631-4d25-bbb9-79aac9547d23",
   "metadata": {},
   "outputs": [],
   "source": [
    "# estimate the English letters distribution"
   ]
  },
  {
   "cell_type": "code",
   "execution_count": null,
   "id": "266c71cd-20c3-4a53-9050-f380aef8eff4",
   "metadata": {},
   "outputs": [],
   "source": [
    "# plot the English letter distribution"
   ]
  },
  {
   "cell_type": "code",
   "execution_count": null,
   "id": "862cf0c3-d828-4e1c-a10c-485d7f7c5a5d",
   "metadata": {},
   "outputs": [],
   "source": [
    "# store the distribution as a pickle file"
   ]
  },
  {
   "cell_type": "markdown",
   "id": "843e03cd",
   "metadata": {},
   "source": [
    "#### Perform attack"
   ]
  },
  {
   "cell_type": "code",
   "execution_count": null,
   "id": "af14a82e-0202-4d9f-abb3-e1feba2c439c",
   "metadata": {},
   "outputs": [],
   "source": [
    "# perform Frequency analysis attack"
   ]
  },
  {
   "cell_type": "code",
   "execution_count": null,
   "id": "bd3d17c5-49f3-4dfc-8a55-f854c5168eb7",
   "metadata": {},
   "outputs": [],
   "source": [
    "# print mapping"
   ]
  },
  {
   "cell_type": "code",
   "execution_count": null,
   "id": "deb76657-5fce-4f72-9fee-9b4295f62c07",
   "metadata": {},
   "outputs": [],
   "source": [
    "# print decrypted plaintext"
   ]
  },
  {
   "cell_type": "markdown",
   "id": "04ca2b25-4875-4c46-8c53-700a2cf9b658",
   "metadata": {},
   "source": [
    "## Conclusion"
   ]
  },
  {
   "cell_type": "markdown",
   "id": "a0b88e69-52b0-42d2-bcdd-8a53c94307e1",
   "metadata": {},
   "source": [
    "draw your conclusions (max 150 words)"
   ]
  }
 ],
 "metadata": {
  "kernelspec": {
   "display_name": "Python 3 (ipykernel)",
   "language": "python",
   "name": "python3"
  },
  "language_info": {
   "codemirror_mode": {
    "name": "ipython",
    "version": 3
   },
   "file_extension": ".py",
   "mimetype": "text/x-python",
   "name": "python",
   "nbconvert_exporter": "python",
   "pygments_lexer": "ipython3",
   "version": "3.11.7"
  }
 },
 "nbformat": 4,
 "nbformat_minor": 5
}
