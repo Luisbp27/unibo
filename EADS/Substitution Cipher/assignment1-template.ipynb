{
 "cells": [
  {
   "cell_type": "markdown",
   "id": "19108b00",
   "metadata": {},
   "source": [
    "<div style=\"text-align: center;\">\n",
    "<h1>Assignment 1: Substitution Ciphers</font></h1>\n",
    "<h2>Course: Elements of Applied Data Security</font></h2>\n",
    "\n",
    "<center><img src=\"../images/unibo.png\" alt=\"unibo_logo\" width=\"200\"/></center>\n",
    "\n",
    "<h3>Professor: Alex Marchioni and Livia Manovi</font></h3>\n",
    "<h3>University: Università degli Studi di Bologna</font></h3>\n",
    "<h3>Author: Lluis Barca Pons</font></h3>\n",
    "<h3>Date: 2024-03-25</font></h3>\n",
    "</div>"
   ]
  },
  {
   "cell_type": "markdown",
   "id": "e4018325",
   "metadata": {},
   "source": [
    "## Importing Libraries"
   ]
  },
  {
   "cell_type": "code",
   "execution_count": 653,
   "id": "082b70d2-197b-4c55-9092-4c1cb02a6298",
   "metadata": {},
   "outputs": [],
   "source": [
    "import string\n",
    "import os\n",
    "import matplotlib.pyplot as plt\n",
    "import pickle\n",
    "import pickle\n",
    "\n",
    "\n",
    "\n",
    "# English alphabet\n",
    "ALPHABET = string.ascii_lowercase"
   ]
  },
  {
   "cell_type": "markdown",
   "id": "c20a9001-f4fd-401f-922b-db8347ff36fe",
   "metadata": {},
   "source": [
    "## Introduction"
   ]
  },
  {
   "cell_type": "markdown",
   "id": "88c571e3-d03d-4506-a411-67663dc6ff9f",
   "metadata": {},
   "source": [
    "Substitution ciphers represent one of the oldest and simplest classes of encryption techniques, relying on the principle of replacing each element (typically characters in plaintext) with another character or symbol according to a predefined system or key. \n",
    "\n",
    "Unlike transposition ciphers that rearrange the order of the elements, substitution ciphers maintain the original sequence but alter the identities of the elements involved. A classic example is the Caesar cipher, where each letter in the plaintext is shifted a certain number of places down or up the alphabet. \n",
    "\n",
    "Modern variants have evolved to include complex schemes like the monoalphabetic cipher, which maps each letter of the plaintext to a unique letter in the ciphertext alphabet, and the polyalphabetic cipher, which uses multiple substitution alphabets to reduce the predictability of the encryption. Despite their simplicity, substitution ciphers laid the foundational concepts for understanding more advanced cryptographic systems and their vulnerabilities."
   ]
  },
  {
   "cell_type": "markdown",
   "id": "6a297866",
   "metadata": {},
   "source": [
    "## Caesar Cipher"
   ]
  },
  {
   "cell_type": "markdown",
   "id": "b53b1655",
   "metadata": {},
   "source": [
    "Brief description of Caesar Cipher (Max 150 words)"
   ]
  },
  {
   "cell_type": "markdown",
   "id": "2ae56b56-293c-4f94-978b-1ea64f122002",
   "metadata": {},
   "source": [
    "Types of attack of Caesar Cipher (Max 150 words)"
   ]
  },
  {
   "cell_type": "markdown",
   "id": "b29aef0d-75ee-4da1-b058-09fea1bb9c0a",
   "metadata": {},
   "source": [
    "### Encryption"
   ]
  },
  {
   "cell_type": "code",
   "execution_count": 654,
   "id": "43b53968-3fbb-4ac1-a373-6b29c4845f08",
   "metadata": {},
   "outputs": [],
   "source": [
    "def caesar_encrypt(plaintext, shift=0):\n",
    "    ''' Encrypt `plaintext` (str) as a caesar cipher with a given `shift` (int)\n",
    "    '''\n",
    "    # Convert the plaintext to a list of characters\n",
    "    plaintext = list(plaintext)\n",
    "\n",
    "    # Convert the characters to their ASCII values\n",
    "    plaintext = [ord(char) for char in plaintext]\n",
    "\n",
    "    # Shift the ASCII values if the character is a letter\n",
    "    for i in range(len(plaintext)):\n",
    "        if 65 <= plaintext[i] <= 90: # Uppercase\n",
    "            plaintext[i] = (plaintext[i] - 65 + shift) % 26 + 65\n",
    "        elif 97 <= plaintext[i] <= 122: # Lowercase\n",
    "            plaintext[i] = (plaintext[i] - 97 + shift) % 26 + 97\n",
    "\n",
    "    # Convert the shifted ASCII values back to characters\n",
    "    plaintext = [chr(char) for char in plaintext]\n",
    "\n",
    "    # Convert the list of characters to a single string\n",
    "    ciphertext = ''.join(plaintext)\n",
    "\n",
    "    return ciphertext"
   ]
  },
  {
   "cell_type": "code",
   "execution_count": 655,
   "id": "9eb77216-0505-4a29-a8e8-458e273a91f4",
   "metadata": {},
   "outputs": [
    {
     "name": "stdout",
     "output_type": "stream",
     "text": [
      "hello! -> lipps!\n"
     ]
    }
   ],
   "source": [
    "# code snippet to test the implementation of the encryption function\n",
    "plaintext = 'hello!'\n",
    "ciphertext = caesar_encrypt(plaintext, shift=4)\n",
    "\n",
    "print(plaintext, '->', ciphertext) # expected output 'hello! -> lipps!'"
   ]
  },
  {
   "cell_type": "markdown",
   "id": "d79da87f-6130-427e-9104-9619e3b7b5e4",
   "metadata": {},
   "source": [
    "### Decryption"
   ]
  },
  {
   "cell_type": "code",
   "execution_count": 656,
   "id": "a5b0d026",
   "metadata": {},
   "outputs": [],
   "source": [
    "def caesar_decrypt(ciphertext, shift=0):\n",
    "    ''' Decrypt `ciphertext` (str) as a caesar cipher with a given `shift` (int)\n",
    "    '''\n",
    "    # Convert the ciphertext to a list of characters\n",
    "    ciphertext = list(ciphertext)\n",
    "\n",
    "    # Convert the characters to their ASCII values\n",
    "    ciphertext = [ord(char) for char in ciphertext]\n",
    "\n",
    "    # Shift the ASCII values if the character is a letter\n",
    "    for i in range(len(ciphertext)):\n",
    "        if 65 <= ciphertext[i] <= 90: # Uppercase\n",
    "            ciphertext[i] = (ciphertext[i] - 65 - shift) % 26 + 65\n",
    "        elif 97 <= ciphertext[i] <= 122: # Lowercase\n",
    "            ciphertext[i] = (ciphertext[i] - 97 - shift) % 26 + 97\n",
    "\n",
    "    # Convert the shifted ASCII values back to characters\n",
    "    ciphertext = [chr(char) for char in ciphertext]\n",
    "\n",
    "    # Convert the list of characters to a single string\n",
    "    plaintext = ''.join(ciphertext)\n",
    "\n",
    "    return plaintext"
   ]
  },
  {
   "cell_type": "code",
   "execution_count": 657,
   "id": "4317bf77",
   "metadata": {},
   "outputs": [
    {
     "name": "stdout",
     "output_type": "stream",
     "text": [
      "lipps! -> hello!\n"
     ]
    }
   ],
   "source": [
    "# code snippet to test the implementation of the decryption function\n",
    "ciphertext = 'lipps!' # 'hello!' encoded with shift=4\n",
    "plaintext = caesar_decrypt(ciphertext, shift=4)\n",
    "\n",
    "print(ciphertext, '->', plaintext)  # expected output 'lipps! -> hello!'"
   ]
  },
  {
   "cell_type": "markdown",
   "id": "6bf38609",
   "metadata": {},
   "source": [
    "### Ciphertext"
   ]
  },
  {
   "cell_type": "code",
   "execution_count": 658,
   "id": "09746945-d53e-47eb-8bf2-0079a150ecdc",
   "metadata": {},
   "outputs": [],
   "source": [
    "# Load ciphertext\n",
    "def read_file(file_name):\n",
    "    ''' Read the content of a file and return it as a string\n",
    "    '''\n",
    "    try:\n",
    "        with open(file_name, 'r', encoding=\"utf-8\") as file:\n",
    "            return file.read()\n",
    "    except (IOError, OSError, FileNotFoundError) as e:\n",
    "        print(e.strerror)\n",
    "\n",
    "file_path = os.path.join('ciphertext_caesar.txt')\n",
    "ciphertext = read_file(file_path)"
   ]
  },
  {
   "cell_type": "markdown",
   "id": "36d3498f",
   "metadata": {},
   "source": [
    "### Brute Force Attack"
   ]
  },
  {
   "cell_type": "markdown",
   "id": "1c3d1d7c-d12a-4104-8eae-c3ec454069ea",
   "metadata": {},
   "source": [
    "Breaking a Caesar cipher, a process also known as decryption or cracking, exploits its fundamental weakness: the limited number of possible shifts in the alphabet.\n",
    "\n",
    "If we use the **brute force attack**, given the Caesar cipher’s reliance on shifting letters by a fixed number, one can systematically try all 26 possible shifts (excluding the trivial shift of 0) until the decrypted text makes sense. This method is guaranteed to find the correct shift, as the alphabet’s finite size ensures all possibilities are tested."
   ]
  },
  {
   "cell_type": "code",
   "execution_count": 659,
   "id": "60037138",
   "metadata": {},
   "outputs": [
    {
     "name": "stdout",
     "output_type": "stream",
     "text": [
      "Shift 0: aucom dofcom wuymul \n",
      "Shift 1: ztbnl cnebnl vtxltk \n",
      "Shift 2: ysamk bmdamk uswksj \n",
      "Shift 3: xrzlj alczlj trvjri \n",
      "Shift 4: wqyki zkbyki squiqh \n",
      "Shift 5: vpxjh yjaxjh rpthpg \n",
      "Shift 6: uowig xizwig qosgof \n",
      "Shift 7: tnvhf whyvhf pnrfne \n",
      "Shift 8: smuge vgxuge omqemd \n",
      "Shift 9: rltfd ufwtfd nlpdlc \n",
      "Shift 10: qksec tevsec mkockb \n",
      "Shift 11: pjrdb sdurdb ljnbja \n",
      "Shift 12: oiqca rctqca kimaiz \n",
      "Shift 13: nhpbz qbspbz jhlzhy \n",
      "Shift 14: mgoay paroay igkygx \n",
      "Shift 15: lfnzx ozqnzx hfjxfw \n",
      "Shift 16: kemyw nypmyw geiwev \n",
      "Shift 17: jdlxv mxolxv fdhvdu \n",
      "Shift 18: ickwu lwnkwu ecguct \n",
      "Shift 19: hbjvt kvmjvt dbftbs \n",
      "Shift 20: gaius julius caesar \n",
      "Shift 21: fzhtr itkhtr bzdrzq \n",
      "Shift 22: eygsq hsjgsq aycqyp \n",
      "Shift 23: dxfrp grifrp zxbpxo \n",
      "Shift 24: cweqo fqheqo ywaown \n",
      "Shift 25: bvdpn epgdpn xvznvm \n"
     ]
    }
   ],
   "source": [
    "sample = ciphertext[:20]\n",
    "for shift in range(len(ALPHABET)):\n",
    "    plaintext = caesar_decrypt(sample, shift=shift)\n",
    "    print(f'Shift {shift}: {plaintext}')"
   ]
  },
  {
   "cell_type": "code",
   "execution_count": 660,
   "id": "aeeb5386-91a3-405a-81c8-7a106a44f12c",
   "metadata": {},
   "outputs": [
    {
     "name": "stdout",
     "output_type": "stream",
     "text": [
      "gaius julius caesar (12 july 100 bc - 15 march 44 bc) was a roman general and statesman. a member of the first triumvirate, caesar led the roman armies in the gallic wars before defeating his political rival pompey in a civil war, and subsequently became dictator from 49 bc until his assassination in 44 bc. he played a critical role in the events that led to the demise of the roman republic and the rise of the roman empire.\n",
      "in 60 bc, caesar, crassus, and pompey formed the first triumvirate, an informal political alliance that dominated roman politics for several years. their attempts to amass political power were opposed by many in the senate, among them cato the younger with the private support of cicero. caesar rose to become one of the most powerful politicians in the roman republic through a string of military victories in the gallic wars, completed by 51 bc, which greatly extended roman territory. during this time he both invaded britain and built a bridge across the river rhine. these achievements and the support of his veteran army threatened to eclipse the standing of pompey, who had realigned himself with the senate after the death of crassus in 53 bc. with the gallic wars concluded, the senate ordered caesar to step down from his military command and return to rome. in 49 bc, caesar openly defied the senate's authority by crossing the rubicon and marching towards rome at the head of an army. this began caesar's civil war, which he won, leaving him in a position of near-unchallenged power and influence in 45 bc.\n",
      "after assuming control of government, caesar began a programme of social and governmental reform, including the creation of the julian calendar. he gave citizenship to many residents of far regions of the roman republic. he initiated land reforms to support his veterans and initiated an enormous building programme. in early 44 he was proclaimed \"dictator for life\" (dictator perpetuo). fearful of his power and domination of the state, a group of senators led by brutus and cassius assassinated caesar on the ides of march (15 march) 44 bc. a new series of civil wars broke out and the constitutional government of the republic was never fully restored. caesar's great-nephew and adopted heir octavian, later known as augustus, rose to sole power after defeating his opponents in the last civil war of the roman republic. octavian set about solidifying his power, and the era of the roman empire began.\n",
      "caesar was an accomplished author and historian as well as a statesman; much of his life is known from his own accounts of his military campaigns. other contemporary sources include the letters and speeches of cicero and the historical writings of sallust. later biographies of caesar by suetonius and plutarch are also important sources. caesar is considered by many historians to be one of the greatest military commanders in history. his cognomen was subsequently adopted as a synonym for \"emperor\"; the title \"caesar\" was used throughout the roman empire, giving rise to modern descendants such as kaiser and tsar. he has frequently appeared in literary and artistic works.\n"
     ]
    }
   ],
   "source": [
    "# Decrypt the ciphertext\n",
    "plaintext = caesar_decrypt(ciphertext, 20)\n",
    "print(plaintext)"
   ]
  },
  {
   "cell_type": "markdown",
   "id": "9503d65c",
   "metadata": {},
   "source": [
    "## Simple Substitution Cipher"
   ]
  },
  {
   "cell_type": "markdown",
   "id": "1142538f-3869-4cde-b822-e75b386169ad",
   "metadata": {},
   "source": [
    "A Simple Substitution Cipher is a cryptographic method where each letter in the plaintext is replaced with a letter that has a fixed relationship to it, according to a predefined substitution alphabet. Unlike the Caesar cipher, which shifts letters by a fixed number, the Simple Substitution Cipher uses a one-to-one mapping where each letter in the plaintext alphabet is matched with a unique letter in the ciphertext alphabet. This mapping is the cipher's key. For example, 'A' might be replaced with 'M', 'B' with 'X', and so on, completely scrambling the message. The key to decryption is knowing the specific letter mappings used in the encryption process. \n",
    "\n",
    "Due to its reliance on a single alphabet transformation, the Simple Substitution Cipher is vulnerable to frequency analysis, as patterns in letter usage can reveal clues about the substitution. Despite this, it significantly increases complexity compared to the Caesar cipher by offering a much larger number of possible keys."
   ]
  },
  {
   "cell_type": "markdown",
   "id": "7d156339-cebb-4302-9ee2-a74cc5b87866",
   "metadata": {},
   "source": [
    "Simple Substitution Ciphers are vulnerable to several types of attacks due to their reliance on fixed mappings between plaintext and ciphertext characters. The primary attack methods include:\n",
    "\n",
    "1. **Frequency Analysis**: This involves studying the frequency of letters or groups of letters in the ciphertext and comparing them with known frequencies in the language of the plaintext. Since each letter maps to a specific substitute, the patterns can reveal the substitution scheme.\n",
    "\n",
    "2. **Known Plaintext Attack**: If the attacker has access to even small portions of both the plaintext and corresponding ciphertext, they can deduce the mapping of several letters, which can be extended to crack the entire cipher.\n",
    "\n",
    "3. **Pattern Words Analysis**: Words or phrases that repeat in the ciphertext can be analyzed for patterns. Since certain words in languages have characteristic repeating patterns, these can be matched against the patterns in the ciphertext to identify possible word matches.\n",
    "\n",
    "4. **Brute Force Attack**: Though impractical due to the vast number of possible keys (26!), a brute force attack could theoretically try every possible mapping until the correct one is found."
   ]
  },
  {
   "cell_type": "markdown",
   "id": "1b6cc83d-e26d-49cc-8475-0789d2425df0",
   "metadata": {},
   "source": [
    "### Encryption"
   ]
  },
  {
   "cell_type": "markdown",
   "id": "2cfdf6bf-3701-42f0-8a7a-018fa90dac99",
   "metadata": {
    "jp-MarkdownHeadingCollapsed": true,
    "tags": []
   },
   "source": [
    "Explain how the encryption of a Simple Substitution Cipher works (Max 150 words)"
   ]
  },
  {
   "cell_type": "code",
   "execution_count": 661,
   "id": "dd72620a-d955-4fba-872f-ebcd005d484d",
   "metadata": {},
   "outputs": [],
   "source": [
    "def substitution_encrypt(plaintext, mapping):\n",
    "    ''' Encrypt `ciphertext` (str) as a simple substitution cipher with a given\n",
    "        `mapping` (??) from plaintext letters to ciphertext letters '''\n",
    "\n",
    "    # Convert the plaintext to a list of characters\n",
    "    plaintext = list(plaintext)\n",
    "\n",
    "    # Apply the mapping to the plaintext\n",
    "    for i in range(len(plaintext)):\n",
    "        if plaintext[i] in mapping:\n",
    "            plaintext[i] = mapping[plaintext[i]]\n",
    "\n",
    "    # Convert the list of characters to a single string\n",
    "    ciphertext = ''.join(plaintext)\n",
    "\n",
    "    return ciphertext"
   ]
  },
  {
   "cell_type": "code",
   "execution_count": 662,
   "id": "177d186b-bc0a-4dca-a1b4-b1244cfb7bb1",
   "metadata": {},
   "outputs": [
    {
     "name": "stdout",
     "output_type": "stream",
     "text": [
      "hello! -> apwwq!\n"
     ]
    }
   ],
   "source": [
    "# code snippet to test the implementation of the encryption function\n",
    "plaintext = 'hello!'\n",
    "mapping = {'h': 'a', 'e': 'p', 'l': 'w', 'o': 'q'}\n",
    "\n",
    "ciphertext = substitution_encrypt(plaintext, mapping)\n",
    "\n",
    "print(plaintext, '->', ciphertext) # expected output 'hello! -> apwwq!'"
   ]
  },
  {
   "cell_type": "markdown",
   "id": "cd574022-82e0-4163-807a-aabb6bd4b86d",
   "metadata": {},
   "source": [
    "### Decryption"
   ]
  },
  {
   "cell_type": "markdown",
   "id": "d38bc5b0-dbb0-4523-acef-495bdf268000",
   "metadata": {
    "jp-MarkdownHeadingCollapsed": true,
    "tags": []
   },
   "source": [
    "Explain how the decoder of a Substitution Cipher works (Max 150 words)"
   ]
  },
  {
   "cell_type": "code",
   "execution_count": 663,
   "id": "adb6fd3b",
   "metadata": {},
   "outputs": [],
   "source": [
    "def substitution_decrypt(ciphertext, mapping):\n",
    "   ''' Decrypt `ciphertext` (str) as a simple substitution cipher with a given\n",
    "   `mapping` (dict) from plaintext letters to ciphertext letters '''\n",
    "\n",
    "   # Convert the ciphertext to a list of characters\n",
    "   ciphertext = list(ciphertext)\n",
    "\n",
    "   # Apply the mapping to the ciphertext\n",
    "   for i in range(len(ciphertext)):\n",
    "         for key, value in mapping.items():\n",
    "            if ciphertext[i] == value:\n",
    "               ciphertext[i] = key\n",
    "               break\n",
    "\n",
    "   # Convert the list of characters to a single string\n",
    "   plaintext = ''.join(ciphertext)\n",
    "\n",
    "   return plaintext"
   ]
  },
  {
   "cell_type": "code",
   "execution_count": 664,
   "id": "33b9b1e0-9132-4147-8d14-5b036f7a0658",
   "metadata": {},
   "outputs": [
    {
     "name": "stdout",
     "output_type": "stream",
     "text": [
      "apwwq! -> hello!\n"
     ]
    }
   ],
   "source": [
    "# code snippet to test the implementation of the decryption function\n",
    "mapping = {'h': 'a', 'e': 'p', 'l': 'w', 'o': 'q'}  # previous mapping\n",
    "ciphertext = 'apwwq!'\n",
    "\n",
    "plaintext = substitution_decrypt(ciphertext, mapping)\n",
    "\n",
    "print(ciphertext, '->', plaintext)  # expected output 'apwwq! -> hello!'"
   ]
  },
  {
   "cell_type": "markdown",
   "id": "a0a843fd-8f7d-4189-8a7c-d7015d9c2897",
   "metadata": {},
   "source": [
    "### Ciphertext"
   ]
  },
  {
   "cell_type": "code",
   "execution_count": 665,
   "id": "8d8aa5ee-a119-48c0-a9e8-3b4b8a3cb034",
   "metadata": {},
   "outputs": [],
   "source": [
    "# Load ciphertext\n",
    "file_path = os.path.join('ciphertext_simple.txt')\n",
    "ciphertext = read_file(file_path)"
   ]
  },
  {
   "cell_type": "markdown",
   "id": "17025077-c0a2-4a1c-add8-a79897c1d4a0",
   "metadata": {},
   "source": [
    "### Frequency Analysis Attack"
   ]
  },
  {
   "cell_type": "markdown",
   "id": "abda6491-1fb9-4442-b3bc-69c403bfc413",
   "metadata": {},
   "source": [
    "Describe the procedure to break a Simple Substitution Cipher (Max 150 words)"
   ]
  },
  {
   "cell_type": "markdown",
   "id": "59434d7e-a0c1-4d03-8c84-a1f9c948f935",
   "metadata": {},
   "source": [
    "#### English Letters Distribution"
   ]
  },
  {
   "cell_type": "code",
   "execution_count": 666,
   "id": "4e9a0d70-5652-4a5e-bb57-84ed8282b3da",
   "metadata": {},
   "outputs": [],
   "source": [
    "def letter_distribution(text):\n",
    "    ''' Return the `distribution` (??) of the letters in `text` (str) '''\n",
    "\n",
    "    # Create a dictionary to store the distribution of the letters\n",
    "    distribution = {}\n",
    "\n",
    "    # Count the number of times each letter appears in the text\n",
    "    for letter in text:\n",
    "        # Only consider the letter if it is an alphabet letter\n",
    "        if letter.isalpha():\n",
    "            # If the letter is already in the distribution, increment its count\n",
    "            if letter.lower() in distribution:\n",
    "                distribution[letter.lower()] += 0.1\n",
    "            else:\n",
    "                distribution[letter.lower()] = 0.1\n",
    "\n",
    "    # Round each element of the distribution list with 1 decimal\n",
    "    distribution = {key: round(value, 1) for key, value in distribution.items()}\n",
    "\n",
    "    # Sort the distribution alphabetically\n",
    "    distribution = dict(sorted(distribution.items()))\n",
    "\n",
    "    return distribution"
   ]
  },
  {
   "cell_type": "code",
   "execution_count": 667,
   "id": "b7131445-b0b8-44c7-8918-9fad5cb7475a",
   "metadata": {},
   "outputs": [
    {
     "data": {
      "text/plain": [
       "{'d': 0.1, 'e': 0.1, 'h': 0.1, 'l': 0.3, 'o': 0.2, 'r': 0.1, 'w': 0.1}"
      ]
     },
     "execution_count": 667,
     "metadata": {},
     "output_type": "execute_result"
    }
   ],
   "source": [
    "# code snippet to test the implementation of `letter_distribution`\n",
    "text = 'hello world!'\n",
    "\n",
    "letter_distribution(text)\n",
    "# expected ouput:\n",
    "# {'d': 0.1, 'e': 0.1, 'h': 0.1, 'l': 0.3, 'o': 0.2, 'r': 0.1, 'w': 0.1, ...}"
   ]
  },
  {
   "cell_type": "code",
   "execution_count": 668,
   "id": "0052ab81-e261-4660-ab34-f86582601c67",
   "metadata": {},
   "outputs": [],
   "source": [
    "# load text\n",
    "file_path = os.path.join('The-Adventure-of-the-Dancing-Men.txt')\n",
    "text = read_file(file_path)"
   ]
  },
  {
   "cell_type": "code",
   "execution_count": 669,
   "id": "eeae9160-8631-4d25-bbb9-79aac9547d23",
   "metadata": {},
   "outputs": [
    {
     "name": "stdout",
     "output_type": "stream",
     "text": [
      "{'a': 320.6, 'b': 58.9, 'c': 102.4, 'd': 174.7, 'e': 498.4, 'f': 86.1, 'g': 68.2, 'h': 268.1, 'i': 281.1, 'j': 3.3, 'k': 30.7, 'l': 154.7, 'm': 108.1, 'n': 275.5, 'o': 315.1, 'p': 67.3, 'q': 3.6, 'r': 225.9, 's': 253.3, 't': 367.9, 'u': 121.5, 'v': 39.1, 'w': 104.6, 'x': 5.7, 'y': 83.3, 'z': 1.6}\n"
     ]
    }
   ],
   "source": [
    "# estimate the English letters distribution\n",
    "distribution = letter_distribution(text)\n",
    "print(distribution)"
   ]
  },
  {
   "cell_type": "code",
   "execution_count": 670,
   "id": "587acc03",
   "metadata": {},
   "outputs": [
    {
     "data": {
      "image/png": "[encoded data removed]",
      "text/plain": [
       "<Figure size 640x480 with 1 Axes>"
      ]
     },
     "metadata": {},
     "output_type": "display_data"
    }
   ],
   "source": [
    "# plot the English letter distribution by decreasing order of frequency\n",
    "\n",
    "sorted_letters = sorted(distribution.keys(), key=lambda x: distribution[x], reverse=True)\n",
    "sorted_frequencies = [distribution[letter] for letter in sorted_letters]\n",
    "\n",
    "plt.bar(sorted_letters, sorted_frequencies)\n",
    "\n",
    "plt.title('English letter distribution')\n",
    "plt.xlabel('Letters')\n",
    "plt.ylabel('Frequency')\n",
    "plt.show()"
   ]
  },
  {
   "cell_type": "code",
   "execution_count": 671,
   "id": "862cf0c3-d828-4e1c-a10c-485d7f7c5a5d",
   "metadata": {},
   "outputs": [],
   "source": [
    "# store the distribution as a pickle file\n",
    "with open('english_distribution.pkl', 'wb') as file:\n",
    "    pickle.dump(distribution, file)\n"
   ]
  },
  {
   "cell_type": "markdown",
   "id": "843e03cd",
   "metadata": {},
   "source": [
    "#### Perform attack"
   ]
  },
  {
   "cell_type": "code",
   "execution_count": 672,
   "id": "2bc11c0f",
   "metadata": {},
   "outputs": [
    {
     "data": {
      "image/png": "[encoded data removed]",
      "text/plain": [
       "<Figure size 640x480 with 1 Axes>"
      ]
     },
     "metadata": {},
     "output_type": "display_data"
    }
   ],
   "source": [
    "# plot the ciphertext letter distribution by decreasing order of frequency\n",
    "ciphertext_distribution = letter_distribution(ciphertext)\n",
    "\n",
    "sorted_letters = sorted(ciphertext_distribution.keys(), key=lambda x: ciphertext_distribution[x], reverse=True)\n",
    "sorted_frequencies = [ciphertext_distribution[letter] for letter in sorted_letters]\n",
    "\n",
    "plt.bar(sorted_letters, sorted_frequencies)\n",
    "\n",
    "plt.title('Ciphertext letter distribution')\n",
    "plt.xlabel('Letters')\n",
    "plt.ylabel('Frequency')\n",
    "plt.show()"
   ]
  },
  {
   "cell_type": "code",
   "execution_count": 673,
   "id": "af14a82e-0202-4d9f-abb3-e1feba2c439c",
   "metadata": {},
   "outputs": [
    {
     "name": "stdout",
     "output_type": "stream",
     "text": [
      "dict_keys(['e', 't', 'a', 'o', 'i', 'n', 'h', 's', 'r', 'd', 'l', 'u', 'm', 'w', 'c', 'f', 'y', 'g', 'p', 'b', 'v', 'k', 'x', 'q', 'j', 'z'])\n",
      "dict_keys(['z', 'b', 'h', 's', 'r', 'l', 'n', 'w', 'v', 'i', 'g', 'a', 'c', 'o', 'd', 'e', 'k', 'q', 'j', 'p', 'x', 't', 'm', 'u', 'y', 'f'])\n"
     ]
    }
   ],
   "source": [
    "# perform Frequency analysis attack\n",
    "\n",
    "# Decrypt the ciphertext using frequency analysis\n",
    "def frequency_analysis_attack(ciphertext):\n",
    "\n",
    "    # Load the English letter distribution\n",
    "    with open('english_distribution.pkl', 'rb') as file:\n",
    "        english_distribution = pickle.load(file)\n",
    "        # Order the English letter distribution by frequency in descending order\n",
    "        english_distribution = dict(sorted(english_distribution.items(), key=lambda x: x[1], reverse=True))\n",
    "    print(english_distribution.keys())\n",
    "\n",
    "    # Sort the ciphertext distribution by frequency in descending order\n",
    "    sorted_distribution = dict(sorted(ciphertext_distribution.items(), key=lambda x: x[1], reverse=True))\n",
    "    print(sorted_distribution.keys())\n",
    "\n",
    "    # Initialize an empty mapping for the substitution cipher\n",
    "    mapping = {}\n",
    "\n",
    "    # Map the letters in the ciphertext to the letters in the English language\n",
    "    for i in range(len(ALPHABET)):\n",
    "        mapping[list(sorted_distribution.keys())[i]] = list(english_distribution.keys())[i]\n",
    "\n",
    "    # Decrypt the ciphertext using the mapping\n",
    "    plaintext = substitution_decrypt(ciphertext, mapping)\n",
    "\n",
    "    return plaintext\n",
    "\n",
    "# Perform frequency analysis attack on the ciphertext\n",
    "decrypted_text = frequency_analysis_attack(ciphertext)"
   ]
  },
  {
   "cell_type": "code",
   "execution_count": 674,
   "id": "bd3d17c5-49f3-4dfc-8a55-f854c5168eb7",
   "metadata": {},
   "outputs": [
    {
     "name": "stdout",
     "output_type": "stream",
     "text": [
      "{'h': 'a', 'e': 'p', 'l': 'w', 'o': 'q'}\n"
     ]
    }
   ],
   "source": [
    "# print mapping\n",
    "print(mapping)"
   ]
  },
  {
   "cell_type": "code",
   "execution_count": 675,
   "id": "deb76657-5fce-4f72-9fee-9b4295f62c07",
   "metadata": {},
   "outputs": [
    {
     "name": "stdout",
     "output_type": "stream",
     "text": [
      "qrnshf fryggh lxnppgp (ntovr 30, 1916 ifjosnou 24, 2001) ynl np ndfovqnp dnwxfdnwvqvnp, frfqwovqnr fpzvpffo, qgdtswfo lqvfpwvlw nph qoutwgzontxfo bpgyp nl wxf \"inwxfo gi vpigodnwvgp wxfgou\". xf ynl wxf ivolw wg hflqovjf wxf jggrfnp znwfl (frfqwogpvq qvoqsvwl) wxnw nof fllfpwvnr wg nrr hvzvwnr frfqwogpvq qvoqsvwl, nph xf jsvrw wxf ivolw dnqxvpf rfnopvpz hfmvqf, wxsl igsphvpz wxf ivfrh gi nowvivqvnr vpwfrrvzfpqf. xf vl qofhvwfh nrgpzlvhf zfgozf jggrf igo rnuvpz wxf igsphnwvgpl gi wxf vpigodnwvgp nzf.nl n 21-ufno-grh dnlwfo'l hfzoff lwshfpw nw wxf dnllnqxslfwwl vplwvwswf gi wfqxpgrgzu (dvw), xf yogwf xvl wxflvl hfdgplwonwvpz wxnw frfqwovqnr nttrvqnwvgpl gi jggrfnp nrzfjon qgsrh qgplwosqw npu rgzvqnr psdfovqnr ofrnwvgplxvt, wxfofju flwnjrvlxvpz wxf wxfgou jfxvph hvzvwnr qgdtswvpz nph hvzvwnr qvoqsvwl. vp 1987, xgynoh znohpfo qnrrfh xvl wxflvl \"tgllvjru wxf dglw vdtgownpw, nph nrlg wxf dglw indgsl, dnlwfo'l wxflvl gi wxf qfpwsou\", nph xfodnp zgrhlwvpf hflqovjfh vw nl \"lsofru ... gpf gi wxf dglw vdtgownpw dnlwfo'l wxflfl fmfo yovwwfp ... vw xfrtfh wg qxnpzf hvzvwnr qvoqsvw hflvzp iogd np now wg n lqvfpqf.\"lxnppgp nrlg qgpwovjswfh wg wxf ivfrh gi qoutwnpnrulvl igo pnwvgpnr hfifplf gi wxf spvwfh lwnwfl hsovpz ygorh yno vv, vpqrshvpz xvl isphndfpwnr ygob gp qghfjofnbvpz nph lfqsof wfrfqgddspvqnwvgpl, yovwvpz n tntfo yxvqx vl qgplvhfofh gpf gi wxf igsphnwvgpnr tvfqfl gi dghfop qoutwgzontxu, nph yxglf ygob \"ynl n wsopvpz tgvpw, nph dnobfh wxf qrglsof gi qrnllvqnr qoutwgzontxu nph wxf jfzvppvpz gi dghfop qoutwgzontxu.\"xvl dnwxfdnwvqnr wxfgou gi qgddspvqnwvgp rnvh wxf igsphnwvgpl igo wxf ivfrh gi vpigodnwvgp wxfgou, yvwx xvl indgsl tntfo jfvpz qnrrfh wxf \"dnzpn qnown gi wxf vpigodnwvgp nzf\" ju lqvfpwvivq ndfovqnp, nrgpz yvwx xvl ygob jfvpz hflqovjfh nl jfvpz nw \"wxf xfnow gi wghnu'l hvzvwnr vpigodnwvgp wfqxpgrgzu\".xvl wxflfsl dnqxvpf ynl wxf ivolw frfqwovqnr hfmvqf wg rfnop ju wovnr nph foogo. vw vl ynl wxsl wxf ivolw fcndtrf gi nowvivqvnr vpwfrrvzfpqf.oghpfu joggbl hfqrnofh wxnw lxnppgp ynl wxf 20wx qfpwsou fpzvpffo yxg qgpwovjswfh wxf dglw wg 21lw qfpwsou wfqxpgrgzvfl. xvl nqxvfmfdfpwl nof lnvh wg jf gp tno yvwx wxglf gi nrjfow fvplwfvp nph lvo vlnnq pfywgp vp wxfvo ivfrhl.\n",
      "\n",
      "\n",
      "== jvgzontxu ==\n",
      "\n",
      "\n",
      "=== qxvrhxggh ===\n",
      "wxf lxnppgp indvru rvmfh vp znurgoh, dvqxvznp, nph qrnshf ynl jgop vp n xgltvwnr vp pfnoju tfwglbfu. xvl inwxfo, qrnshf lo. (18621934), ynl n jslvpflldnp nph, igo n yxvrf, n ashzf gi togjnwf vp znurgoh. xvl dgwxfo, dnjfr ygri lxnppgp (18901945), ynl n rnpzsnzf wfnqxfo, yxg nrlg lfomfh nl wxf tovpqvtnr gi znurgoh xvzx lqxggr. qrnshf lo. ynl n hflqfphnpw gi pfy afolfu lfwwrfol, yxvrf dnjfr ynl n qxvrh gi zfodnp vddvzonpwl. lxnppgp'l indvru ynl nqwvmf vp wxfvo dfwxghvlw qxsoqx hsovpz xvl ugswx.dglw gi wxf ivolw 16 ufnol gi lxnppgp'l rvif yfof ltfpw vp znurgoh, yxfof xf nwwfphfh tsjrvq lqxggr, zonhsnwvpz iogd znurgoh xvzx lqxggr vp 1932. lxnppgp lxgyfh np vpqrvpnwvgp wgynohl dfqxnpvqnr nph frfqwovqnr wxvpzl. xvl jflw lsjafqwl yfof lqvfpqf nph dnwxfdnwvql. nw xgdf, xf qgplwosqwfh lsqx hfmvqfl nl dghfrl gi trnpfl, n onhvg-qgpwogrrfh dghfr jgnw nph n jnojfh-yvof wfrfzontx lulwfd wg n iovfph'l xgslf n xnri-dvrf nynu. yxvrf zogyvpz st, xf nrlg ygobfh nl n dfllfpzfo igo wxf yflwfop spvgp qgdtnpu.\n",
      "lxnppgp'l qxvrhxggh xfog ynl wxgdnl fhvlgp, yxgd xf rnwfo rfnopfh ynl n hvlwnpw qgslvp. jgwx lxnppgp nph fhvlgp yfof hflqfphnpwl gi agxp gzhfp (16091682), n qgrgpvnr rfnhfo nph np npqflwgo gi dnpu hvlwvpzsvlxfh tfgtrf.\n",
      "\n",
      "\n",
      "=== rgzvq qvoqsvwl ===\n",
      "vp 1932, lxnppgp fpwfofh wxf spvmfolvwu gi dvqxvznp, yxfof xf ynl vpwoghsqfh wg wxf ygob gi zfgozf jggrf. xf zonhsnwfh vp 1936 yvwx wyg jnqxfrgo'l hfzoffl: gpf vp frfqwovqnr fpzvpffovpz nph wxf gwxfo vp dnwxfdnwvql.\n",
      "vp 1936, lxnppgp jfznp xvl zonhsnwf lwshvfl vp frfqwovqnr fpzvpffovpz nw dvw, yxfof xf ygobfh gp mnppfmno jslx'l hviifofpwvnr npnrukfo, np fnoru npnrgz qgdtswfo. yxvrf lwshuvpz wxf qgdtrvqnwfh nh xgq qvoqsvwl gi wxvl npnrukfo, lxnppgp hflvzpfh lyvwqxvpz qvoqsvwl jnlfh gp jggrf'l qgpqftwl. vp 1937, xf yogwf xvl dnlwfo'l hfzoff wxflvl, n ludjgrvq npnrulvl gi ofrnu nph lyvwqxvpz qvoqsvwl. n tntfo iogd wxvl wxflvl ynl tsjrvlxfh vp 1938. vp wxvl ygob, lxnppgp hvnzondfh lyvwqxvpz qvoqsvwl wxnw qgsrh vdtrfdfpw wxf fllfpwvnr gtfonwgol gi jggrfnp nrzfjon. wxfp xf togmfh wxnw xvl lyvwqxvpz qvoqsvwl qgsrh jf slfh wg lvdtrviu wxf noonpzfdfpw gi wxf frfqwogdfqxnpvqnr ofrnul wxnw yfof slfh hsovpz wxnw wvdf vp wfrftxgpf qnrr ogswvpz lyvwqxfl. pfcw, xf fctnphfh wxvl qgpqftw, togmvpz wxnw wxflf qvoqsvwl qgsrh lgrmf nrr togjrfdl wxnw jggrfnp nrzfjon qgsrh lgrmf. vp wxf rnlw qxntwfo, xf toflfpwfh hvnzondl gi lfmfonr qvoqsvwl, vpqrshvpz n hvzvwnr 4-jvw isrr nhhfo.slvpz wxvl togtfowu gi frfqwovqnr lyvwqxfl wg vdtrfdfpw rgzvq vl wxf isphndfpwnr qgpqftw wxnw sphforvfl nrr frfqwogpvq hvzvwnr qgdtswfol. lxnppgp'l ygob jfqndf wxf igsphnwvgp gi hvzvwnr qvoqsvw hflvzp, nl vw jfqndf yvhfru bpgyp vp wxf frfqwovqnr fpzvpffovpz qgddspvwu hsovpz nph niwfo ygorh yno vv. wxf wxfgofwvqnr ovzgo gi lxnppgp'l ygob lstfolfhfh wxf nh xgq dfwxghl wxnw xnh tofmnvrfh tofmvgslru. xgynoh znohpfo qnrrfh lxnppgp'l wxflvl \"tgllvjru wxf dglw vdtgownpw, nph nrlg wxf dglw pgwfh, dnlwfo'l wxflvl gi wxf qfpwsou.\"lxnppgp ofqfvmfh xvl txh vp dnwxfdnwvql iogd dvw vp 1940. mnppfmno jslx xnh lszzflwfh wxnw lxnppgp lxgsrh ygob gp xvl hvllfownwvgp nw wxf qgrh ltovpz xnojgo rnjgonwgou, vp gohfo wg hfmfrgt n dnwxfdnwvqnr igodsrnwvgp igo dfphfrvnp zfpfwvql. wxvl oflfnoqx oflsrwfh vp lxnppgp'l txh wxflvl, qnrrfh np nrzfjon igo wxfgofwvqnr zfpfwvql.vp 1940, lxnppgp jfqndf n pnwvgpnr oflfnoqx ifrrgy nw wxf vplwvwswf igo nhmnpqfh lwshu vp tovpqfwgp, pfy afolfu. vp tovpqfwgp, lxnppgp xnh wxf gttgowspvwu wg hvlqsll xvl vhfnl yvwx vpirsfpwvnr lqvfpwvlwl nph dnwxfdnwvqvnpl lsqx nl xfodnpp yfur nph agxp mgp pfsdnpp, nph xf nrlg xnh gqqnlvgpnr fpqgspwfol yvwx nrjfow fvplwfvp nph bsow zhfr. lxnppgp ygobfh ioffru nqogll hvlqvtrvpfl, nph wxvl njvrvwu dnu xnmf qgpwovjswfh wg xvl rnwfo hfmfrgtdfpw gi dnwxfdnwvqnr vpigodnwvgp wxfgou.\n",
      "\n",
      "\n",
      "=== ynowvdf oflfnoqx ===\n",
      "lxnppgp wxfp agvpfh jfrr rnjl wg ygob gp ivof-qgpwogr lulwfdl nph qoutwgzontxu hsovpz ygorh yno vv, sphfo n qgpwonqw yvwx lfqwvgp h-2 (qgpwogr lulwfdl lfqwvgp) gi wxf pnwvgpnr hfifplf oflfnoqx qgddvwwff (phoq).\n",
      "lxnppgp vl qofhvwfh yvwx wxf vpmfpwvgp gi lvzpnr-irgy zontxl, vp 1942. xf hvlqgmfofh wxf wgtgrgzvqnr znvp igodsrn yxvrf vpmflwvznwvpz wxf ispqwvgpnr gtfonwvgp gi np npnrgz qgdtswfo.igo wyg dgpwxl fnoru vp 1943, lxnppgp qndf vpwg qgpwnqw yvwx wxf rfnhvpz jovwvlx dnwxfdnwvqvnp nrnp wsovpz. wsovpz xnh jffp tglwfh wg ynlxvpzwgp wg lxnof yvwx wxf s.l. pnmu'l qoutwnpnruwvq lfomvqf wxf dfwxghl slfh ju wxf jovwvlx zgmfopdfpw qghf nph qutxfo lqxggr nw jrfwqxrfu tnob wg jofnb wxf qutxfol slfh ju wxf bovfzldnovpf s-jgnwl vp wxf pgowx nwrnpwvq gqfnp. xf ynl nrlg vpwfoflwfh vp wxf fpqvtxfodfpw gi ltffqx nph wg wxvl fph ltfpw wvdf nw jfrr rnjl. lxnppgp nph wsovpz dfw nw wfnwvdf vp wxf qnifwfovn. wsovpz lxgyfh lxnppgp xvl 1936 tntfo wxnw hfivpfh yxnw vl pgy bpgyp nl wxf \"spvmfolnr wsovpz dnqxvpf\". wxvl vdtofllfh lxnppgp, nl dnpu gi vwl vhfnl qgdtrfdfpwfh xvl gyp.\n",
      "vp 1945, nl wxf yno ynl qgdvpz wg np fph, wxf phoq ynl vllsvpz n lsddnou gi wfqxpvqnr oftgowl nl n rnlw lwft tovgo wg vwl fmfpwsnr qrglvpz hgyp. vplvhf wxf mgrsdf gp ivof qgpwogr, n ltfqvnr fllnu wvwrfh hnwn ldggwxvpz nph tofhvqwvgp vp ivof-qgpwogr lulwfdl, qgnswxgofh ju lxnppgp, onrtx jffjf jrnqbdnp, nph xfphovb ynhf jghf, igodnrru wofnwfh wxf togjrfd gi ldggwxvpz wxf hnwn vp ivof-qgpwogr ju npnrgzu yvwx \"wxf togjrfd gi lftnonwvpz n lvzpnr iogd vpwfoifovpz pgvlf vp qgddspvqnwvgpl lulwfdl.\" vp gwxfo ygohl, vw dghfrfh wxf togjrfd vp wfodl gi hnwn nph lvzpnr togqfllvpz nph wxsl xfonrhfh wxf qgdvpz gi wxf vpigodnwvgp nzf.\n",
      "lxnppgp'l ygob gp qoutwgzontxu ynl fmfp dgof qrglfru ofrnwfh wg xvl rnwfo tsjrvqnwvgpl gp qgddspvqnwvgp wxfgou. nw wxf qrglf gi wxf yno, xf toftnofh n qrnllvivfh dfdgonphsd igo jfrr wfrftxgpf rnjl fpwvwrfh \"n dnwxfdnwvqnr wxfgou gi qoutwgzontxu\", hnwfh lftwfdjfo 1945. n hfqrnllvivfh mfolvgp gi wxvl tntfo ynl tsjrvlxfh vp 1949 nl \"qgddspvqnwvgp wxfgou gi lfqofqu lulwfdl\" vp wxf jfrr lulwfd wfqxpvqnr agsopnr. wxvl tntfo vpqgotgonwfh dnpu gi wxf qgpqftwl nph dnwxfdnwvqnr igodsrnwvgpl wxnw nrlg nttfnofh vp xvl n dnwxfdnwvqnr wxfgou gi qgddspvqnwvgp. lxnppgp lnvh wxnw xvl ynowvdf vplvzxwl vpwg qgddspvqnwvgp wxfgou nph qoutwgzontxu hfmfrgtfh lvdsrwnpfgslru, nph wxnw \"wxfu yfof lg qrglf wgzfwxfo ugs qgsrhp'w lftnonwf wxfd\". vp n iggwpgwf pfno wxf jfzvppvpz gi wxf qrnllvivfh oftgow, lxnppgp nppgspqfh xvl vpwfpwvgp wg \"hfmfrgt wxflf oflsrwl vp n igowxqgdvpz dfdgonphsd gp wxf wonpldvllvgp gi vpigodnwvgp.\"yxvrf xf ynl nw jfrr rnjl, lxnppgp togmfh wxnw wxf qoutwgzontxvq gpf-wvdf tnh vl spjofnbnjrf vp xvl qrnllvivfh oflfnoqx wxnw ynl rnwfo tsjrvlxfh vp 1949. wxf lndf nowvqrf nrlg togmfh wxnw npu spjofnbnjrf lulwfd dslw xnmf fllfpwvnrru wxf lndf qxnonqwfovlwvql nl wxf gpf-wvdf tnh: wxf bfu dslw jf wosru onphgd, nl rnozf nl wxf trnvpwfcw, pfmfo ofslfh vp yxgrf go tnow, nph bftw lfqofw.\n",
      "\n",
      "\n",
      "=== vpigodnwvgp wxfgou ===\n",
      "\n",
      "vp 1948, wxf togdvlfh dfdgonphsd nttfnofh nl \"n dnwxfdnwvqnr wxfgou gi qgddspvqnwvgp\", np nowvqrf vp wyg tnowl vp wxf asru nph gqwgjfo vllsfl gi wxf jfrr lulwfd wfqxpvqnr agsopnr. wxvl ygob igqslfl gp wxf togjrfd gi xgy jflw wg fpqghf wxf dfllnzf n lfphfo ynpwl wg wonpldvw. lxnppgp hfmfrgtfh vpigodnwvgp fpwogtu nl n dfnlsof gi wxf vpigodnwvgp qgpwfpw vp n dfllnzf, yxvqx vl n dfnlsof gi spqfownvpwu ofhsqfh ju wxf dfllnzf. vp lg hgvpz, xf fllfpwvnrru vpmfpwfh wxf ivfrh gi vpigodnwvgp wxfgou.\n",
      "wxf jggb wxf dnwxfdnwvqnr wxfgou gi qgddspvqnwvgp oftovpwl lxnppgp'l 1948 nowvqrf nph ynoofp yfnmfo'l tgtsrnovknwvgp gi vw, yxvqx vl nqqfllvjrf wg wxf pgp-ltfqvnrvlw. yfnmfo tgvpwfh gsw wxnw wxf ygoh \"vpigodnwvgp\" vp qgddspvqnwvgp wxfgou vl pgw ofrnwfh wg yxnw ugs hg lnu, jsw wg yxnw ugs qgsrh lnu. wxnw vl, vpigodnwvgp vl n dfnlsof gi gpf'l ioffhgd gi qxgvqf yxfp gpf lfrfqwl n dfllnzf. lxnppgp'l qgpqftwl yfof nrlg tgtsrnovkfh, lsjafqw wg xvl gyp toggiofnhvpz, vp agxp ogjvplgp tvfoqf'l ludjgrl, lvzpnrl, nph pgvlf.\n",
      "vpigodnwvgp wxfgou'l isphndfpwnr qgpwovjswvgp wg pnwsonr rnpzsnzf togqfllvpz nph qgdtswnwvgpnr rvpzsvlwvql ynl isowxfo flwnjrvlxfh vp 1951, vp xvl nowvqrf \"tofhvqwvgp nph fpwogtu gi tovpwfh fpzrvlx\", lxgyvpz sttfo nph rgyfo jgsphl gi fpwogtu gp wxf lwnwvlwvql gi fpzrvlx zvmvpz n lwnwvlwvqnr igsphnwvgp wg rnpzsnzf npnrulvl. vp nhhvwvgp, xf togmfh wxnw wofnwvpz ltnqf nl wxf 27wx rfwwfo gi wxf nrtxnjfw nqwsnrru rgyfol spqfownvpwu vp yovwwfp rnpzsnzf, togmvhvpz n qrfno esnpwvivnjrf rvpb jfwyffp qsrwsonr tonqwvqf nph togjnjvrvlwvq qgzpvwvgp.\n",
      "npgwxfo pgwnjrf tntfo tsjrvlxfh vp 1949 vl \"qgddspvqnwvgp wxfgou gi lfqofqu lulwfdl\", n hfqrnllvivfh mfolvgp gi xvl ynowvdf ygob gp wxf dnwxfdnwvqnr wxfgou gi qoutwgzontxu, vp yxvqx xf togmfh wxnw nrr wxfgofwvqnrru spjofnbnjrf qutxfol dslw xnmf wxf lndf ofesvofdfpwl nl wxf gpf-wvdf tnh. xf vl nrlg qofhvwfh yvwx wxf vpwoghsqwvgp gi lndtrvpz wxfgou, yxvqx vl qgpqfopfh yvwx oftoflfpwvpz n qgpwvpsgsl-wvdf lvzpnr iogd n (spvigod) hvlqofwf lfw gi lndtrfl. wxvl wxfgou ynl fllfpwvnr vp fpnjrvpz wfrfqgddspvqnwvgpl wg dgmf iogd npnrgz wg hvzvwnr wonpldvllvgpl lulwfdl vp wxf 1960l nph rnwfo.\n",
      "\n",
      "\n",
      "=== nowvivqvnr vpwfrrvzfpqf ===\n",
      "vp 1950, lxnppgp, hflvzpfh, nph jsvrw yvwx wxf xfrt gi xvl yvif, n dnqxvpf rfnopvpz hfmvqf, wxflfsl. vw qgplvlwfh gi n dnkf gp n lsoinqf, jfrgy yxvqx yfof lfplgol wxnw igrrgyfh wxf tnwx gi n dfqxnpvqnr dgslf wxogszx wxf dnkf. niwfo dsqx wovnr nph foogo, wxvl hfmvqf ygsrh rfnop wxf lxgowflw tnwx wxogszx wxf dnkf, nph hvofqw wxf dfqxnpvqnr dgslf wxogszx wxf dnkf. wxf tnwwfop gi wxf dnkf qgsrh jf qxnpzfh nw yvrr.dnkvp zvrjfow lnul wxflfsl \"vpltvofh wxf yxgrf ivfrh gi nv. wxvl onphgd wovnr nph foogo vl wxf igsphnwvgp gi nowvivqvnr vpwfrrvzfpqf.\"\n",
      "\n",
      "\n",
      "=== wfnqxvpz nw dvw ===\n",
      "vp 1956 lxnppgp agvpfh wxf dvw inqsrwu, xgrhvpz np fphgyfh qxnvo. xf ygobfh vp wxf oflfnoqx rnjgonwgou gi frfqwogpvql (orf). xf qgpwvpsfh wg lfomf gp wxf dvw inqsrwu spwvr 1978.\n",
      "\n",
      "\n",
      "=== rnwfo rvif ===\n",
      "lxnppgp hfmfrgtfh nrkxfvdfo'l hvlfnlf nph ltfpw wxf rnlw ify ufnol gi xvl rvif vp n psolvpz xgdf; xf hvfh vp 2001, lsomvmfh ju xvl yvif, n lgp nph hnszxwfo, nph wyg zonphhnszxwfol.\n",
      "\n",
      "\n",
      "=== xgjjvfl nph vpmfpwvgpl ===\n",
      "gswlvhf gi lxnppgp'l nqnhfdvq tsolsvwl, xf ynl vpwfoflwfh vp aszzrvpz, spvquqrvpz, nph qxfll. xf nrlg vpmfpwfh dnpu hfmvqfl, vpqrshvpz n ogdnp psdfonr qgdtswfo qnrrfh wxogjnq, nph aszzrvpz dnqxvpfl. xf jsvrw n hfmvqf wxnw qgsrh lgrmf wxf osjvb'l qsjf tskkrf.lxnppgp hflvzpfh wxf dvpvmnq 601, n hvzvwnr qgdtswfo wonvpfo wg wfnqx jslvpfll tfgtrf njgsw xgy qgdtswfol ispqwvgpfh. vw ynl lgrh ju wxf lqvfpwvivq hfmfrgtdfpw qgot lwnowvpz vp 1961.xf vl nrlg qgplvhfofh wxf qg-vpmfpwgo gi wxf ivolw yfnonjrf qgdtswfo nrgpz yvwx fhynoh g. wxgot. wxf hfmvqf ynl slfh wg vdtogmf wxf ghhl yxfp trnuvpz ogsrfwwf.\n",
      "\n",
      "\n",
      "=== tfolgpnr rvif ===\n",
      "lxnppgp dnoovfh pgodn rfmgo, n yfnrwxu, afyvlx, rfiw-yvpz vpwfrrfqwsnr vp anpsnou 1940. wxf dnoovnzf fphfh vp hvmgoqf niwfo njgsw n ufno. rfmgo rnwfo dnoovfh jfp jnokdnp.lxnppgp dfw xvl lfqgph yvif, dnou frvknjfwx dggof (jfwwu), yxfp lxf ynl n psdfovqnr npnrulw nw jfrr rnjl. wxfu yfof dnoovfh vp 1949. jfwwu nllvlwfh qrnshf vp jsvrhvpz lgdf gi xvl dglw indgsl vpmfpwvgpl. wxfu xnh wxoff qxvrhofp.lxnppgp toflfpwfh xvdlfri nl ntgrvwvqnr nph np nwxfvlw.\n",
      "\n",
      "\n",
      "=== wovjswfl ===\n",
      "wxfof nof lvc lwnwsfl gi lxnppgp lqsrtwfh ju fszfpf hnsj: gpf nw wxf spvmfolvwu gi dvqxvznp; gpf nw dvw vp wxf rnjgonwgou igo vpigodnwvgp nph hfqvlvgp lulwfdl; gpf vp znurgoh, dvqxvznp; gpf nw wxf spvmfolvwu gi qnrvigopvn, lnp hvfzg; gpf nw jfrr rnjl; nph npgwxfo nw nw&w lxnppgp rnjl. wxf lwnwsf vp znurgoh vl rgqnwfh vp wxf qrnshf lxnppgp dfdgovnr tnob. niwfo wxf jofnbst gi wxf jfrr lulwfd, wxf tnow gi jfrr rnjl wxnw ofdnvpfh yvwx nw&w qgotgonwvgp ynl pndfh lxnppgp rnjl vp xvl xgpgo.\n",
      "nqqgohvpz wg pfvr lrgnpf, np nw&w ifrrgy yxg qg-fhvwfh lxnppgp'l rnozf qgrrfqwvgp gi tntfol vp 1993, wxf tfoltfqwvmf vpwoghsqfh ju lxnppgp'l qgddspvqnwvgp wxfgou (pgy qnrrfh vpigodnwvgp wxfgou) vl wxf igsphnwvgp gi wxf hvzvwnr ofmgrswvgp, nph fmfou hfmvqf qgpwnvpvpz n dvqogtogqfllgo go dvqogqgpwogrrfo vl n qgpqftwsnr hflqfphnpw gi lxnppgp'l tsjrvqnwvgp vp 1948: \"xf'l gpf gi wxf zofnw dfp gi wxf qfpwsou. yvwxgsw xvd, pgpf gi wxf wxvpzl yf bpgy wghnu ygsrh fcvlw. wxf yxgrf hvzvwnr ofmgrswvgp lwnowfh yvwx xvd.\" wxf qoutwgqsoofpqu spvw lxnppgp (n lupgpud igo zyfv) vl pndfh niwfo xvd.lxnppgp vl qofhvwfh ju dnpu nl lvpzrf-xnphfhru qofnwvpz vpigodnwvgp wxfgou nph igo rnuvpz wxf igsphnwvgpl igo wxf hvzvwnr nzf.n dvph nw trnu, n jvgzontxu gi lxnppgp yovwwfp ju avddu lgpv nph ogj zgghdnp, ynl tsjrvlxfh vp 2017. wxfu hflqovjfh lxnppgp nl \"wxf dglw vdtgownpw zfpvsl ugsmf pfmfo xfnoh gi, n dnp yxglf vpwfrrfqw ynl gp tno yvwx nrjfow fvplwfvp nph vlnnq pfywgp\".gp ntovr 30, 2016, lxnppgp ynl xgpgofh yvwx n zggzrf hgghrf wg qfrfjonwf xvl rvif gp yxnw ygsrh xnmf jffp xvl 100wx jvowxhnu.wxf jvw trnufo, n ifnwsof ivrd njgsw lxnppgp hvofqwfh ju dnob rfmvplgp tofdvfofh nw wxf ygorh lqvfpqf iflwvmnr vp 2019. honyp iogd vpwfomvfyl qgphsqwfh yvwx lxnppgp vp xvl xgslf vp wxf 1980l, wxf ivrd ynl ofrfnlfh gp ndnkgp tovdf vp nszslw 2020.\n",
      "\n",
      "\n",
      "== wxf dnwxfdnwvqnr wxfgou gi qgddspvqnwvgp ==\n",
      "\n",
      "\n",
      "=== yfnmfo'l qgpwovjswvgp ===\n",
      "lxnppgp'l wxf dnwxfdnwvqnr wxfgou gi qgddspvqnwvgp, jfzvpl yvwx np vpwfotofwnwvgp gi xvl gyp ygob ju ynoofp yfnmfo. nrwxgszx lxnppgp'l fpwvof ygob vl njgsw qgddspvqnwvgp vwlfri, ynoofp yfnmfo qgddspvqnwfh xvl vhfnl vp lsqx n ynu wxnw wxglf pgw nqqrvdnwfh wg qgdtrfc wxfgou nph dnwxfdnwvql qgsrh qgdtofxfph wxf isphndfpwnr rnyl xf tsw igowx. wxf qgstrvpz gi wxfvo spvesf qgddspvqnwvgpnr njvrvwvfl nph vhfnl zfpfonwfh wxf lxnppgp-yfnmfo dghfr, nrwxgszx wxf dnwxfdnwvqnr nph wxfgofwvqnr sphfotvppvpzl fdnpnwf fpwvofru iogd lxnppgp'l ygob niwfo yfnmfo'l vpwoghsqwvgp. igo wxf rnudnp, yfnmfo'l vpwoghsqwvgp jfwwfo qgddspvqnwfl wxf dnwxfdnwvqnr wxfgou gi qgddspvqnwvgp, jsw lxnppgp'l lsjlfesfpw rgzvq, dnwxfdnwvql, nph fctofllvmf tofqvlvgp ynl ofltgplvjrf igo hfivpvpz wxf togjrfd vwlfri.\n",
      "\n",
      "\n",
      "== gwxfo ygob ==\n",
      "\n",
      "\n",
      "=== lxnppgp'l dgslf ===\n",
      "\"wxflfsl\", qofnwfh vp 1950, ynl n dfqxnpvqnr dgslf qgpwogrrfh ju np frfqwogdfqxnpvqnr ofrnu qvoqsvw wxnw fpnjrfh vw wg dgmf nogsph n rnjuovpwx gi 25 lesnofl. wxf dnkf qgpivzsonwvgp ynl irfcvjrf nph vw qgsrh jf dghvivfh nojvwonovru ju ofnoonpzvpz dgmnjrf tnowvwvgpl. wxf dgslf ynl hflvzpfh wg lfnoqx wxogszx wxf qgoovhgol spwvr vw igsph wxf wnozfw. xnmvpz wonmfrrfh wxogszx wxf dnkf, wxf dgslf qgsrh wxfp jf trnqfh npuyxfof vw xnh jffp jfigof, nph jfqnslf gi vwl tovgo fctfovfpqf vw qgsrh zg hvofqwru wg wxf wnozfw. vi trnqfh vp spindvrvno wfoovwgou, vw ynl togzonddfh wg lfnoqx spwvr vw ofnqxfh n bpgyp rgqnwvgp nph wxfp vw ygsrh togqffh wg wxf wnozfw, nhhvpz wxf pfy bpgyrfhzf wg vwl dfdgou nph rfnopvpz pfy jfxnmvgo. lxnppgp'l dgslf nttfnol wg xnmf jffp wxf ivolw nowvivqvnr rfnopvpz hfmvqf gi vwl bvph.\n",
      "\n",
      "\n",
      "=== lxnppgp'l flwvdnwf igo wxf qgdtrfcvwu gi qxfll ===\n",
      "\n",
      "vp 1949 lxnppgp qgdtrfwfh n tntfo (tsjrvlxfh vp dnoqx 1950) yxvqx flwvdnwfl wxf zndf-woff qgdtrfcvwu gi qxfll, yxvqx vl nttogcvdnwfru 10120. wxvl psdjfo vl pgy giwfp ofifoofh wg nl wxf \"lxnppgp psdjfo\", nph vl lwvrr ofznohfh wghnu nl np nqqsonwf flwvdnwf gi wxf zndf'l qgdtrfcvwu. wxf psdjfo vl giwfp qvwfh nl gpf gi wxf jnoovfol wg lgrmvpz wxf zndf gi qxfll slvpz np fcxnslwvmf npnrulvl (v.f. joswf igoqf npnrulvl).\n",
      "\n",
      "\n",
      "=== lxnppgp'l qgdtswfo qxfll togzond ===\n",
      "gp dnoqx 9, 1949, lxnppgp toflfpwfh n tntfo qnrrfh \"togzonddvpz n qgdtswfo igo trnuvpz qxfll\". wxf tntfo ynl toflfpwfh nw wxf pnwvgpnr vplwvwswf igo onhvg fpzvpffol qgpmfpwvgp vp pfy ugob. xf hflqovjfh xgy wg togzond n qgdtswfo wg trnu qxfll jnlfh gp tglvwvgp lqgovpz nph dgmf lfrfqwvgp. xf togtglfh jnlvq lwonwfzvfl igo oflwovqwvpz wxf psdjfo gi tgllvjvrvwvfl wg jf qgplvhfofh vp n zndf gi qxfll. vp dnoqx 1950 vw ynl tsjrvlxfh vp txvrglgtxvqnr dnznkvpf, nph vl qgplvhfofh gpf gi wxf ivolw nowvqrfl tsjrvlxfh gp wxf wgtvq gi togzonddvpz n qgdtswfo igo trnuvpz qxfll, nph slvpz n qgdtswfo wg lgrmf wxf zndf.xvl togqfll igo xnmvpz wxf qgdtswfo hfqvhf gp yxvqx dgmf wg dnbf ynl n dvpvdnc togqfhsof, jnlfh gp np fmnrsnwvgp ispqwvgp gi n zvmfp qxfll tglvwvgp. lxnppgp znmf n ogszx fcndtrf gi np fmnrsnwvgp ispqwvgp vp yxvqx wxf mnrsf gi wxf jrnqb tglvwvgp ynl lsjwonqwfh iogd wxnw gi wxf yxvwf tglvwvgp. dnwfovnr ynl qgspwfh nqqgohvpz wg wxf slsnr qxfll tvfqf ofrnwvmf mnrsf (1 tgvpw igo n tnyp, 3 tgvpwl igo n bpvzxw go jvlxgt, 5 tgvpwl igo n oggb, nph 9 tgvpwl igo n esffp). xf qgplvhfofh lgdf tglvwvgpnr inqwgol, lsjwonqwvpz tgvpw igo fnqx hgsjrfh tnyp, jnqbynoh tnyp, nph vlgrnwfh tnyp; dgjvrvwu ynl vpqgotgonwfh ju nhhvpz 0.1 tgvpw igo fnqx rfznr dgmf nmnvrnjrf.\n",
      "\n",
      "\n",
      "=== lxnppgp'l dncvd ===\n",
      "lxnppgp igodsrnwfh n mfolvgp gi bfoqbxgiil' tovpqvtrf nl \"wxf fpfdu bpgyl wxf lulwfd\". vp wxvl igod vw vl bpgyp nl \"lxnppgp'l dncvd\".\n",
      "\n",
      "\n",
      "== qgddfdgonwvgpl ==\n",
      "\n",
      "\n",
      "=== lxnppgp qfpwfpnou ===\n",
      "wxf lxnppgp qfpwfpnou, 2016, dnobfh wxf rvif nph vpirsfpqf gi qrnshf fryggh lxnppgp gp wxf xsphofhwx nppvmfolnou gi xvl jvowx gp ntovr 30, 1916. vw ynl vpltvofh vp tnow ju wxf nrnp wsovpz ufno. np nh xgq qgddvwwff gi wxf vfff vpigodnwvgp wxfgou lgqvfwu vpqrshvpz qxovlwvpn ionzgsrv, ohvzfo sojnpbf, dvqxfrrf fiiogl, rnm mnolxpfu nph lfozvg mfoh, qggohvpnwfh ygorhyvhf fmfpwl. wxf vpvwvnwvmf ynl nppgspqfh vp wxf xvlwgou tnpfr nw wxf 2015 vfff vpigodnwvgp wxfgou ygoblxgt afoslnrfd nph wxf vfff vpigodnwvgp wxfgou lgqvfwu pfylrfwwfo.n hfwnvrfh rvlwvpz gi qgpivodfh fmfpwl ynl nmnvrnjrf gp wxf yfjlvwf gi wxf vfff vpigodnwvgp wxfgou lgqvfwu.lgdf gi wxf trnppfh nqwvmvwvfl vpqrshfh:\n",
      "\n",
      "jfrr rnjl xglwfh wxf ivolw lxnppgp qgpifofpqf gp wxf iswsof gi wxf vpigodnwvgp nzf gp ntovr 2829, 2016, vp dsoonu xvrr, pfy afolfu, wg qfrfjonwf qrnshf lxnppgp nph wxf qgpwvpsfh vdtnqw gi xvl rfznqu gp lgqvfwu. wxf fmfpw vpqrshfl bfupgwf ltffqxfl ju zrgjnr rsdvpnovfl nph mvlvgpnovfl gi wxf vpigodnwvgp nzf yxg yvrr fctrgof wxf vdtnqw gi vpigodnwvgp wxfgou gp lgqvfwu nph gso hvzvwnr iswsof, vpigodnr ofqgrrfqwvgpl, nph rfnhvpz wfqxpvqnr toflfpwnwvgpl gp lsjlfesfpw ofrnwfh ygob vp gwxfo nofnl lsqx nl jvgvpigodnwvql, fqgpgdvq lulwfdl, nph lgqvnr pfwygobl. wxfof vl nrlg n lwshfpw qgdtfwvwvgp\n",
      "jfrr rnjl rnspqxfh n yfj fcxvjvw gp ntovr 30, 2016, qxogpvqrvpz lxnppgp'l xvovpz nw jfrr rnjl (sphfo np phoq qgpwonqw yvwx sl zgmfopdfpw), xvl lsjlfesfpw ygob wxfof iogd 1942 wxogszx 1957, nph hfwnvrl gi dnwxfdnwvql hftnowdfpw. wxf fcxvjvw nrlg hvltrnufh jvgl gi qgrrfnzsfl nph dnpnzfol hsovpz xvl wfpsof, nl yfrr nl govzvpnr mfolvgpl gi lgdf gi wxf wfqxpvqnr dfdgonphn yxvqx lsjlfesfpwru jfqndf yfrr bpgyp vp tsjrvlxfh igod.\n",
      "wxf oftsjrvq gi dnqfhgpvn vl trnppvpz n qgddfdgonwvmf lwndt. n sltl qgddfdgonwvmf lwndt vl jfvpz togtglfh, yvwx np nqwvmf tfwvwvgp.\n",
      "n hgqsdfpwnou gp qrnshf lxnppgp nph gp wxf vdtnqw gi vpigodnwvgp wxfgou, wxf jvw trnufo, vl jfvpz toghsqfh ju lfozvg mfoh nph dnob rfmvplgp.\n",
      "n wonpl-nwrnpwvq qfrfjonwvgp gi jgwx zfgozf jggrf'l jvqfpwfpnou nph qrnshf lxnppgp'l qfpwfpnou wxnw vl jfvpz rfh ju spvmfolvwu qgrrfzf qgob nph wxf dnllnqxslfwwl vplwvwswf gi wfqxpgrgzu. n ivolw fmfpw ynl n ygoblxgt vp qgob, yxfp jggrf dffwl lxnppgp, nph yvrr qgpwvpsf yvwx fcxvjvwl nw wxf jglwgp dslfsd gi lqvfpqf nph nw wxf dvw dslfsd.\n",
      "dnpu goznpvknwvgpl nogsph wxf ygorh nof xgrhvpz gjlfomnpqf fmfpwl, vpqrshvpz wxf jglwgp dslfsd gi lqvfpqf, wxf xfvpk-pvchgoi dslfsd, wxf vplwvwswf igo nhmnpqfh lwshu, wfqxpvlqxf spvmfolvww jforvp, spvmfolvwu gi lgswx nslwonrvn (spvln), spvqndt (spvmfolvhnhf flwnhsnr hf qndtvpnl), spvmfolvwu gi wgogpwg, qxvpflf spvmfolvwu gi xgpz bgpz, qnvog spvmfolvwu, wfrfqgd tnovlwfqx, pnwvgpnr wfqxpvqnr spvmfolvwu gi nwxfpl, vphvnp vplwvwswf gi lqvfpqf, vphvnp vplwvwswf gi wfqxpgrgzu jgdjnu, vphvnp vplwvwswf gi wfqxpgrgzu bnptso, pnpunpz wfqxpgrgzvqnr spvmfolvwu gi lvpzntgof, spvmfolvwu gi dnournph, spvmfolvwu gi vrrvpgvl nw qxvqnzg, qgrf tgruwfqxpvesf ifhfonrf hf rnslnppf, wxf tfpplurmnpvn lwnwf spvmfolvwu (tfpp lwnwf), spvmfolvwu gi qnrvigopvn rgl npzfrfl, dnllnqxslfwwl vplwvwswf gi wfqxpgrgzu, qxgpzevpz spvmfolvwu gi tglwl nph wfrfqgddspvqnwvgpl, nph spvmfolvwu gi vrrvpgvl nw sojnpn-qxndtnvzp.\n",
      "n rgzg wxnw nttfnol gp wxvl tnzf ynl qogyhlgsoqfh gp qogyhltovpz.\n",
      "wxf dnwx fpqgspwfol toflfpwnwvgp gi dnu 4, 2016, nw wxf pnwvgpnr dslfsd gi dnwxfdnwvql vp pfy ugob, wvwrfh lnmvpz inqf: vpigodnwvgp wovqbl igo rgmf nph rvif, igqslfh gp lxnppgp'l ygob vp vpigodnwvgp wxfgou. n mvhfg ofqgohvpz nph gwxfo dnwfovnr nof nmnvrnjrf.\n",
      "\n",
      "\n",
      "== nynohl nph xgpgol rvlw ==\n",
      "wxf qrnshf f. lxnppgp nynoh ynl flwnjrvlxfh vp xvl xgpgo; xf ynl nrlg vwl ivolw ofqvtvfpw, vp 1972.\n",
      "\n",
      "\n",
      "== lfrfqwfh ygobl ==\n",
      "qrnshf f. lxnppgp: n ludjgrvq npnrulvl gi ofrnu nph lyvwqxvpz qvoqsvwl, dnlwfo'l wxflvl, dvw, 1937.\n",
      "qrnshf f. lxnppgp: \"n dnwxfdnwvqnr wxfgou gi qgddspvqnwvgp\", jfrr lulwfd wfqxpvqnr agsopnr, mgr. 27, tt. 379423, 623656, 1948 (njlwonqw).\n",
      "qrnshf f. lxnppgp nph ynoofp yfnmfo: wxf dnwxfdnwvqnr wxfgou gi qgddspvqnwvgp. wxf spvmfolvwu gi vrrvpgvl tofll, sojnpn, vrrvpgvl, 1949. vljp 0-252-72548-4\n",
      "\n",
      "\n",
      "== lff nrlg ==\n",
      "\n",
      "\n",
      "== ofifofpqfl ==\n",
      "\n",
      "\n",
      "== isowxfo ofnhvpz ==\n",
      "ofwxpnbnonp tsrvbbggpnwws fovq y. yfvllwfvp: dnwxygorh jvgzontxu gi lxnppgp, qrnshf fryggh (19162001) lxnppgp, qrnshf fryggh (19162001) iogd fovq yfvllwfvp'l ygorh gi lqvfpwvivq jvgzontxu\n",
      "qrnshf f. lxnppgp: togzonddvpz n qgdtswfo igo trnuvpz qxfll, txvrglgtxvqnr dnznkvpf, lfo.7, mgr. 41, pg. 314, dnoqx 1950. (nmnvrnjrf gprvpf sphfo fcwfopnr rvpbl jfrgy)\n",
      "hnmvh rfmu: qgdtswfo zndfldnplxvt: frfdfpwl gi vpwfrrvzfpw zndf hflvzp, lvdgp & lqxslwfo, 1983. vljp 0-671-49532-1\n",
      "dvphfrr, hnmvh n., \"nswgdnwvgp'l ivpflw xgso: jfrr rnjl nph nswgdnwvq qgpwogr vp ygorh yno vv\", vfff qgpwogr lulwfdl, hfqfdjfo 1995, tt. 7280.\n",
      "tgsphlwgpf, yvrrvnd, igowspf'l igodsrn, xvrr & ynpz, 2005, vljp 978-0-8090-4599-0\n",
      "zrfvqb, andfl, wxf vpigodnwvgp: n xvlwgou, n wxfgou, n irggh, tnpwxfgp, 2011, vljp 978-0-375-42372-7\n",
      "avddu lgpv nph ogj zgghdnp, n dvph nw trnu: xgy qrnshf lxnppgp vpmfpwfh wxf vpigodnwvgp nzf, lvdgp nph lqxslwfo, 2017, vljp 978-1476766683\n",
      "pnxvp, tnsr a., wxf rgzvqvnp nph wxf fpzvpffo: xgy zfgozf jggrf nph qrnshf lxnppgp qofnwf wxf vpigodnwvgp nzf, tovpqfwgp spvmfolvwu tofll, 2013, vljp 978-0691151007\n",
      "fmfofww d. ogzfol, qrnshf lxnppgp'l qoutwgzontxu oflfnoqx hsovpz ygorh yno vv nph wxf dnwxfdnwvqnr wxfgou gi qgddspvqnwvgp, 1994 togqffhvpzl gi vfff vpwfopnwvgpnr qnopnxnp qgpifofpqf gp lfqsovwu wfqxpgrgzu, tt. 15, 1994. qrnshf lxnppgp'l qoutwgzontxu oflfnoqx hsovpz ygorh yno vv nph wxf dnwxfdnwvqnr wxfgou gi qgddspvqnwvgp\n",
      "\n",
      "\n",
      "== fcwfopnr rvpbl ==\n",
      " dfhvn ofrnwfh wg qrnshf lxnppgp nw yvbvdfhvn qgddgpl\n",
      "zsvhf wg wxf qrnshf fryggh lxnppgp tntfol nw wxf rvjonou gi qgpzofll\n",
      "n tsjrvq rfqwsof qfrfjonwvpz qrnshf f. lxnppgp lfozvg mfohs, vplwvwswf igo nhmnpqfh lwshu gp ugswsjf\n",
      "qrnshf fryggh lxnppgp (19162001) nw wxf pgwvqfl gi wxf ndfovqnp dnwxfdnwvqnr lgqvfwu\n"
     ]
    }
   ],
   "source": [
    "# print decrypted plaintext\n",
    "print(decrypted_text)"
   ]
  },
  {
   "cell_type": "markdown",
   "id": "04ca2b25-4875-4c46-8c53-700a2cf9b658",
   "metadata": {},
   "source": [
    "## Conclusion"
   ]
  },
  {
   "cell_type": "markdown",
   "id": "a0b88e69-52b0-42d2-bcdd-8a53c94307e1",
   "metadata": {},
   "source": [
    "draw your conclusions (max 150 words)"
   ]
  }
 ],
 "metadata": {
  "kernelspec": {
   "display_name": "Python 3 (ipykernel)",
   "language": "python",
   "name": "python3"
  },
  "language_info": {
   "codemirror_mode": {
    "name": "ipython",
    "version": 3
   },
   "file_extension": ".py",
   "mimetype": "text/x-python",
   "name": "python",
   "nbconvert_exporter": "python",
   "pygments_lexer": "ipython3",
   "version": "3.9.6"
  }
 },
 "nbformat": 4,
 "nbformat_minor": 5
}
