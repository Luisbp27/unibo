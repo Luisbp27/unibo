{
 "cells": [
  {
   "cell_type": "markdown",
   "id": "19108b00",
   "metadata": {},
   "source": [
    "<div style=\"text-align: center;\">\n",
    "<h1>Assignment 1: Substitution Ciphers</font></h1>\n",
    "<h2>Course: Elements of Applied Data Security</font></h2>\n",
    "\n",
    "<center><img src=\"../images/unibo.png\" alt=\"unibo_logo\" width=\"200\"/></center>\n",
    "\n",
    "<h3>Professor: Alex Marchioni and Livia Manovi</font></h3>\n",
    "<h3>University: Università degli Studi di Bologna</font></h3>\n",
    "<h3>Author: Lluis Barca Pons</font></h3>\n",
    "<h3>Date: 2024-03-25</font></h3>\n",
    "</div>"
   ]
  },
  {
   "cell_type": "markdown",
   "id": "e4018325",
   "metadata": {},
   "source": [
    "## Importing Libraries"
   ]
  },
  {
   "cell_type": "code",
   "execution_count": 1619,
   "id": "082b70d2-197b-4c55-9092-4c1cb02a6298",
   "metadata": {},
   "outputs": [],
   "source": [
    "import string\n",
    "import os\n",
    "import matplotlib.pyplot as plt\n",
    "import pickle\n",
    "\n",
    "# English alphabet\n",
    "ALPHABET = string.ascii_lowercase"
   ]
  },
  {
   "cell_type": "markdown",
   "id": "c20a9001-f4fd-401f-922b-db8347ff36fe",
   "metadata": {},
   "source": [
    "## Introduction"
   ]
  },
  {
   "cell_type": "markdown",
   "id": "88c571e3-d03d-4506-a411-67663dc6ff9f",
   "metadata": {},
   "source": [
    "Substitution ciphers represent one of the oldest and simplest classes of encryption techniques, relying on the principle of replacing each element (typically characters in plaintext) with another character or symbol according to a predefined system or key. \n",
    "\n",
    "Unlike transposition ciphers that rearrange the order of the elements, substitution ciphers maintain the original sequence but alter the identities of the elements involved. A classic example is the Caesar cipher, where each letter in the plaintext is shifted a certain number of places down or up the alphabet. \n",
    "\n",
    "Modern variants have evolved to include complex schemes like the monoalphabetic cipher, which maps each letter of the plaintext to a unique letter in the ciphertext alphabet, and the polyalphabetic cipher, which uses multiple substitution alphabets to reduce the predictability of the encryption. Despite their simplicity, substitution ciphers laid the foundational concepts for understanding more advanced cryptographic systems and their vulnerabilities."
   ]
  },
  {
   "cell_type": "markdown",
   "id": "6a297866",
   "metadata": {},
   "source": [
    "## Caesar Cipher"
   ]
  },
  {
   "cell_type": "markdown",
   "id": "b53b1655",
   "metadata": {},
   "source": [
    "Brief description of Caesar Cipher (Max 150 words)"
   ]
  },
  {
   "cell_type": "markdown",
   "id": "2ae56b56-293c-4f94-978b-1ea64f122002",
   "metadata": {},
   "source": [
    "Types of attack of Caesar Cipher (Max 150 words)"
   ]
  },
  {
   "cell_type": "markdown",
   "id": "b29aef0d-75ee-4da1-b058-09fea1bb9c0a",
   "metadata": {},
   "source": [
    "### Encryption"
   ]
  },
  {
   "cell_type": "code",
   "execution_count": 1620,
   "id": "43b53968-3fbb-4ac1-a373-6b29c4845f08",
   "metadata": {},
   "outputs": [],
   "source": [
    "def caesar_encrypt(plaintext, shift=0):\n",
    "    \"\"\"Encrypt `plaintext` (str) as a caesar cipher with a given `shift` (int)\"\"\"\n",
    "    # Convert the plaintext to a list of characters\n",
    "    plaintext = list(plaintext)\n",
    "\n",
    "    # Convert the characters to their ASCII values\n",
    "    plaintext = [ord(char) for char in plaintext]\n",
    "\n",
    "    # Shift the ASCII values if the character is a letter\n",
    "    for i in range(len(plaintext)):\n",
    "        if 65 <= plaintext[i] <= 90:  # Uppercase\n",
    "            plaintext[i] = (plaintext[i] - 65 + shift) % 26 + 65\n",
    "        elif 97 <= plaintext[i] <= 122:  # Lowercase\n",
    "            plaintext[i] = (plaintext[i] - 97 + shift) % 26 + 97\n",
    "\n",
    "    # Convert the shifted ASCII values back to characters\n",
    "    plaintext = [chr(char) for char in plaintext]\n",
    "\n",
    "    # Convert the list of characters to a single string\n",
    "    ciphertext = \"\".join(plaintext)\n",
    "\n",
    "    return ciphertext"
   ]
  },
  {
   "cell_type": "code",
   "execution_count": 1621,
   "id": "9eb77216-0505-4a29-a8e8-458e273a91f4",
   "metadata": {},
   "outputs": [
    {
     "name": "stdout",
     "output_type": "stream",
     "text": [
      "hello! -> lipps!\n"
     ]
    }
   ],
   "source": [
    "# code snippet to test the implementation of the encryption function\n",
    "plaintext = \"hello!\"\n",
    "ciphertext = caesar_encrypt(plaintext, shift=4)\n",
    "\n",
    "print(plaintext, \"->\", ciphertext)  # expected output 'hello! -> lipps!'"
   ]
  },
  {
   "cell_type": "markdown",
   "id": "d79da87f-6130-427e-9104-9619e3b7b5e4",
   "metadata": {},
   "source": [
    "### Decryption"
   ]
  },
  {
   "cell_type": "code",
   "execution_count": 1622,
   "id": "a5b0d026",
   "metadata": {},
   "outputs": [],
   "source": [
    "def caesar_decrypt(ciphertext, shift=0):\n",
    "    \"\"\"Decrypt `ciphertext` (str) as a caesar cipher with a given `shift` (int)\"\"\"\n",
    "    # Convert the ciphertext to a list of characters\n",
    "    ciphertext = list(ciphertext)\n",
    "\n",
    "    # Convert the characters to their ASCII values\n",
    "    ciphertext = [ord(char) for char in ciphertext]\n",
    "\n",
    "    # Shift the ASCII values if the character is a letter\n",
    "    for i in range(len(ciphertext)):\n",
    "        if 65 <= ciphertext[i] <= 90:  # Uppercase\n",
    "            ciphertext[i] = (ciphertext[i] - 65 - shift) % 26 + 65\n",
    "        elif 97 <= ciphertext[i] <= 122:  # Lowercase\n",
    "            ciphertext[i] = (ciphertext[i] - 97 - shift) % 26 + 97\n",
    "\n",
    "    # Convert the shifted ASCII values back to characters\n",
    "    ciphertext = [chr(char) for char in ciphertext]\n",
    "\n",
    "    # Convert the list of characters to a single string\n",
    "    plaintext = \"\".join(ciphertext)\n",
    "\n",
    "    return plaintext"
   ]
  },
  {
   "cell_type": "code",
   "execution_count": 1623,
   "id": "4317bf77",
   "metadata": {},
   "outputs": [
    {
     "name": "stdout",
     "output_type": "stream",
     "text": [
      "lipps! -> hello!\n"
     ]
    }
   ],
   "source": [
    "# code snippet to test the implementation of the decryption function\n",
    "ciphertext = \"lipps!\"  # 'hello!' encoded with shift=4\n",
    "plaintext = caesar_decrypt(ciphertext, shift=4)\n",
    "\n",
    "print(ciphertext, \"->\", plaintext)  # expected output 'lipps! -> hello!'"
   ]
  },
  {
   "cell_type": "markdown",
   "id": "6bf38609",
   "metadata": {},
   "source": [
    "### Ciphertext"
   ]
  },
  {
   "cell_type": "code",
   "execution_count": 1624,
   "id": "09746945-d53e-47eb-8bf2-0079a150ecdc",
   "metadata": {},
   "outputs": [],
   "source": [
    "# Load ciphertext\n",
    "def read_file(file_name):\n",
    "    \"\"\"Read the content of a file and return it as a string\"\"\"\n",
    "    try:\n",
    "        with open(file_name, \"r\", encoding=\"utf-8\") as file:\n",
    "            return file.read()\n",
    "    except (IOError, OSError, FileNotFoundError) as e:\n",
    "        print(e.strerror)\n",
    "\n",
    "\n",
    "file_path = os.path.join(\"ciphertext_caesar.txt\")\n",
    "ciphertext = read_file(file_path)"
   ]
  },
  {
   "cell_type": "markdown",
   "id": "36d3498f",
   "metadata": {},
   "source": [
    "### Brute Force Attack"
   ]
  },
  {
   "cell_type": "markdown",
   "id": "1c3d1d7c-d12a-4104-8eae-c3ec454069ea",
   "metadata": {},
   "source": [
    "Breaking a Caesar cipher, a process also known as decryption or cracking, exploits its fundamental weakness: the limited number of possible shifts in the alphabet.\n",
    "\n",
    "If we use the **brute force attack**, given the Caesar cipher’s reliance on shifting letters by a fixed number, one can systematically try all 26 possible shifts (excluding the trivial shift of 0) until the decrypted text makes sense. This method is guaranteed to find the correct shift, as the alphabet’s finite size ensures all possibilities are tested."
   ]
  },
  {
   "cell_type": "code",
   "execution_count": 1625,
   "id": "60037138",
   "metadata": {},
   "outputs": [
    {
     "name": "stdout",
     "output_type": "stream",
     "text": [
      "Shift 0: aucom dofcom wuymul \n",
      "Shift 1: ztbnl cnebnl vtxltk \n",
      "Shift 2: ysamk bmdamk uswksj \n",
      "Shift 3: xrzlj alczlj trvjri \n",
      "Shift 4: wqyki zkbyki squiqh \n",
      "Shift 5: vpxjh yjaxjh rpthpg \n",
      "Shift 6: uowig xizwig qosgof \n",
      "Shift 7: tnvhf whyvhf pnrfne \n",
      "Shift 8: smuge vgxuge omqemd \n",
      "Shift 9: rltfd ufwtfd nlpdlc \n",
      "Shift 10: qksec tevsec mkockb \n",
      "Shift 11: pjrdb sdurdb ljnbja \n",
      "Shift 12: oiqca rctqca kimaiz \n",
      "Shift 13: nhpbz qbspbz jhlzhy \n",
      "Shift 14: mgoay paroay igkygx \n",
      "Shift 15: lfnzx ozqnzx hfjxfw \n",
      "Shift 16: kemyw nypmyw geiwev \n",
      "Shift 17: jdlxv mxolxv fdhvdu \n",
      "Shift 18: ickwu lwnkwu ecguct \n",
      "Shift 19: hbjvt kvmjvt dbftbs \n",
      "Shift 20: gaius julius caesar \n",
      "Shift 21: fzhtr itkhtr bzdrzq \n",
      "Shift 22: eygsq hsjgsq aycqyp \n",
      "Shift 23: dxfrp grifrp zxbpxo \n",
      "Shift 24: cweqo fqheqo ywaown \n",
      "Shift 25: bvdpn epgdpn xvznvm \n"
     ]
    }
   ],
   "source": [
    "sample = ciphertext[:20]\n",
    "for shift in range(len(ALPHABET)):\n",
    "    plaintext = caesar_decrypt(sample, shift=shift)\n",
    "    print(f\"Shift {shift}: {plaintext}\")"
   ]
  },
  {
   "cell_type": "code",
   "execution_count": 1626,
   "id": "aeeb5386-91a3-405a-81c8-7a106a44f12c",
   "metadata": {},
   "outputs": [
    {
     "name": "stdout",
     "output_type": "stream",
     "text": [
      "gaius julius caesar (12 july 100 bc - 15 march 44 bc) was a roman general and statesman. a member of the first triumvirate, caesar led the roman armies in the gallic wars before defeating his political rival pompey in a civil war, and subsequently became dictator from 49 bc until his assassination in 44 bc. he played a critical role in the events that led to the demise of the roman republic and the rise of the roman empire.\n",
      "in 60 bc, caesar, crassus, and pompey formed the first triumvirate, an informal political alliance that dominated roman politics for several years. their attempts to amass political power were opposed by many in the senate, among them cato the younger with the private support of cicero. caesar rose to become one of the most powerful politicians in the roman republic through a string of military victories in the gallic wars, completed by 51 bc, which greatly extended roman territory. during this time he both invaded britain and built a bridge across the river rhine. these achievements and the support of his veteran army threatened to eclipse the standing of pompey, who had realigned himself with the senate after the death of crassus in 53 bc. with the gallic wars concluded, the senate ordered caesar to step down from his military command and return to rome. in 49 bc, caesar openly defied the senate's authority by crossing the rubicon and marching towards rome at the head of an army. this began caesar's civil war, which he won, leaving him in a position of near-unchallenged power and influence in 45 bc.\n",
      "after assuming control of government, caesar began a programme of social and governmental reform, including the creation of the julian calendar. he gave citizenship to many residents of far regions of the roman republic. he initiated land reforms to support his veterans and initiated an enormous building programme. in early 44 he was proclaimed \"dictator for life\" (dictator perpetuo). fearful of his power and domination of the state, a group of senators led by brutus and cassius assassinated caesar on the ides of march (15 march) 44 bc. a new series of civil wars broke out and the constitutional government of the republic was never fully restored. caesar's great-nephew and adopted heir octavian, later known as augustus, rose to sole power after defeating his opponents in the last civil war of the roman republic. octavian set about solidifying his power, and the era of the roman empire began.\n",
      "caesar was an accomplished author and historian as well as a statesman; much of his life is known from his own accounts of his military campaigns. other contemporary sources include the letters and speeches of cicero and the historical writings of sallust. later biographies of caesar by suetonius and plutarch are also important sources. caesar is considered by many historians to be one of the greatest military commanders in history. his cognomen was subsequently adopted as a synonym for \"emperor\"; the title \"caesar\" was used throughout the roman empire, giving rise to modern descendants such as kaiser and tsar. he has frequently appeared in literary and artistic works.\n"
     ]
    }
   ],
   "source": [
    "# Decrypt the ciphertext\n",
    "plaintext = caesar_decrypt(ciphertext, 20)\n",
    "print(plaintext)"
   ]
  },
  {
   "cell_type": "markdown",
   "id": "9503d65c",
   "metadata": {},
   "source": [
    "## Simple Substitution Cipher"
   ]
  },
  {
   "cell_type": "markdown",
   "id": "1142538f-3869-4cde-b822-e75b386169ad",
   "metadata": {},
   "source": [
    "A Simple Substitution Cipher is a cryptographic method where each letter in the plaintext is replaced with a letter that has a fixed relationship to it, according to a predefined substitution alphabet. Unlike the Caesar cipher, which shifts letters by a fixed number, the Simple Substitution Cipher uses a one-to-one mapping where each letter in the plaintext alphabet is matched with a unique letter in the ciphertext alphabet. This mapping is the cipher's key. For example, 'A' might be replaced with 'M', 'B' with 'X', and so on, completely scrambling the message. The key to decryption is knowing the specific letter mappings used in the encryption process. \n",
    "\n",
    "Due to its reliance on a single alphabet transformation, the Simple Substitution Cipher is vulnerable to frequency analysis, as patterns in letter usage can reveal clues about the substitution. Despite this, it significantly increases complexity compared to the Caesar cipher by offering a much larger number of possible keys."
   ]
  },
  {
   "cell_type": "markdown",
   "id": "7d156339-cebb-4302-9ee2-a74cc5b87866",
   "metadata": {},
   "source": [
    "Simple Substitution Ciphers are vulnerable to several types of attacks due to their reliance on fixed mappings between plaintext and ciphertext characters. The primary attack methods include:\n",
    "\n",
    "1. **Frequency Analysis**: This involves studying the frequency of letters or groups of letters in the ciphertext and comparing them with known frequencies in the language of the plaintext. Since each letter maps to a specific substitute, the patterns can reveal the substitution scheme.\n",
    "\n",
    "2. **Known Plaintext Attack**: If the attacker has access to even small portions of both the plaintext and corresponding ciphertext, they can deduce the mapping of several letters, which can be extended to crack the entire cipher.\n",
    "\n",
    "3. **Pattern Words Analysis**: Words or phrases that repeat in the ciphertext can be analyzed for patterns. Since certain words in languages have characteristic repeating patterns, these can be matched against the patterns in the ciphertext to identify possible word matches.\n",
    "\n",
    "4. **Brute Force Attack**: Though impractical due to the vast number of possible keys (26!), a brute force attack could theoretically try every possible mapping until the correct one is found."
   ]
  },
  {
   "cell_type": "markdown",
   "id": "1b6cc83d-e26d-49cc-8475-0789d2425df0",
   "metadata": {},
   "source": [
    "### Encryption"
   ]
  },
  {
   "cell_type": "markdown",
   "id": "2cfdf6bf-3701-42f0-8a7a-018fa90dac99",
   "metadata": {
    "jp-MarkdownHeadingCollapsed": true,
    "tags": []
   },
   "source": [
    "Explain how the encryption of a Simple Substitution Cipher works (Max 150 words)"
   ]
  },
  {
   "cell_type": "code",
   "execution_count": 1627,
   "id": "dd72620a-d955-4fba-872f-ebcd005d484d",
   "metadata": {},
   "outputs": [],
   "source": [
    "def substitution_encrypt(plaintext, mapping):\n",
    "    \"\"\"Encrypt `ciphertext` (str) as a simple substitution cipher with a given\n",
    "    `mapping` (??) from plaintext letters to ciphertext letters\"\"\"\n",
    "\n",
    "    # Convert the plaintext to a list of characters\n",
    "    plaintext = list(plaintext)\n",
    "\n",
    "    # Apply the mapping to the plaintext\n",
    "    for i in range(len(plaintext)):\n",
    "        if plaintext[i] in mapping:\n",
    "            plaintext[i] = mapping[plaintext[i]]\n",
    "\n",
    "    # Convert the list of characters to a single string\n",
    "    ciphertext = \"\".join(plaintext)\n",
    "\n",
    "    return ciphertext"
   ]
  },
  {
   "cell_type": "code",
   "execution_count": 1628,
   "id": "177d186b-bc0a-4dca-a1b4-b1244cfb7bb1",
   "metadata": {},
   "outputs": [
    {
     "name": "stdout",
     "output_type": "stream",
     "text": [
      "hello! -> apwwq!\n"
     ]
    }
   ],
   "source": [
    "# code snippet to test the implementation of the encryption function\n",
    "plaintext = \"hello!\"\n",
    "mapping = {\"h\": \"a\", \"e\": \"p\", \"l\": \"w\", \"o\": \"q\"}\n",
    "\n",
    "ciphertext = substitution_encrypt(plaintext, mapping)\n",
    "\n",
    "print(plaintext, \"->\", ciphertext)  # expected output 'hello! -> apwwq!'"
   ]
  },
  {
   "cell_type": "markdown",
   "id": "cd574022-82e0-4163-807a-aabb6bd4b86d",
   "metadata": {},
   "source": [
    "### Decryption"
   ]
  },
  {
   "cell_type": "markdown",
   "id": "d38bc5b0-dbb0-4523-acef-495bdf268000",
   "metadata": {
    "jp-MarkdownHeadingCollapsed": true,
    "tags": []
   },
   "source": [
    "Explain how the decoder of a Substitution Cipher works (Max 150 words)"
   ]
  },
  {
   "cell_type": "code",
   "execution_count": 1629,
   "id": "adb6fd3b",
   "metadata": {},
   "outputs": [],
   "source": [
    "def substitution_decrypt(ciphertext, mapping):\n",
    "    \"\"\"Decrypt `ciphertext` (str) as a simple substitution cipher with a given\n",
    "    `mapping` (dict) from plaintext letters to ciphertext letters\"\"\"\n",
    "\n",
    "    # Convert the ciphertext to a list of characters\n",
    "    ciphertext = list(ciphertext)\n",
    "\n",
    "    # Apply the mapping to the ciphertext\n",
    "    for i in range(len(ciphertext)):\n",
    "        for key, value in mapping.items():\n",
    "            if ciphertext[i] == key:\n",
    "                ciphertext[i] = value\n",
    "                break\n",
    "\n",
    "    # Convert the list of characters to a single string\n",
    "    plaintext = \"\".join(ciphertext)\n",
    "\n",
    "    return plaintext"
   ]
  },
  {
   "cell_type": "code",
   "execution_count": 1630,
   "id": "33b9b1e0-9132-4147-8d14-5b036f7a0658",
   "metadata": {},
   "outputs": [
    {
     "name": "stdout",
     "output_type": "stream",
     "text": [
      "apwwq! -> apwwq!\n"
     ]
    }
   ],
   "source": [
    "# code snippet to test the implementation of the decryption function\n",
    "test_mapping = {\"h\": \"a\", \"e\": \"p\", \"l\": \"w\", \"o\": \"q\"}  # previous mapping\n",
    "ciphertext = \"apwwq!\"\n",
    "\n",
    "plaintext = substitution_decrypt(ciphertext, test_mapping)\n",
    "\n",
    "print(ciphertext, \"->\", plaintext)  # expected output 'apwwq! -> hello!'"
   ]
  },
  {
   "cell_type": "markdown",
   "id": "a0a843fd-8f7d-4189-8a7c-d7015d9c2897",
   "metadata": {},
   "source": [
    "### Ciphertext"
   ]
  },
  {
   "cell_type": "code",
   "execution_count": 1631,
   "id": "8d8aa5ee-a119-48c0-a9e8-3b4b8a3cb034",
   "metadata": {},
   "outputs": [],
   "source": [
    "# Load ciphertext\n",
    "file_path = os.path.join(\"ciphertext_simple.txt\")\n",
    "ciphertext = read_file(file_path)"
   ]
  },
  {
   "cell_type": "markdown",
   "id": "17025077-c0a2-4a1c-add8-a79897c1d4a0",
   "metadata": {},
   "source": [
    "### Frequency Analysis Attack"
   ]
  },
  {
   "cell_type": "markdown",
   "id": "abda6491-1fb9-4442-b3bc-69c403bfc413",
   "metadata": {},
   "source": [
    "Describe the procedure to break a Simple Substitution Cipher (Max 150 words)"
   ]
  },
  {
   "cell_type": "markdown",
   "id": "59434d7e-a0c1-4d03-8c84-a1f9c948f935",
   "metadata": {},
   "source": [
    "#### English Letters Distribution"
   ]
  },
  {
   "cell_type": "code",
   "execution_count": 1632,
   "id": "4e9a0d70-5652-4a5e-bb57-84ed8282b3da",
   "metadata": {},
   "outputs": [],
   "source": [
    "def letter_distribution(text):\n",
    "    \"\"\"Return the `distribution` (??) of the letters in `text` (str)\"\"\"\n",
    "\n",
    "    # Create a dictionary to store the distribution of the letters\n",
    "    distribution = {}\n",
    "\n",
    "    # Count the number of times each letter appears in the text\n",
    "    for letter in text:\n",
    "        # Only consider the letter if it is an alphabet letter\n",
    "        if letter.isalpha():\n",
    "            # If the letter is already in the distribution, increment its count\n",
    "            if letter.lower() in distribution:\n",
    "                distribution[letter.lower()] += 1\n",
    "            else:\n",
    "                distribution[letter.lower()] = 1\n",
    "\n",
    "    # Make the probability of each letter\n",
    "    total = sum(distribution.values())\n",
    "    for key in distribution:\n",
    "        distribution[key] /= total\n",
    "\n",
    "    # Sort the distribution alphabetically\n",
    "    distribution = dict(sorted(distribution.items()))\n",
    "\n",
    "    return distribution"
   ]
  },
  {
   "cell_type": "code",
   "execution_count": 1633,
   "id": "b7131445-b0b8-44c7-8918-9fad5cb7475a",
   "metadata": {},
   "outputs": [
    {
     "data": {
      "text/plain": [
       "{'d': 0.1, 'e': 0.1, 'h': 0.1, 'l': 0.3, 'o': 0.2, 'r': 0.1, 'w': 0.1}"
      ]
     },
     "execution_count": 1633,
     "metadata": {},
     "output_type": "execute_result"
    }
   ],
   "source": [
    "# code snippet to test the implementation of `letter_distribution`\n",
    "text = \"hello world!\"\n",
    "\n",
    "letter_distribution(text)\n",
    "# expected ouput:\n",
    "# {'d': 0.1, 'e': 0.1, 'h': 0.1, 'l': 0.3, 'o': 0.2, 'r': 0.1, 'w': 0.1, ...}"
   ]
  },
  {
   "cell_type": "code",
   "execution_count": 1634,
   "id": "0052ab81-e261-4660-ab34-f86582601c67",
   "metadata": {},
   "outputs": [],
   "source": [
    "# load text\n",
    "file_path = os.path.join(\"The-Adventure-of-the-Dancing-Men.txt\")\n",
    "english_text = read_file(file_path)"
   ]
  },
  {
   "cell_type": "code",
   "execution_count": 1635,
   "id": "eeae9160-8631-4d25-bbb9-79aac9547d23",
   "metadata": {},
   "outputs": [
    {
     "name": "stdout",
     "output_type": "stream",
     "text": [
      "{'a': 0.07975719581063263, 'b': 0.01465283478866582, 'c': 0.02547453790083837, 'd': 0.043460954797621715, 'e': 0.12398935243923676, 'f': 0.021419508918576014, 'g': 0.016966440281613055, 'h': 0.06669651964076921, 'i': 0.06993059183521158, 'j': 0.0008209567878199865, 'k': 0.007637385874567754, 'l': 0.038485459113864216, 'm': 0.02689255417070926, 'n': 0.06853745304375948, 'o': 0.07838893449759933, 'p': 0.016742542975843967, 'q': 0.000895589223076349, 'r': 0.0561982237480409, 's': 0.06301465283478866, 't': 0.0915242431027191, 'u': 0.03022613627882678, 'v': 0.009727094061745902, 'w': 0.026021842426051694, 'x': 0.0014180162698708859, 'y': 0.020722939522849964, 'z': 0.00039803965470059955}\n"
     ]
    }
   ],
   "source": [
    "# estimate the English letters distribution\n",
    "distribution = letter_distribution(english_text)\n",
    "print(distribution)"
   ]
  },
  {
   "cell_type": "code",
   "execution_count": 1636,
   "id": "587acc03",
   "metadata": {},
   "outputs": [
    {
     "data": {
      "image/png": "[encoded data removed]",
      "text/plain": [
       "<Figure size 640x480 with 1 Axes>"
      ]
     },
     "metadata": {},
     "output_type": "display_data"
    }
   ],
   "source": [
    "# plot the English letter distribution by decreasing order of frequency\n",
    "sorted_letters = sorted(\n",
    "    distribution.keys(), key=lambda x: distribution[x], reverse=True\n",
    ")\n",
    "sorted_frequencies = [distribution[letter] for letter in sorted_letters]\n",
    "\n",
    "plt.bar(sorted_letters, sorted_frequencies)\n",
    "\n",
    "plt.title(\"English letter distribution\")\n",
    "plt.xlabel(\"Letters\")\n",
    "plt.ylabel(\"Frequency\")\n",
    "plt.show()"
   ]
  },
  {
   "cell_type": "code",
   "execution_count": 1637,
   "id": "862cf0c3-d828-4e1c-a10c-485d7f7c5a5d",
   "metadata": {},
   "outputs": [],
   "source": [
    "# store the distribution as a pickle file\n",
    "try:\n",
    "    with open(\"english_distribution.pkl\", \"wb\") as file:\n",
    "        pickle.dump(distribution, file)\n",
    "except (IOError, OSError) as e:\n",
    "    print(e.strerror)"
   ]
  },
  {
   "cell_type": "markdown",
   "id": "843e03cd",
   "metadata": {},
   "source": [
    "#### Perform attack"
   ]
  },
  {
   "cell_type": "code",
   "execution_count": 1638,
   "id": "2bc11c0f",
   "metadata": {},
   "outputs": [
    {
     "data": {
      "image/png": "[encoded data removed]",
      "text/plain": [
       "<Figure size 640x480 with 1 Axes>"
      ]
     },
     "metadata": {},
     "output_type": "display_data"
    }
   ],
   "source": [
    "# plot the ciphertext letter distribution by decreasing order of frequency\n",
    "ciphertext_distribution = letter_distribution(ciphertext)\n",
    "\n",
    "sorted_letters = sorted(\n",
    "    ciphertext_distribution.keys(),\n",
    "    key=lambda x: ciphertext_distribution[x],\n",
    "    reverse=True,\n",
    ")\n",
    "sorted_frequencies = [ciphertext_distribution[letter] for letter in sorted_letters]\n",
    "\n",
    "plt.bar(sorted_letters, sorted_frequencies)\n",
    "\n",
    "plt.title(\"Ciphertext letter distribution\")\n",
    "plt.xlabel(\"Letters\")\n",
    "plt.ylabel(\"Frequency\")\n",
    "plt.show()"
   ]
  },
  {
   "cell_type": "code",
   "execution_count": 1639,
   "id": "af14a82e-0202-4d9f-abb3-e1feba2c439c",
   "metadata": {},
   "outputs": [],
   "source": [
    "# perform Frequency analysis attack\n",
    "\n",
    "# Initialize the frequency mapping dictionary\n",
    "freq_mapping = {}\n",
    "\n",
    "def frequency_analysis_attack(ciphertext):\n",
    "    \"\"\"Decrypt `ciphertext` (str) using frequency analysis\"\"\"\n",
    "\n",
    "    # Load the English letter distribution\n",
    "    with open(\"english_distribution.pkl\", \"rb\") as file:\n",
    "        english_distribution = pickle.load(file)\n",
    "        # Order the English letter distribution by frequency in descending order\n",
    "        english_distribution = dict(\n",
    "            sorted(english_distribution.items(), key=lambda x: x[1], reverse=True)\n",
    "        )\n",
    "\n",
    "    # Sort the ciphertext distribution by frequency in descending order\n",
    "    sorted_distribution = dict(\n",
    "        sorted(ciphertext_distribution.items(), key=lambda x: x[1], reverse=True)\n",
    "    )\n",
    "\n",
    "    # Mapping the 8 most frequent letters in the ciphertext to the 8 most frequent letters in English\n",
    "    for i in range(len(ALPHABET)):\n",
    "        freq_mapping[list(sorted_distribution.keys())[i]] = list(english_distribution.keys())[i]\n",
    "\n",
    "\n",
    "    # Decrypt the ciphertext using the mapping\n",
    "    plaintext = substitution_decrypt(ciphertext, freq_mapping)\n",
    "\n",
    "    return plaintext\n",
    "\n",
    "\n",
    "# Perform frequency analysis attack on the ciphertext\n",
    "decrypted_text = frequency_analysis_attack(ciphertext)"
   ]
  },
  {
   "cell_type": "code",
   "execution_count": 1640,
   "id": "bd3d17c5-49f3-4dfc-8a55-f854c5168eb7",
   "metadata": {},
   "outputs": [
    {
     "name": "stdout",
     "output_type": "stream",
     "text": [
      "{'z': 'e', 'b': 't', 'h': 'a', 's': 'o', 'r': 'i', 'l': 'n', 'n': 'h', 'w': 's', 'v': 'r', 'i': 'd', 'g': 'l', 'a': 'u', 'c': 'm', 'o': 'w', 'd': 'c', 'e': 'f', 'k': 'y', 'q': 'g', 'j': 'p', 'p': 'b', 'x': 'v', 't': 'k', 'm': 'x', 'u': 'q', 'y': 'j', 'f': 'z'}\n"
     ]
    }
   ],
   "source": [
    "# print mapping\n",
    "print(freq_mapping)"
   ]
  },
  {
   "cell_type": "code",
   "execution_count": 1641,
   "id": "20f38fb9",
   "metadata": {},
   "outputs": [
    {
     "name": "stdout",
     "output_type": "stream",
     "text": [
      "gihoaz zijlla nvhbblb (hkwri 30, 1916 dzpwohwq 24, 2001) jhn hb hczwrghb chsvzchsrgrhb, zizgswrghi zberbzzw, glckoszw ngrzbsrns hba gwqkslewhkvzw tbljb hn svz \"dhsvzw ld rbdlwchsrlb svzlwq\". vz jhn sv\n"
     ]
    }
   ],
   "source": [
    "print(ciphertext[:200])"
   ]
  },
  {
   "cell_type": "code",
   "execution_count": 1642,
   "id": "deb76657-5fce-4f72-9fee-9b4295f62c07",
   "metadata": {},
   "outputs": [
    {
     "name": "stdout",
     "output_type": "stream",
     "text": [
      "ldawue edpnnu hrattnt (aysid 30, 1916 cebswasg 24, 2001) pah at amesilat maoremaoiliat, edelosilad etfitees, lnmywoes hlietoiho atu lsgyonfsayres ktnpt ah ore \"caores nc itcnsmaoint orensg\". re pah ore cisho on uehlsibe ore bnndeat faoeh (edelosntil lislwioh) orao ase ehhetoiad on add uifioad edelosntil lislwioh, atu re bwido ore cisho malrite deastitf uevile, orwh cnwtuitf ore ciedu nc asoiciliad itoeddifetle. re ih lseuioeu adntfhiue fensfe bnnde cns dagitf ore cnwtuaointh nc ore itcnsmaoint afe.ah a 21-geas-ndu mahoes'h uefsee howueto ao ore mahhalrwheooh ithoiowoe nc oelrtndnfg (mio), re psnoe rih orehih uemnthosaoitf orao edelosilad ayydilaointh nc bnndeat adfebsa lnwdu lnthoswlo atg dnfilad twmesilad sedaointhriy, oresebg ehoabdihritf ore orensg beritu uifioad lnmywoitf atu uifioad lislwioh. it 1987, rnpasu fasutes laddeu rih orehih \"ynhhibdg ore mnho imynsoato, atu adhn ore mnho camnwh, mahoes'h orehih nc ore letowsg\", atu resmat fnduhoite uehlsibeu io ah \"hwsedg ... nte nc ore mnho imynsoato mahoes'h oreheh eves psiooet ... io redyeu on lratfe uifioad lislwio uehift csnm at aso on a hlietle.\"hrattnt adhn lntosibwoeu on ore ciedu nc lsgyoatadghih cns taointad uecethe nc ore wtioeu hoaoeh uwsitf pnsdu pas ii, itldwuitf rih cwtuametoad pnsk nt lnuebseakitf atu helwse oedelnmmwtilaointh, psioitf a yayes prilr ih lnthiueseu nte nc ore cnwtuaointad yieleh nc mnuest lsgyonfsayrg, atu prnhe pnsk \"pah a owstitf ynito, atu maskeu ore ldnhwse nc ldahhilad lsgyonfsayrg atu ore befittitf nc mnuest lsgyonfsayrg.\"rih maoremaoilad orensg nc lnmmwtilaoint daiu ore cnwtuaointh cns ore ciedu nc itcnsmaoint orensg, pior rih camnwh yayes beitf laddeu ore \"mafta lasoa nc ore itcnsmaoint afe\" bg hlietoicil amesilat, adntf pior rih pnsk beitf uehlsibeu ah beitf ao \"ore reaso nc onuag'h uifioad itcnsmaoint oelrtndnfg\".rih orehewh malrite pah ore cisho edelosilad uevile on deast bg osiad atu essns. io ih pah orwh ore cisho examyde nc asoiciliad itoeddifetle.snuteg bsnnkh ueldaseu orao hrattnt pah ore 20or letowsg etfitees prn lntosibwoeu ore mnho on 21ho letowsg oelrtndnfieh. rih alrievemetoh ase haiu on be nt yas pior ornhe nc adbeso eithoeit atu his ihaal tepont it oreis cieduh.\n",
      "\n",
      "\n",
      "== binfsayrg ==\n",
      "\n",
      "\n",
      "=== lridurnnu ===\n",
      "ore hrattnt camidg diveu it fagdnsu, milrifat, atu ldawue pah bnst it a rnhyioad it teasbg yeonhkeg. rih caores, ldawue hs. (18621934), pah a bwhitehhmat atu, cns a pride, a qwufe nc ysnbaoe it fagdnsu. rih mnores, mabed pndc hrattnt (18901945), pah a datfwafe oealres, prn adhn hesveu ah ore ysitliyad nc fagdnsu rifr hlrnnd. ldawue hs. pah a uehletuato nc tep qesheg heoodesh, pride mabed pah a lridu nc fesmat immifsatoh. hrattnt'h camidg pah aloive it oreis meornuiho lrwslr uwsitf rih gnwor.mnho nc ore cisho 16 geash nc hrattnt'h dice pese hyeto it fagdnsu, prese re aooetueu ywbdil hlrnnd, fsauwaoitf csnm fagdnsu rifr hlrnnd it 1932. hrattnt hrnpeu at itlditaoint onpasuh melratilad atu edelosilad oritfh. rih beho hwbqeloh pese hlietle atu maoremaoilh. ao rnme, re lnthoswloeu hwlr uevileh ah mnuedh nc ydateh, a sauin-lntosnddeu mnued bnao atu a basbeu-pise oedefsayr hghoem on a csietu'h rnwhe a radc-mide apag. pride fsnpitf wy, re adhn pnskeu ah a mehhetfes cns ore pehoest wtint lnmyatg.\n",
      "hrattnt'h lridurnnu resn pah ornmah euihnt, prnm re daoes deasteu pah a uihoato lnwhit. bnor hrattnt atu euihnt pese uehletuatoh nc qnrt nfuet (16091682), a lndntiad deaues atu at atlehons nc matg uihoitfwihreu yenyde.\n",
      "\n",
      "\n",
      "=== dnfil lislwioh ===\n",
      "it 1932, hrattnt etoeseu ore wtiveshiog nc milrifat, prese re pah itosnuwleu on ore pnsk nc fensfe bnnde. re fsauwaoeu it 1936 pior opn balredns'h uefseeh: nte it edelosilad etfiteesitf atu ore nores it maoremaoilh.\n",
      "it 1936, hrattnt befat rih fsauwaoe howuieh it edelosilad etfiteesitf ao mio, prese re pnskeu nt vattevas bwhr'h uiccesetoiad atadgjes, at easdg atadnf lnmywoes. pride howugitf ore lnmydilaoeu au rnl lislwioh nc orih atadgjes, hrattnt uehifteu hpiolritf lislwioh baheu nt bnnde'h lntleyoh. it 1937, re psnoe rih mahoes'h uefsee orehih, a hgmbndil atadghih nc sedag atu hpiolritf lislwioh. a yayes csnm orih orehih pah ywbdihreu it 1938. it orih pnsk, hrattnt uiafsameu hpiolritf lislwioh orao lnwdu imydemeto ore ehhetoiad nyesaonsh nc bnndeat adfebsa. oret re ysnveu orao rih hpiolritf lislwioh lnwdu be wheu on himydicg ore assatfemeto nc ore edelosnmelratilad sedagh orao pese wheu uwsitf orao oime it oedeyrnte ladd snwoitf hpiolreh. texo, re exyatueu orih lntleyo, ysnvitf orao orehe lislwioh lnwdu hndve add ysnbdemh orao bnndeat adfebsa lnwdu hndve. it ore daho lrayoes, re ysehetoeu uiafsamh nc hevesad lislwioh, itldwuitf a uifioad 4-bio cwdd auues.whitf orih ysnyesog nc edelosilad hpiolreh on imydemeto dnfil ih ore cwtuametoad lntleyo orao wtuesdieh add edelosntil uifioad lnmywoesh. hrattnt'h pnsk belame ore cnwtuaoint nc uifioad lislwio uehift, ah io belame piuedg ktnpt it ore edelosilad etfiteesitf lnmmwtiog uwsitf atu acoes pnsdu pas ii. ore orenseoilad sifns nc hrattnt'h pnsk hwyesheueu ore au rnl meornuh orao rau ysevaideu ysevinwhdg. rnpasu fasutes laddeu hrattnt'h orehih \"ynhhibdg ore mnho imynsoato, atu adhn ore mnho tnoeu, mahoes'h orehih nc ore letowsg.\"hrattnt seleiveu rih yru it maoremaoilh csnm mio it 1940. vattevas bwhr rau hwffehoeu orao hrattnt hrnwdu pnsk nt rih uihhesoaoint ao ore lndu hysitf rasbns dabnsaonsg, it nsues on uevedny a maoremaoilad cnsmwdaoint cns metuediat feteoilh. orih seheaslr sehwdoeu it hrattnt'h yru orehih, laddeu at adfebsa cns orenseoilad feteoilh.it 1940, hrattnt belame a taointad seheaslr ceddnp ao ore ithoiowoe cns auvatleu howug it ysitleont, tep qesheg. it ysitleont, hrattnt rau ore nyynsowtiog on uihlwhh rih iueah pior itcdwetoiad hlietoihoh atu maoremaoiliath hwlr ah resmatt pegd atu qnrt vnt tewmatt, atu re adhn rau nllahintad etlnwtoesh pior adbeso eithoeit atu kwso fued. hrattnt pnskeu cseedg alsnhh uihliyditeh, atu orih abidiog mag rave lntosibwoeu on rih daoes uevednymeto nc maoremaoilad itcnsmaoint orensg.\n",
      "\n",
      "\n",
      "=== pasoime seheaslr ===\n",
      "hrattnt oret qniteu bedd dabh on pnsk nt cise-lntosnd hghoemh atu lsgyonfsayrg uwsitf pnsdu pas ii, wtues a lntosalo pior heloint u-2 (lntosnd hghoemh heloint) nc ore taointad uecethe seheaslr lnmmiooee (tusl).\n",
      "hrattnt ih lseuioeu pior ore itvetoint nc hiftad-cdnp fsayrh, it 1942. re uihlnveseu ore onyndnfilad fait cnsmwda pride itvehoifaoitf ore cwtlointad nyesaoint nc at atadnf lnmywoes.cns opn mntorh easdg it 1943, hrattnt lame iton lntoalo pior ore deauitf bsioihr maoremaoiliat adat owsitf. owsitf rau beet ynhoeu on pahritfont on hrase pior ore w.h. tavg'h lsgyoatadgoil hesvile ore meornuh wheu bg ore bsioihr fnvestmeto lnue atu lgyres hlrnnd ao bdeolrdeg yask on bseak ore lgyresh wheu bg ore ksiefhmasite w-bnaoh it ore tnsor aodatoil nleat. re pah adhn itoesehoeu it ore etliyresmeto nc hyeelr atu on orih etu hyeto oime ao bedd dabh. hrattnt atu owsitf meo ao oeaoime it ore laceoesia. owsitf hrnpeu hrattnt rih 1936 yayes orao ueciteu prao ih tnp ktnpt ah ore \"wtiveshad owsitf malrite\". orih imysehheu hrattnt, ah matg nc ioh iueah lnmydemetoeu rih npt.\n",
      "it 1945, ah ore pas pah lnmitf on at etu, ore tusl pah ihhwitf a hwmmasg nc oelrtilad seynsoh ah a daho hoey ysins on ioh evetowad ldnhitf unpt. ithiue ore vndwme nt cise lntosnd, a hyeliad ehhag oiodeu uaoa hmnnoritf atu yseuiloint it cise-lntosnd hghoemh, lnawornseu bg hrattnt, sadyr beebe bdalkmat, atu retusik paue bnue, cnsmaddg oseaoeu ore ysnbdem nc hmnnoritf ore uaoa it cise-lntosnd bg atadnfg pior \"ore ysnbdem nc heyasaoitf a hiftad csnm itoescesitf tnihe it lnmmwtilaointh hghoemh.\" it nores pnsuh, io mnuedeu ore ysnbdem it oesmh nc uaoa atu hiftad ysnlehhitf atu orwh resadueu ore lnmitf nc ore itcnsmaoint afe.\n",
      "hrattnt'h pnsk nt lsgyonfsayrg pah evet mnse ldnhedg sedaoeu on rih daoes ywbdilaointh nt lnmmwtilaoint orensg. ao ore ldnhe nc ore pas, re yseyaseu a ldahhicieu memnsatuwm cns bedd oedeyrnte dabh etoiodeu \"a maoremaoilad orensg nc lsgyonfsayrg\", uaoeu heyoembes 1945. a ueldahhicieu veshint nc orih yayes pah ywbdihreu it 1949 ah \"lnmmwtilaoint orensg nc helselg hghoemh\" it ore bedd hghoem oelrtilad qnwstad. orih yayes itlnsynsaoeu matg nc ore lntleyoh atu maoremaoilad cnsmwdaointh orao adhn ayyeaseu it rih a maoremaoilad orensg nc lnmmwtilaoint. hrattnt haiu orao rih pasoime ithifroh iton lnmmwtilaoint orensg atu lsgyonfsayrg uevednyeu himwdoatenwhdg, atu orao \"oreg pese hn ldnhe onfeores gnw lnwdut'o heyasaoe orem\". it a cnnotnoe teas ore befittitf nc ore ldahhicieu seynso, hrattnt attnwtleu rih itoetoint on \"uevedny orehe sehwdoh it a cnsorlnmitf memnsatuwm nt ore osathmihhint nc itcnsmaoint.\"pride re pah ao bedd dabh, hrattnt ysnveu orao ore lsgyonfsayril nte-oime yau ih wtbseakabde it rih ldahhicieu seheaslr orao pah daoes ywbdihreu it 1949. ore hame asoilde adhn ysnveu orao atg wtbseakabde hghoem mwho rave ehhetoiaddg ore hame lrasaloesihoilh ah ore nte-oime yau: ore keg mwho be oswdg satunm, ah dasfe ah ore ydaitoexo, teves sewheu it prnde ns yaso, atu keyo helseo.\n",
      "\n",
      "\n",
      "=== itcnsmaoint orensg ===\n",
      "\n",
      "it 1948, ore ysnmiheu memnsatuwm ayyeaseu ah \"a maoremaoilad orensg nc lnmmwtilaoint\", at asoilde it opn yasoh it ore qwdg atu nlonbes ihhweh nc ore bedd hghoem oelrtilad qnwstad. orih pnsk cnlwheh nt ore ysnbdem nc rnp beho on etlnue ore mehhafe a hetues patoh on osathmio. hrattnt uevednyeu itcnsmaoint etosnyg ah a meahwse nc ore itcnsmaoint lntoeto it a mehhafe, prilr ih a meahwse nc wtlesoaitog seuwleu bg ore mehhafe. it hn unitf, re ehhetoiaddg itvetoeu ore ciedu nc itcnsmaoint orensg.\n",
      "ore bnnk ore maoremaoilad orensg nc lnmmwtilaoint seysitoh hrattnt'h 1948 asoilde atu passet peaves'h ynywdasijaoint nc io, prilr ih allehhibde on ore tnt-hyeliadiho. peaves ynitoeu nwo orao ore pnsu \"itcnsmaoint\" it lnmmwtilaoint orensg ih tno sedaoeu on prao gnw un hag, bwo on prao gnw lnwdu hag. orao ih, itcnsmaoint ih a meahwse nc nte'h cseeunm nc lrnile pret nte hedeloh a mehhafe. hrattnt'h lntleyoh pese adhn ynywdasijeu, hwbqelo on rih npt ysnncseauitf, it qnrt snbithnt yiesle'h hgmbndh, hiftadh, atu tnihe.\n",
      "itcnsmaoint orensg'h cwtuametoad lntosibwoint on taowsad datfwafe ysnlehhitf atu lnmywoaointad ditfwihoilh pah cwsores ehoabdihreu it 1951, it rih asoilde \"yseuiloint atu etosnyg nc ysitoeu etfdihr\", hrnpitf wyyes atu dnpes bnwtuh nc etosnyg nt ore hoaoihoilh nc etfdihr fivitf a hoaoihoilad cnwtuaoint on datfwafe atadghih. it auuioint, re ysnveu orao oseaoitf hyale ah ore 27or deooes nc ore adyrabeo alowaddg dnpesh wtlesoaitog it psiooet datfwafe, ysnviuitf a ldeas zwatoiciabde ditk beopeet lwdowsad ysaloile atu ysnbabidihoil lnftioint.\n",
      "atnores tnoabde yayes ywbdihreu it 1949 ih \"lnmmwtilaoint orensg nc helselg hghoemh\", a ueldahhicieu veshint nc rih pasoime pnsk nt ore maoremaoilad orensg nc lsgyonfsayrg, it prilr re ysnveu orao add orenseoiladdg wtbseakabde lgyresh mwho rave ore hame sezwisemetoh ah ore nte-oime yau. re ih adhn lseuioeu pior ore itosnuwloint nc hamyditf orensg, prilr ih lntlesteu pior seysehetoitf a lntoitwnwh-oime hiftad csnm a (wticnsm) uihlseoe heo nc hamydeh. orih orensg pah ehhetoiad it etabditf oedelnmmwtilaointh on mnve csnm atadnf on uifioad osathmihhinth hghoemh it ore 1960h atu daoes.\n",
      "\n",
      "\n",
      "=== asoiciliad itoeddifetle ===\n",
      "it 1950, hrattnt, uehifteu, atu bwido pior ore redy nc rih pice, a malrite deastitf uevile, orehewh. io lnthihoeu nc a maje nt a hwscale, bednp prilr pese hethnsh orao cnddnpeu ore yaor nc a melratilad mnwhe orsnwfr ore maje. acoes mwlr osiad atu essns, orih uevile pnwdu deast ore hrnsoeho yaor orsnwfr ore maje, atu uiselo ore melratilad mnwhe orsnwfr ore maje. ore yaooest nc ore maje lnwdu be lratfeu ao pidd.majit fidbeso hagh orehewh \"ithyiseu ore prnde ciedu nc ai. orih satunm osiad atu essns ih ore cnwtuaoint nc asoiciliad itoeddifetle.\"\n",
      "\n",
      "\n",
      "=== oealritf ao mio ===\n",
      "it 1956 hrattnt qniteu ore mio calwdog, rnduitf at etunpeu lrais. re pnskeu it ore seheaslr dabnsaonsg nc edelosntilh (sde). re lntoitweu on hesve nt ore mio calwdog wtoid 1978.\n",
      "\n",
      "\n",
      "=== daoes dice ===\n",
      "hrattnt uevednyeu adjreimes'h uiheahe atu hyeto ore daho cep geash nc rih dice it a twshitf rnme; re uieu it 2001, hwsviveu bg rih pice, a hnt atu uawfroes, atu opn fsatuuawfroesh.\n",
      "\n",
      "\n",
      "=== rnbbieh atu itvetointh ===\n",
      "nwohiue nc hrattnt'h alauemil ywshwioh, re pah itoesehoeu it qwffditf, wtilglditf, atu lrehh. re adhn itvetoeu matg uevileh, itldwuitf a snmat twmesad lnmywoes laddeu orsnbal, atu qwffditf malriteh. re bwido a uevile orao lnwdu hndve ore swbik'h lwbe ywjjde.hrattnt uehifteu ore mitival 601, a uifioad lnmywoes osaites on oealr bwhitehh yenyde abnwo rnp lnmywoesh cwtlointeu. io pah hndu bg ore hlietoicil uevednymeto lnsy hoasoitf it 1961.re ih adhn lnthiueseu ore ln-itvetons nc ore cisho peasabde lnmywoes adntf pior eupasu n. ornsy. ore uevile pah wheu on imysnve ore nuuh pret ydagitf snwdeooe.\n",
      "\n",
      "\n",
      "=== yeshntad dice ===\n",
      "hrattnt massieu tnsma devns, a peadorg, qepihr, deco-pitf itoeddelowad it qatwasg 1940. ore massiafe etueu it uivnsle acoes abnwo a geas. devns daoes massieu bet basjmat.hrattnt meo rih helntu pice, masg edijabeor mnnse (beoog), pret hre pah a twmesilad atadgho ao bedd dabh. oreg pese massieu it 1949. beoog ahhihoeu ldawue it bwiduitf hnme nc rih mnho camnwh itvetointh. oreg rau orsee lriduset.hrattnt ysehetoeu rimhedc ah ayndioilad atu at aoreiho.\n",
      "\n",
      "\n",
      "=== osibwoeh ===\n",
      "orese ase hix hoaoweh nc hrattnt hlwdyoeu bg ewfete uawb: nte ao ore wtiveshiog nc milrifat; nte ao mio it ore dabnsaonsg cns itcnsmaoint atu uelihint hghoemh; nte it fagdnsu, milrifat; nte ao ore wtiveshiog nc ladicnstia, hat uiefn; nte ao bedd dabh; atu atnores ao ao&o hrattnt dabh. ore hoaowe it fagdnsu ih dnlaoeu it ore ldawue hrattnt memnsiad yask. acoes ore bseakwy nc ore bedd hghoem, ore yaso nc bedd dabh orao semaiteu pior ao&o lnsynsaoint pah tameu hrattnt dabh it rih rntns.\n",
      "allnsuitf on teid hdnate, at ao&o ceddnp prn ln-euioeu hrattnt'h dasfe lnddeloint nc yayesh it 1993, ore yeshyeloive itosnuwleu bg hrattnt'h lnmmwtilaoint orensg (tnp laddeu itcnsmaoint orensg) ih ore cnwtuaoint nc ore uifioad sevndwoint, atu evesg uevile lntoaititf a milsnysnlehhns ns milsnlntosnddes ih a lntleyowad uehletuato nc hrattnt'h ywbdilaoint it 1948: \"re'h nte nc ore fseao met nc ore letowsg. piornwo rim, tnte nc ore oritfh pe ktnp onuag pnwdu exiho. ore prnde uifioad sevndwoint hoasoeu pior rim.\" ore lsgyonlwssetlg wtio hrattnt (a hgtntgm cns fpei) ih tameu acoes rim.hrattnt ih lseuioeu bg matg ah hitfde-ratueudg lseaoitf itcnsmaoint orensg atu cns dagitf ore cnwtuaointh cns ore uifioad afe.a mitu ao ydag, a binfsayrg nc hrattnt psiooet bg qimmg hnti atu snb fnnumat, pah ywbdihreu it 2017. oreg uehlsibeu hrattnt ah \"ore mnho imynsoato fetiwh gnwve teves reasu nc, a mat prnhe itoeddelo pah nt yas pior adbeso eithoeit atu ihaal tepont\".nt aysid 30, 2016, hrattnt pah rntnseu pior a fnnfde unnude on ledebsaoe rih dice nt prao pnwdu rave beet rih 100or bisoruag.ore bio ydages, a ceaowse cidm abnwo hrattnt uiseloeu bg mask devithnt ysemieseu ao ore pnsdu hlietle cehoivad it 2019. usapt csnm itoesvieph lntuwloeu pior hrattnt it rih rnwhe it ore 1980h, ore cidm pah sedeaheu nt amajnt ysime it awfwho 2020.\n",
      "\n",
      "\n",
      "== ore maoremaoilad orensg nc lnmmwtilaoint ==\n",
      "\n",
      "\n",
      "=== peaves'h lntosibwoint ===\n",
      "hrattnt'h ore maoremaoilad orensg nc lnmmwtilaoint, befith pior at itoesyseoaoint nc rih npt pnsk bg passet peaves. adornwfr hrattnt'h etoise pnsk ih abnwo lnmmwtilaoint iohedc, passet peaves lnmmwtilaoeu rih iueah it hwlr a pag orao ornhe tno alldimaoeu on lnmydex orensg atu maoremaoilh lnwdu lnmyseretu ore cwtuametoad daph re ywo cnsor. ore lnwyditf nc oreis wtizwe lnmmwtilaointad abidioieh atu iueah fetesaoeu ore hrattnt-peaves mnued, adornwfr ore maoremaoilad atu orenseoilad wtuesyittitfh emataoe etoisedg csnm hrattnt'h pnsk acoes peaves'h itosnuwloint. cns ore dagmat, peaves'h itosnuwloint beooes lnmmwtilaoeh ore maoremaoilad orensg nc lnmmwtilaoint, bwo hrattnt'h hwbhezweto dnfil, maoremaoilh, atu exysehhive yselihint pah sehynthibde cns uecititf ore ysnbdem iohedc.\n",
      "\n",
      "\n",
      "== nores pnsk ==\n",
      "\n",
      "\n",
      "=== hrattnt'h mnwhe ===\n",
      "\"orehewh\", lseaoeu it 1950, pah a melratilad mnwhe lntosnddeu bg at edelosnmelratilad sedag lislwio orao etabdeu io on mnve asnwtu a dabgsitor nc 25 hzwaseh. ore maje lntcifwsaoint pah cdexibde atu io lnwdu be mnuicieu asbiosasidg bg seassatfitf mnvabde yasoiointh. ore mnwhe pah uehifteu on heaslr orsnwfr ore lnssiunsh wtoid io cnwtu ore oasfeo. ravitf osaveddeu orsnwfr ore maje, ore mnwhe lnwdu oret be ydaleu atgprese io rau beet becnse, atu belawhe nc ioh ysins exyesietle io lnwdu fn uiselodg on ore oasfeo. ic ydaleu it wtcamidias oessionsg, io pah ysnfsammeu on heaslr wtoid io sealreu a ktnpt dnlaoint atu oret io pnwdu ysnleeu on ore oasfeo, auuitf ore tep ktnpdeufe on ioh memnsg atu deastitf tep beravins. hrattnt'h mnwhe ayyeash on rave beet ore cisho asoiciliad deastitf uevile nc ioh kitu.\n",
      "\n",
      "\n",
      "=== hrattnt'h ehoimaoe cns ore lnmydexiog nc lrehh ===\n",
      "\n",
      "it 1949 hrattnt lnmydeoeu a yayes (ywbdihreu it maslr 1950) prilr ehoimaoeh ore fame-osee lnmydexiog nc lrehh, prilr ih ayysnximaoedg 10120. orih twmbes ih tnp ncoet secesseu on ah ore \"hrattnt twmbes\", atu ih hoidd sefasueu onuag ah at allwsaoe ehoimaoe nc ore fame'h lnmydexiog. ore twmbes ih ncoet lioeu ah nte nc ore bassiesh on hndvitf ore fame nc lrehh whitf at exrawhoive atadghih (i.e. bswoe cnsle atadghih).\n",
      "\n",
      "\n",
      "=== hrattnt'h lnmywoes lrehh ysnfsam ===\n",
      "nt maslr 9, 1949, hrattnt ysehetoeu a yayes laddeu \"ysnfsammitf a lnmywoes cns ydagitf lrehh\". ore yayes pah ysehetoeu ao ore taointad ithoiowoe cns sauin etfiteesh lntvetoint it tep gnsk. re uehlsibeu rnp on ysnfsam a lnmywoes on ydag lrehh baheu nt ynhioint hlnsitf atu mnve hedeloint. re ysnynheu bahil hosaoefieh cns sehosiloitf ore twmbes nc ynhhibidioieh on be lnthiueseu it a fame nc lrehh. it maslr 1950 io pah ywbdihreu it yridnhnyrilad mafajite, atu ih lnthiueseu nte nc ore cisho asoildeh ywbdihreu nt ore onyil nc ysnfsammitf a lnmywoes cns ydagitf lrehh, atu whitf a lnmywoes on hndve ore fame.rih ysnlehh cns ravitf ore lnmywoes ueliue nt prilr mnve on make pah a mitimax ysnleuwse, baheu nt at evadwaoint cwtloint nc a fivet lrehh ynhioint. hrattnt fave a snwfr examyde nc at evadwaoint cwtloint it prilr ore vadwe nc ore bdalk ynhioint pah hwbosaloeu csnm orao nc ore prioe ynhioint. maoesiad pah lnwtoeu allnsuitf on ore whwad lrehh yiele sedaoive vadwe (1 ynito cns a yapt, 3 ynitoh cns a ktifro ns bihrny, 5 ynitoh cns a snnk, atu 9 ynitoh cns a zweet). re lnthiueseu hnme ynhiointad calonsh, hwbosaloitf ynito cns ealr unwbdeu yapt, balkpasu yapt, atu ihndaoeu yapt; mnbidiog pah itlnsynsaoeu bg auuitf 0.1 ynito cns ealr defad mnve avaidabde.\n",
      "\n",
      "\n",
      "=== hrattnt'h maxim ===\n",
      "hrattnt cnsmwdaoeu a veshint nc keslkrncch' ysitliyde ah \"ore etemg ktnph ore hghoem\". it orih cnsm io ih ktnpt ah \"hrattnt'h maxim\".\n",
      "\n",
      "\n",
      "== lnmmemnsaointh ==\n",
      "\n",
      "\n",
      "=== hrattnt letoetasg ===\n",
      "ore hrattnt letoetasg, 2016, maskeu ore dice atu itcdwetle nc ldawue edpnnu hrattnt nt ore rwtuseuor attiveshasg nc rih bisor nt aysid 30, 1916. io pah ithyiseu it yaso bg ore adat owsitf geas. at au rnl lnmmiooee nc ore ieee itcnsmaoint orensg hnlieog itldwuitf lrsihoita csafnwdi, suifes wsbatke, milredde eccsnh, dav vashrteg atu hesfin vesu, lnnsuitaoeu pnsdupiue evetoh. ore itioiaoive pah attnwtleu it ore rihonsg yated ao ore 2015 ieee itcnsmaoint orensg pnskhrny qeswhadem atu ore ieee itcnsmaoint orensg hnlieog tephdeooes.a ueoaideu dihoitf nc lntcismeu evetoh pah avaidabde nt ore pebhioe nc ore ieee itcnsmaoint orensg hnlieog.hnme nc ore ydatteu aloivioieh itldwueu:\n",
      "\n",
      "bedd dabh rnhoeu ore cisho hrattnt lntcesetle nt ore cwowse nc ore itcnsmaoint afe nt aysid 2829, 2016, it mwssag ridd, tep qesheg, on ledebsaoe ldawue hrattnt atu ore lntoitweu imyalo nc rih defalg nt hnlieog. ore eveto itldwueh kegtnoe hyeelreh bg fdnbad dwmitasieh atu vihintasieh nc ore itcnsmaoint afe prn pidd exydnse ore imyalo nc itcnsmaoint orensg nt hnlieog atu nws uifioad cwowse, itcnsmad selnddelointh, atu deauitf oelrtilad ysehetoaointh nt hwbhezweto sedaoeu pnsk it nores aseah hwlr ah binitcnsmaoilh, elntnmil hghoemh, atu hnliad teopnskh. orese ih adhn a howueto lnmyeoioint\n",
      "bedd dabh dawtlreu a peb exribio nt aysid 30, 2016, lrsntilditf hrattnt'h risitf ao bedd dabh (wtues at tusl lntosalo pior wh fnvestmeto), rih hwbhezweto pnsk orese csnm 1942 orsnwfr 1957, atu ueoaidh nc maoremaoilh ueyasometo. ore exribio adhn uihydageu binh nc lnddeafweh atu matafesh uwsitf rih oetwse, ah pedd ah nsifitad veshinth nc hnme nc ore oelrtilad memnsatua prilr hwbhezwetodg belame pedd ktnpt it ywbdihreu cnsm.\n",
      "ore seywbdil nc maleuntia ih ydattitf a lnmmemnsaoive hoamy. a whyh lnmmemnsaoive hoamy ih beitf ysnynheu, pior at aloive yeoioint.\n",
      "a unlwmetoasg nt ldawue hrattnt atu nt ore imyalo nc itcnsmaoint orensg, ore bio ydages, ih beitf ysnuwleu bg hesfin vesu atu mask devithnt.\n",
      "a osath-aodatoil ledebsaoint nc bnor fensfe bnnde'h biletoetasg atu ldawue hrattnt'h letoetasg orao ih beitf deu bg wtiveshiog lnddefe lnsk atu ore mahhalrwheooh ithoiowoe nc oelrtndnfg. a cisho eveto pah a pnskhrny it lnsk, pret bnnde meeoh hrattnt, atu pidd lntoitwe pior exribioh ao ore bnhont mwhewm nc hlietle atu ao ore mio mwhewm.\n",
      "matg nsfatijaointh asnwtu ore pnsdu ase rnduitf nbhesvatle evetoh, itldwuitf ore bnhont mwhewm nc hlietle, ore reitj-tixunsc mwhewm, ore ithoiowoe cns auvatleu howug, oelrtihlre wtiveshioo besdit, wtiveshiog nc hnwor awhosadia (wtiha), wtilamy (wtiveshiuaue ehoauwad ue lamyitah), wtiveshiog nc onsnton, lritehe wtiveshiog nc rntf kntf, laisn wtiveshiog, oedelnm yasihoelr, taointad oelrtilad wtiveshiog nc aoreth, ituiat ithoiowoe nc hlietle, ituiat ithoiowoe nc oelrtndnfg bnmbag, ituiat ithoiowoe nc oelrtndnfg katyws, tatgatf oelrtndnfilad wtiveshiog nc hitfaynse, wtiveshiog nc masgdatu, wtiveshiog nc idditnih ao lrilafn, lnde yndgoelrtizwe ceuesade ue dawhatte, ore yetthgdvatia hoaoe wtiveshiog (yett hoaoe), wtiveshiog nc ladicnstia dnh atfedeh, mahhalrwheooh ithoiowoe nc oelrtndnfg, lrntfzitf wtiveshiog nc ynhoh atu oedelnmmwtilaointh, atu wtiveshiog nc idditnih ao wsbata-lramyaift.\n",
      "a dnfn orao ayyeash nt orih yafe pah lsnpuhnwsleu nt lsnpuhysitf.\n",
      "ore maor etlnwtoesh ysehetoaoint nc mag 4, 2016, ao ore taointad mwhewm nc maoremaoilh it tep gnsk, oiodeu havitf cale: itcnsmaoint osilkh cns dnve atu dice, cnlwheu nt hrattnt'h pnsk it itcnsmaoint orensg. a viuen selnsuitf atu nores maoesiad ase avaidabde.\n",
      "\n",
      "\n",
      "== apasuh atu rntnsh diho ==\n",
      "ore ldawue e. hrattnt apasu pah ehoabdihreu it rih rntns; re pah adhn ioh cisho seliyieto, it 1972.\n",
      "\n",
      "\n",
      "== hedeloeu pnskh ==\n",
      "ldawue e. hrattnt: a hgmbndil atadghih nc sedag atu hpiolritf lislwioh, mahoes'h orehih, mio, 1937.\n",
      "ldawue e. hrattnt: \"a maoremaoilad orensg nc lnmmwtilaoint\", bedd hghoem oelrtilad qnwstad, vnd. 27, yy. 379423, 623656, 1948 (abhosalo).\n",
      "ldawue e. hrattnt atu passet peaves: ore maoremaoilad orensg nc lnmmwtilaoint. ore wtiveshiog nc idditnih ysehh, wsbata, idditnih, 1949. ihbt 0-252-72548-4\n",
      "\n",
      "\n",
      "== hee adhn ==\n",
      "\n",
      "\n",
      "== secesetleh ==\n",
      "\n",
      "\n",
      "== cwsores seauitf ==\n",
      "seortakasat ywdikknntaoow esil p. peihhoeit: maorpnsdu binfsayrg nc hrattnt, ldawue edpnnu (19162001) hrattnt, ldawue edpnnu (19162001) csnm esil peihhoeit'h pnsdu nc hlietoicil binfsayrg\n",
      "ldawue e. hrattnt: ysnfsammitf a lnmywoes cns ydagitf lrehh, yridnhnyrilad mafajite, hes.7, vnd. 41, tn. 314, maslr 1950. (avaidabde ntdite wtues exoestad ditkh bednp)\n",
      "uaviu devg: lnmywoes famehmathriy: edemetoh nc itoeddifeto fame uehift, himnt & hlrwhoes, 1983. ihbt 0-671-49532-1\n",
      "mituedd, uaviu a., \"awonmaoint'h citeho rnws: bedd dabh atu awonmaoil lntosnd it pnsdu pas ii\", ieee lntosnd hghoemh, uelembes 1995, yy. 7280.\n",
      "ynwtuhonte, piddiam, cnsowte'h cnsmwda, ridd & patf, 2005, ihbt 978-0-8090-4599-0\n",
      "fdeilk, qameh, ore itcnsmaoint: a rihonsg, a orensg, a cdnnu, yatorent, 2011, ihbt 978-0-375-42372-7\n",
      "qimmg hnti atu snb fnnumat, a mitu ao ydag: rnp ldawue hrattnt itvetoeu ore itcnsmaoint afe, himnt atu hlrwhoes, 2017, ihbt 978-1476766683\n",
      "tarit, yawd q., ore dnfiliat atu ore etfitees: rnp fensfe bnnde atu ldawue hrattnt lseaoe ore itcnsmaoint afe, ysitleont wtiveshiog ysehh, 2013, ihbt 978-0691151007\n",
      "eveseoo m. snfesh, ldawue hrattnt'h lsgyonfsayrg seheaslr uwsitf pnsdu pas ii atu ore maoremaoilad orensg nc lnmmwtilaoint, 1994 ysnleeuitfh nc ieee itoestaointad lastarat lntcesetle nt helwsiog oelrtndnfg, yy. 15, 1994. ldawue hrattnt'h lsgyonfsayrg seheaslr uwsitf pnsdu pas ii atu ore maoremaoilad orensg nc lnmmwtilaoint\n",
      "\n",
      "\n",
      "== exoestad ditkh ==\n",
      " meuia sedaoeu on ldawue hrattnt ao pikimeuia lnmmnth\n",
      "fwiue on ore ldawue edpnnu hrattnt yayesh ao ore dibsasg nc lntfsehh\n",
      "a ywbdil delowse ledebsaoitf ldawue e. hrattnt hesfin vesuw, ithoiowoe cns auvatleu howug nt gnwowbe\n",
      "ldawue edpnnu hrattnt (19162001) ao ore tnoileh nc ore amesilat maoremaoilad hnlieog\n"
     ]
    }
   ],
   "source": [
    "# print decrypted plaintext\n",
    "print(decrypted_text)"
   ]
  },
  {
   "cell_type": "markdown",
   "id": "38819285",
   "metadata": {},
   "source": [
    "`(aysid 30, 1916 cebswasg 24, 2001)`exactly `aysid` is a month with five letters (f.e. april, march). It has more sense if we start with `april` because the `a` and `i` have a high frequency in the English language."
   ]
  },
  {
   "cell_type": "code",
   "execution_count": 1643,
   "id": "2fc3ff6e",
   "metadata": {},
   "outputs": [
    {
     "name": "stdout",
     "output_type": "stream",
     "text": [
      "dlawue elynnu hsattnt (april 30, 1916 cebrwarg 24, 2001) yah at ameridat maosemaoidiat, eledoridal e\n"
     ]
    }
   ],
   "source": [
    "freq_mapping['k'], freq_mapping['j'] = 'p', 'y'\n",
    "freq_mapping['w'], freq_mapping['v'] = 'r', 's'\n",
    "freq_mapping['i'], freq_mapping['g'] = 'l', 'd'\n",
    "\n",
    "plaintext = substitution_decrypt(ciphertext, freq_mapping)\n",
    "print(plaintext[:100])"
   ]
  },
  {
   "cell_type": "markdown",
   "id": "9df0e56d",
   "metadata": {},
   "source": [
    "`cebrwarg` could be `february`"
   ]
  },
  {
   "cell_type": "code",
   "execution_count": 1644,
   "id": "b775ceba",
   "metadata": {},
   "outputs": [
    {
     "name": "stdout",
     "output_type": "stream",
     "text": [
      "dlauwe elgnnw hsattnt (april 30, 1916 february 24, 2001) gah at ameridat maosemaoidiat, eledoridal etciteer, dnmpuoer hdietoiho atw dryponcrapser ktngt ah ose \"faoser nf itfnrmaoint osenry\". se gah os\n"
     ]
    }
   ],
   "source": [
    "freq_mapping['d'], freq_mapping['e'] = 'f', 'c'\n",
    "freq_mapping['o'], freq_mapping['a'] = 'u', 'w'\n",
    "freq_mapping['q'], freq_mapping['j'] = 'y', 'g'\n",
    "\n",
    "plaintext = substitution_decrypt(ciphertext, freq_mapping)\n",
    "print(plaintext[:200])"
   ]
  },
  {
   "cell_type": "markdown",
   "id": "79a485ba",
   "metadata": {},
   "source": [
    "`faoser nf itfnrmaoint osenry` could be `father of information theory`. So we know now that this text is talking about the biography of someone."
   ]
  },
  {
   "cell_type": "code",
   "execution_count": 1645,
   "id": "d11a7272",
   "metadata": {},
   "outputs": [
    {
     "name": "stdout",
     "output_type": "stream",
     "text": [
      "{'z': 'e', 'b': 't', 'h': 'a', 's': 'o', 'r': 'i', 'l': 'n', 'n': 'h', 'w': 'r', 'v': 's', 'i': 'l', 'g': 'd', 'a': 'w', 'c': 'm', 'o': 'u', 'd': 'f', 'e': 'c', 'k': 'p', 'q': 'y', 'j': 'g', 'p': 'b', 'x': 'v', 't': 'k', 'm': 'x', 'u': 'q', 'y': 'j', 'f': 'z'}\n"
     ]
    }
   ],
   "source": [
    "print(freq_mapping)"
   ]
  },
  {
   "cell_type": "code",
   "execution_count": 1646,
   "id": "ad93d7fe",
   "metadata": {},
   "outputs": [
    {
     "name": "stdout",
     "output_type": "stream",
     "text": [
      "dlauwe elgoow shannon (april 30, 1916 february 24, 2001) gas an ameridan mathematidian, eledtridal encineer, domputer sdientist anw dryptocrapher knogn as the \"father of information theory\". he gas th\n"
     ]
    }
   ],
   "source": [
    "freq_mapping['s'], freq_mapping['b'] = 't', 'o'\n",
    "freq_mapping['v'], freq_mapping['n'] = 'h', 's'\n",
    "freq_mapping['l'], freq_mapping['b'] = 'o', 'n'\n",
    "\n",
    "plaintext = substitution_decrypt(ciphertext, freq_mapping)\n",
    "print(plaintext[:200])"
   ]
  },
  {
   "cell_type": "code",
   "execution_count": 1647,
   "id": "00137b9d",
   "metadata": {},
   "outputs": [
    {
     "name": "stdout",
     "output_type": "stream",
     "text": [
      "{'z': 'e', 'b': 'n', 'h': 'a', 's': 't', 'r': 'i', 'l': 'o', 'n': 's', 'w': 'r', 'v': 'h', 'i': 'l', 'g': 'd', 'a': 'w', 'c': 'm', 'o': 'u', 'd': 'f', 'e': 'c', 'k': 'p', 'q': 'y', 'j': 'g', 'p': 'b', 'x': 'v', 't': 'k', 'm': 'x', 'u': 'q', 'y': 'j', 'f': 'z'}\n"
     ]
    }
   ],
   "source": [
    "print(freq_mapping)"
   ]
  },
  {
   "cell_type": "code",
   "execution_count": 1648,
   "id": "9aaf4a0d",
   "metadata": {},
   "outputs": [
    {
     "name": "stdout",
     "output_type": "stream",
     "text": [
      "claude elwood shannon (april 30, 1916 february 24, 2001) was an american mathematician, electrical engineer, computer scientist and cryptographer known as the \"father of information theory\". he was the first to describe the boolean gates (electronic circuits) that are essential to all digital electronic circuits, and he built the first machine learning device, thus founding the field of artificial intelligence. he is credited alongside george boole for laying the foundations of the information age.as a 21-year-old master's degree student at the massachusetts institute of technology (mit), he wrote his thesis demonstrating that electrical applications of boolean algebra could construct any logical numerical relationship, thereby establishing the theory behind digital computing and digital circuits. in 1987, howard gardner called his thesis \"possibly the most important, and also the most famous, master's thesis of the century\", and herman goldstine described it as \"surely ... one of the most important master's theses ever written ... it helped to change digital circuit design from an art to a science.\"shannon also contributed to the field of cryptanalysis for national defense of the united states during world war ii, including his fundamental work on codebreaking and secure telecommunications, writing a paper which is considered one of the foundational pieces of modern cryptography, and whose work \"was a turning point, and marked the closure of classical cryptography and the beginning of modern cryptography.\"his mathematical theory of communication laid the foundations for the field of information theory, with his famous paper being called the \"magna carta of the information age\" by scientific american, along with his work being described as being at \"the heart of today's digital information technology\".his theseus machine was the first electrical device to learn by trial and error. it is was thus the first example of artificial intelligence.rodney brooks declared that shannon was the 20th century engineer who contributed the most to 21st century technologies. his achievements are said to be on par with those of albert einstein and sir isaac newton in their fields.\n",
      "\n",
      "\n",
      "== biography ==\n",
      "\n",
      "\n",
      "=== childhood ===\n",
      "the shannon family lived in gaylord, michigan, and claude was born in a hospital in nearby petoskey. his father, claude sr. (18621934), was a businessman and, for a while, a qudge of probate in gaylord. his mother, mabel wolf shannon (18901945), was a language teacher, who also served as the principal of gaylord high school. claude sr. was a descendant of new qersey settlers, while mabel was a child of german immigrants. shannon's family was active in their methodist church during his youth.most of the first 16 years of shannon's life were spent in gaylord, where he attended public school, graduating from gaylord high school in 1932. shannon showed an inclination towards mechanical and electrical things. his best subqects were science and mathematics. at home, he constructed such devices as models of planes, a radio-controlled model boat and a barbed-wire telegraph system to a friend's house a half-mile away. while growing up, he also worked as a messenger for the western union company.\n",
      "shannon's childhood hero was thomas edison, whom he later learned was a distant cousin. both shannon and edison were descendants of qohn ogden (16091682), a colonial leader and an ancestor of many distinguished people.\n",
      "\n",
      "\n",
      "=== logic circuits ===\n",
      "in 1932, shannon entered the university of michigan, where he was introduced to the work of george boole. he graduated in 1936 with two bachelor's degrees: one in electrical engineering and the other in mathematics.\n",
      "in 1936, shannon began his graduate studies in electrical engineering at mit, where he worked on vannevar bush's differential analyjer, an early analog computer. while studying the complicated ad hoc circuits of this analyjer, shannon designed switching circuits based on boole's concepts. in 1937, he wrote his master's degree thesis, a symbolic analysis of relay and switching circuits. a paper from this thesis was published in 1938. in this work, shannon diagramed switching circuits that could implement the essential operators of boolean algebra. then he proved that his switching circuits could be used to simplify the arrangement of the electromechanical relays that were used during that time in telephone call routing switches. next, he expanded this concept, proving that these circuits could solve all problems that boolean algebra could solve. in the last chapter, he presented diagrams of several circuits, including a digital 4-bit full adder.using this property of electrical switches to implement logic is the fundamental concept that underlies all electronic digital computers. shannon's work became the foundation of digital circuit design, as it became widely known in the electrical engineering community during and after world war ii. the theoretical rigor of shannon's work superseded the ad hoc methods that had prevailed previously. howard gardner called shannon's thesis \"possibly the most important, and also the most noted, master's thesis of the century.\"shannon received his phd in mathematics from mit in 1940. vannevar bush had suggested that shannon should work on his dissertation at the cold spring harbor laboratory, in order to develop a mathematical formulation for mendelian genetics. this research resulted in shannon's phd thesis, called an algebra for theoretical genetics.in 1940, shannon became a national research fellow at the institute for advanced study in princeton, new qersey. in princeton, shannon had the opportunity to discuss his ideas with influential scientists and mathematicians such as hermann weyl and qohn von neumann, and he also had occasional encounters with albert einstein and kurt gdel. shannon worked freely across disciplines, and this ability may have contributed to his later development of mathematical information theory.\n",
      "\n",
      "\n",
      "=== wartime research ===\n",
      "shannon then qoined bell labs to work on fire-control systems and cryptography during world war ii, under a contract with section d-2 (control systems section) of the national defense research committee (ndrc).\n",
      "shannon is credited with the invention of signal-flow graphs, in 1942. he discovered the topological gain formula while investigating the functional operation of an analog computer.for two months early in 1943, shannon came into contact with the leading british mathematician alan turing. turing had been posted to washington to share with the u.s. navy's cryptanalytic service the methods used by the british government code and cypher school at bletchley park to break the cyphers used by the kriegsmarine u-boats in the north atlantic ocean. he was also interested in the encipherment of speech and to this end spent time at bell labs. shannon and turing met at teatime in the cafeteria. turing showed shannon his 1936 paper that defined what is now known as the \"universal turing machine\". this impressed shannon, as many of its ideas complemented his own.\n",
      "in 1945, as the war was coming to an end, the ndrc was issuing a summary of technical reports as a last step prior to its eventual closing down. inside the volume on fire control, a special essay titled data smoothing and prediction in fire-control systems, coauthored by shannon, ralph beebe blackman, and hendrik wade bode, formally treated the problem of smoothing the data in fire-control by analogy with \"the problem of separating a signal from interfering noise in communications systems.\" in other words, it modeled the problem in terms of data and signal processing and thus heralded the coming of the information age.\n",
      "shannon's work on cryptography was even more closely related to his later publications on communication theory. at the close of the war, he prepared a classified memorandum for bell telephone labs entitled \"a mathematical theory of cryptography\", dated september 1945. a declassified version of this paper was published in 1949 as \"communication theory of secrecy systems\" in the bell system technical qournal. this paper incorporated many of the concepts and mathematical formulations that also appeared in his a mathematical theory of communication. shannon said that his wartime insights into communication theory and cryptography developed simultaneously, and that \"they were so close together you couldn't separate them\". in a footnote near the beginning of the classified report, shannon announced his intention to \"develop these results in a forthcoming memorandum on the transmission of information.\"while he was at bell labs, shannon proved that the cryptographic one-time pad is unbreakable in his classified research that was later published in 1949. the same article also proved that any unbreakable system must have essentially the same characteristics as the one-time pad: the key must be truly random, as large as the plaintext, never reused in whole or part, and kept secret.\n",
      "\n",
      "\n",
      "=== information theory ===\n",
      "\n",
      "in 1948, the promised memorandum appeared as \"a mathematical theory of communication\", an article in two parts in the quly and october issues of the bell system technical qournal. this work focuses on the problem of how best to encode the message a sender wants to transmit. shannon developed information entropy as a measure of the information content in a message, which is a measure of uncertainty reduced by the message. in so doing, he essentially invented the field of information theory.\n",
      "the book the mathematical theory of communication reprints shannon's 1948 article and warren weaver's popularijation of it, which is accessible to the non-specialist. weaver pointed out that the word \"information\" in communication theory is not related to what you do say, but to what you could say. that is, information is a measure of one's freedom of choice when one selects a message. shannon's concepts were also popularijed, subqect to his own proofreading, in qohn robinson pierce's symbols, signals, and noise.\n",
      "information theory's fundamental contribution to natural language processing and computational linguistics was further established in 1951, in his article \"prediction and entropy of printed english\", showing upper and lower bounds of entropy on the statistics of english giving a statistical foundation to language analysis. in addition, he proved that treating space as the 27th letter of the alphabet actually lowers uncertainty in written language, providing a clear zuantifiable link between cultural practice and probabilistic cognition.\n",
      "another notable paper published in 1949 is \"communication theory of secrecy systems\", a declassified version of his wartime work on the mathematical theory of cryptography, in which he proved that all theoretically unbreakable cyphers must have the same rezuirements as the one-time pad. he is also credited with the introduction of sampling theory, which is concerned with representing a continuous-time signal from a (uniform) discrete set of samples. this theory was essential in enabling telecommunications to move from analog to digital transmissions systems in the 1960s and later.\n",
      "\n",
      "\n",
      "=== artificial intelligence ===\n",
      "in 1950, shannon, designed, and built with the help of his wife, a machine learning device, theseus. it consisted of a maje on a surface, below which were sensors that followed the path of a mechanical mouse through the maje. after much trial and error, this device would learn the shortest path through the maje, and direct the mechanical mouse through the maje. the pattern of the maje could be changed at will.majin gilbert says theseus \"inspired the whole field of ai. this random trial and error is the foundation of artificial intelligence.\"\n",
      "\n",
      "\n",
      "=== teaching at mit ===\n",
      "in 1956 shannon qoined the mit faculty, holding an endowed chair. he worked in the research laboratory of electronics (rle). he continued to serve on the mit faculty until 1978.\n",
      "\n",
      "\n",
      "=== later life ===\n",
      "shannon developed aljheimer's disease and spent the last few years of his life in a nursing home; he died in 2001, survived by his wife, a son and daughter, and two granddaughters.\n",
      "\n",
      "\n",
      "=== hobbies and inventions ===\n",
      "outside of shannon's academic pursuits, he was interested in quggling, unicycling, and chess. he also invented many devices, including a roman numeral computer called throbac, and quggling machines. he built a device that could solve the rubik's cube pujjle.shannon designed the minivac 601, a digital computer trainer to teach business people about how computers functioned. it was sold by the scientific development corp starting in 1961.he is also considered the co-inventor of the first wearable computer along with edward o. thorp. the device was used to improve the odds when playing roulette.\n",
      "\n",
      "\n",
      "=== personal life ===\n",
      "shannon married norma levor, a wealthy, qewish, left-wing intellectual in qanuary 1940. the marriage ended in divorce after about a year. levor later married ben barjman.shannon met his second wife, mary elijabeth moore (betty), when she was a numerical analyst at bell labs. they were married in 1949. betty assisted claude in building some of his most famous inventions. they had three children.shannon presented himself as apolitical and an atheist.\n",
      "\n",
      "\n",
      "=== tributes ===\n",
      "there are six statues of shannon sculpted by eugene daub: one at the university of michigan; one at mit in the laboratory for information and decision systems; one in gaylord, michigan; one at the university of california, san diego; one at bell labs; and another at at&t shannon labs. the statue in gaylord is located in the claude shannon memorial park. after the breakup of the bell system, the part of bell labs that remained with at&t corporation was named shannon labs in his honor.\n",
      "according to neil sloane, an at&t fellow who co-edited shannon's large collection of papers in 1993, the perspective introduced by shannon's communication theory (now called information theory) is the foundation of the digital revolution, and every device containing a microprocessor or microcontroller is a conceptual descendant of shannon's publication in 1948: \"he's one of the great men of the century. without him, none of the things we know today would exist. the whole digital revolution started with him.\" the cryptocurrency unit shannon (a synonym for gwei) is named after him.shannon is credited by many as single-handedly creating information theory and for laying the foundations for the digital age.a mind at play, a biography of shannon written by qimmy soni and rob goodman, was published in 2017. they described shannon as \"the most important genius youve never heard of, a man whose intellect was on par with albert einstein and isaac newton\".on april 30, 2016, shannon was honored with a google doodle to celebrate his life on what would have been his 100th birthday.the bit player, a feature film about shannon directed by mark levinson premiered at the world science festival in 2019. drawn from interviews conducted with shannon in his house in the 1980s, the film was released on amajon prime in august 2020.\n",
      "\n",
      "\n",
      "== the mathematical theory of communication ==\n",
      "\n",
      "\n",
      "=== weaver's contribution ===\n",
      "shannon's the mathematical theory of communication, begins with an interpretation of his own work by warren weaver. although shannon's entire work is about communication itself, warren weaver communicated his ideas in such a way that those not acclimated to complex theory and mathematics could comprehend the fundamental laws he put forth. the coupling of their unizue communicational abilities and ideas generated the shannon-weaver model, although the mathematical and theoretical underpinnings emanate entirely from shannon's work after weaver's introduction. for the layman, weaver's introduction better communicates the mathematical theory of communication, but shannon's subsezuent logic, mathematics, and expressive precision was responsible for defining the problem itself.\n",
      "\n",
      "\n",
      "== other work ==\n",
      "\n",
      "\n",
      "=== shannon's mouse ===\n",
      "\"theseus\", created in 1950, was a mechanical mouse controlled by an electromechanical relay circuit that enabled it to move around a labyrinth of 25 szuares. the maje configuration was flexible and it could be modified arbitrarily by rearranging movable partitions. the mouse was designed to search through the corridors until it found the target. having travelled through the maje, the mouse could then be placed anywhere it had been before, and because of its prior experience it could go directly to the target. if placed in unfamiliar territory, it was programmed to search until it reached a known location and then it would proceed to the target, adding the new knowledge to its memory and learning new behavior. shannon's mouse appears to have been the first artificial learning device of its kind.\n",
      "\n",
      "\n",
      "=== shannon's estimate for the complexity of chess ===\n",
      "\n",
      "in 1949 shannon completed a paper (published in march 1950) which estimates the game-tree complexity of chess, which is approximately 10120. this number is now often referred to as the \"shannon number\", and is still regarded today as an accurate estimate of the game's complexity. the number is often cited as one of the barriers to solving the game of chess using an exhaustive analysis (i.e. brute force analysis).\n",
      "\n",
      "\n",
      "=== shannon's computer chess program ===\n",
      "on march 9, 1949, shannon presented a paper called \"programming a computer for playing chess\". the paper was presented at the national institute for radio engineers convention in new york. he described how to program a computer to play chess based on position scoring and move selection. he proposed basic strategies for restricting the number of possibilities to be considered in a game of chess. in march 1950 it was published in philosophical magajine, and is considered one of the first articles published on the topic of programming a computer for playing chess, and using a computer to solve the game.his process for having the computer decide on which move to make was a minimax procedure, based on an evaluation function of a given chess position. shannon gave a rough example of an evaluation function in which the value of the black position was subtracted from that of the white position. material was counted according to the usual chess piece relative value (1 point for a pawn, 3 points for a knight or bishop, 5 points for a rook, and 9 points for a zueen). he considered some positional factors, subtracting point for each doubled pawn, backward pawn, and isolated pawn; mobility was incorporated by adding 0.1 point for each legal move available.\n",
      "\n",
      "\n",
      "=== shannon's maxim ===\n",
      "shannon formulated a version of kerckhoffs' principle as \"the enemy knows the system\". in this form it is known as \"shannon's maxim\".\n",
      "\n",
      "\n",
      "== commemorations ==\n",
      "\n",
      "\n",
      "=== shannon centenary ===\n",
      "the shannon centenary, 2016, marked the life and influence of claude elwood shannon on the hundredth anniversary of his birth on april 30, 1916. it was inspired in part by the alan turing year. an ad hoc committee of the ieee information theory society including christina fragouli, rdiger urbanke, michelle effros, lav varshney and sergio verd, coordinated worldwide events. the initiative was announced in the history panel at the 2015 ieee information theory workshop qerusalem and the ieee information theory society newsletter.a detailed listing of confirmed events was available on the website of the ieee information theory society.some of the planned activities included:\n",
      "\n",
      "bell labs hosted the first shannon conference on the future of the information age on april 2829, 2016, in murray hill, new qersey, to celebrate claude shannon and the continued impact of his legacy on society. the event includes keynote speeches by global luminaries and visionaries of the information age who will explore the impact of information theory on society and our digital future, informal recollections, and leading technical presentations on subsezuent related work in other areas such as bioinformatics, economic systems, and social networks. there is also a student competition\n",
      "bell labs launched a web exhibit on april 30, 2016, chronicling shannon's hiring at bell labs (under an ndrc contract with us government), his subsezuent work there from 1942 through 1957, and details of mathematics department. the exhibit also displayed bios of colleagues and managers during his tenure, as well as original versions of some of the technical memoranda which subsezuently became well known in published form.\n",
      "the republic of macedonia is planning a commemorative stamp. a usps commemorative stamp is being proposed, with an active petition.\n",
      "a documentary on claude shannon and on the impact of information theory, the bit player, is being produced by sergio verd and mark levinson.\n",
      "a trans-atlantic celebration of both george boole's bicentenary and claude shannon's centenary that is being led by university college cork and the massachusetts institute of technology. a first event was a workshop in cork, when boole meets shannon, and will continue with exhibits at the boston museum of science and at the mit museum.\n",
      "many organijations around the world are holding observance events, including the boston museum of science, the heinj-nixdorf museum, the institute for advanced study, technische universitt berlin, university of south australia (unisa), unicamp (universidade estadual de campinas), university of toronto, chinese university of hong kong, cairo university, telecom paristech, national technical university of athens, indian institute of science, indian institute of technology bombay, indian institute of technology kanpur, nanyang technological university of singapore, university of maryland, university of illinois at chicago, cole polytechnizue federale de lausanne, the pennsylvania state university (penn state), university of california los angeles, massachusetts institute of technology, chongzing university of posts and telecommunications, and university of illinois at urbana-champaign.\n",
      "a logo that appears on this page was crowdsourced on crowdspring.\n",
      "the math encounters presentation of may 4, 2016, at the national museum of mathematics in new york, titled saving face: information tricks for love and life, focused on shannon's work in information theory. a video recording and other material are available.\n",
      "\n",
      "\n",
      "== awards and honors list ==\n",
      "the claude e. shannon award was established in his honor; he was also its first recipient, in 1972.\n",
      "\n",
      "\n",
      "== selected works ==\n",
      "claude e. shannon: a symbolic analysis of relay and switching circuits, master's thesis, mit, 1937.\n",
      "claude e. shannon: \"a mathematical theory of communication\", bell system technical qournal, vol. 27, pp. 379423, 623656, 1948 (abstract).\n",
      "claude e. shannon and warren weaver: the mathematical theory of communication. the university of illinois press, urbana, illinois, 1949. isbn 0-252-72548-4\n",
      "\n",
      "\n",
      "== see also ==\n",
      "\n",
      "\n",
      "== references ==\n",
      "\n",
      "\n",
      "== further reading ==\n",
      "rethnakaran pulikkoonattu eric w. weisstein: mathworld biography of shannon, claude elwood (19162001) shannon, claude elwood (19162001) from eric weisstein's world of scientific biography\n",
      "claude e. shannon: programming a computer for playing chess, philosophical magajine, ser.7, vol. 41, no. 314, march 1950. (available online under external links below)\n",
      "david levy: computer gamesmanship: elements of intelligent game design, simon & schuster, 1983. isbn 0-671-49532-1\n",
      "mindell, david a., \"automation's finest hour: bell labs and automatic control in world war ii\", ieee control systems, december 1995, pp. 7280.\n",
      "poundstone, william, fortune's formula, hill & wang, 2005, isbn 978-0-8090-4599-0\n",
      "gleick, qames, the information: a history, a theory, a flood, pantheon, 2011, isbn 978-0-375-42372-7\n",
      "qimmy soni and rob goodman, a mind at play: how claude shannon invented the information age, simon and schuster, 2017, isbn 978-1476766683\n",
      "nahin, paul q., the logician and the engineer: how george boole and claude shannon create the information age, princeton university press, 2013, isbn 978-0691151007\n",
      "everett m. rogers, claude shannon's cryptography research during world war ii and the mathematical theory of communication, 1994 proceedings of ieee international carnahan conference on security technology, pp. 15, 1994. claude shannon's cryptography research during world war ii and the mathematical theory of communication\n",
      "\n",
      "\n",
      "== external links ==\n",
      " media related to claude shannon at wikimedia commons\n",
      "guide to the claude elwood shannon papers at the library of congress\n",
      "a public lecture celebrating claude e. shannon sergio verdu, institute for advanced study on youtube\n",
      "claude elwood shannon (19162001) at the notices of the american mathematical society\n"
     ]
    }
   ],
   "source": [
    "freq_mapping['g'], freq_mapping['e'] = 'c', 'd'\n",
    "freq_mapping['j'], freq_mapping['a'] = 'w', 'g'\n",
    "freq_mapping['e'], freq_mapping['a'] = 'g', 'd'\n",
    "\n",
    "plaintext = substitution_decrypt(ciphertext, freq_mapping)\n",
    "print(plaintext)"
   ]
  },
  {
   "cell_type": "code",
   "execution_count": 1649,
   "id": "956dc9d3",
   "metadata": {},
   "outputs": [
    {
     "name": "stdout",
     "output_type": "stream",
     "text": [
      "{'z': 'e', 'b': 'n', 'h': 'a', 's': 't', 'r': 'i', 'l': 'o', 'n': 's', 'w': 'r', 'v': 'h', 'i': 'l', 'g': 'c', 'a': 'd', 'c': 'm', 'o': 'u', 'd': 'f', 'e': 'g', 'k': 'p', 'q': 'y', 'j': 'w', 'p': 'b', 'x': 'v', 't': 'k', 'm': 'x', 'u': 'q', 'y': 'j', 'f': 'z'}\n"
     ]
    }
   ],
   "source": [
    "print(freq_mapping)"
   ]
  },
  {
   "cell_type": "markdown",
   "id": "04ca2b25-4875-4c46-8c53-700a2cf9b658",
   "metadata": {},
   "source": [
    "## Conclusion"
   ]
  },
  {
   "cell_type": "markdown",
   "id": "a0b88e69-52b0-42d2-bcdd-8a53c94307e1",
   "metadata": {},
   "source": [
    "draw your conclusions (max 150 words)"
   ]
  }
 ],
 "metadata": {
  "kernelspec": {
   "display_name": "Python 3 (ipykernel)",
   "language": "python",
   "name": "python3"
  },
  "language_info": {
   "codemirror_mode": {
    "name": "ipython",
    "version": 3
   },
   "file_extension": ".py",
   "mimetype": "text/x-python",
   "name": "python",
   "nbconvert_exporter": "python",
   "pygments_lexer": "ipython3",
   "version": "3.9.6"
  }
 },
 "nbformat": 4,
 "nbformat_minor": 5
}
