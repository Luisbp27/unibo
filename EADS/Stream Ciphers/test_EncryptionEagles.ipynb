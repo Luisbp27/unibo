# Test iter and next methods
print("\nTesting iter and next methods")
sg_iter = iter(sg)
for i in range(5):
    print(next(sg_iter))