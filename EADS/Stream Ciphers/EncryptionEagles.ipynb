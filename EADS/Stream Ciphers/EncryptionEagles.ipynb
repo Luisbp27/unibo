{
 "cells": [
  {
   "cell_type": "markdown",
   "id": "bd7ea495",
   "metadata": {},
   "source": [
    "# Stream Cipher"
   ]
  },
  {
   "cell_type": "code",
   "execution_count": 1,
   "id": "5a21e285-771a-4a16-a1d3-29a418c1de67",
   "metadata": {},
   "outputs": [],
   "source": [
    "from streamcipher import LFSR\n",
    "from streamcipher import BerlekampMassey\n",
    "from streamcipher import ShrinkingGenerator, SelfShrinkingGenerator"
   ]
  },
  {
   "cell_type": "markdown",
   "id": "149f9e72",
   "metadata": {},
   "source": [
    "## LFSR"
   ]
  },
  {
   "cell_type": "markdown",
   "id": "3bbb6668",
   "metadata": {},
   "source": [
    "### testing"
   ]
  },
  {
   "cell_type": "markdown",
   "id": "ebd5aaf2",
   "metadata": {},
   "source": [
    "Test LFSR implementation (all attributes and mehtods) with the polynomial `poly = [4, 1, 0]`."
   ]
  },
  {
   "cell_type": "code",
   "execution_count": 1,
   "id": "6be05e00",
   "metadata": {},
   "outputs": [],
   "source": [
    "# code here"
   ]
  },
  {
   "cell_type": "markdown",
   "id": "0f5f9c4e",
   "metadata": {},
   "source": [
    "## Berlekamp Massey"
   ]
  },
  {
   "cell_type": "markdown",
   "id": "661ac806",
   "metadata": {},
   "source": [
    "### testing"
   ]
  },
  {
   "cell_type": "markdown",
   "id": "c3400ce8",
   "metadata": {},
   "source": [
    "Test the implementation Berlekamp-Massy Algorithm with the sequence produced by the following LFSR:\n",
    "- `poly = [3, 1, 0]` and `state = '\\x06'`\n",
    "- `poly = [5, 2, 1, 0]` and `state = '\\x05'`\n",
    "- `poly = [96, 81, 17, 15, 0]` and `state = b'streamcipher'`"
   ]
  },
  {
   "cell_type": "code",
   "execution_count": 4,
   "id": "882a2776",
   "metadata": {},
   "outputs": [],
   "source": [
    "# code here"
   ]
  },
  {
   "cell_type": "markdown",
   "id": "71170711",
   "metadata": {},
   "source": [
    "Load `'binary_sequence'` and find the polynomial corresponding to the shortest LFSR that can produce that sequence."
   ]
  },
  {
   "cell_type": "code",
   "execution_count": 4,
   "id": "42256487",
   "metadata": {},
   "outputs": [],
   "source": [
    "# code here"
   ]
  },
  {
   "cell_type": "markdown",
   "id": "11f7dd2d",
   "metadata": {},
   "source": [
    "## LFSR-based Generator (Shrinking or Self-Shrinking Generator)"
   ]
  },
  {
   "cell_type": "markdown",
   "id": "13198006",
   "metadata": {
    "tags": []
   },
   "source": [
    "### testing"
   ]
  },
  {
   "cell_type": "markdown",
   "id": "69edbabe-9b0f-435f-bd4b-0d450f713bc1",
   "metadata": {},
   "source": [
    "Test Generator implementation (all attributes and methods)."
   ]
  },
  {
   "cell_type": "code",
   "execution_count": 4,
   "id": "38f54c80-e3d5-4a07-9038-be586d981db9",
   "metadata": {},
   "outputs": [],
   "source": [
    "# code here"
   ]
  },
  {
   "cell_type": "markdown",
   "id": "8d2b63d3",
   "metadata": {},
   "source": [
    "Decrypt the ciphertext in `ciphertext_shrinking.bin` or `ciphertext_selfshrinking.bin`."
   ]
  },
  {
   "cell_type": "code",
   "execution_count": null,
   "id": "be3bbfe1-ed49-48f8-93b1-e38b730fc5bb",
   "metadata": {},
   "outputs": [],
   "source": [
    "polyA = [16, 15, 12, 10, 0]\n",
    "polyS = [24, 11, 5, 2, 0]\n",
    "stateA = b'\\xc5\\xd7'\n",
    "stateS = b'\\x14\\x84\\xf8'"
   ]
  },
  {
   "cell_type": "code",
   "execution_count": null,
   "id": "9d575238-a930-492c-8a1f-d3d3430b0659",
   "metadata": {},
   "outputs": [],
   "source": [
    "poly = [32, 16, 7, 2, 0]\n",
    "selection_bit = 4\n",
    "state = b'mJ\\x9by'"
   ]
  },
  {
   "cell_type": "code",
   "execution_count": 8,
   "id": "55126a94",
   "metadata": {},
   "outputs": [],
   "source": [
    "# code here"
   ]
  },
  {
   "cell_type": "markdown",
   "id": "0fdca22c",
   "metadata": {
    "tags": []
   },
   "source": [
    "## Conclusion"
   ]
  }
 ],
 "metadata": {
  "kernelspec": {
   "display_name": "Python 3 (ipykernel)",
   "language": "python",
   "name": "python3"
  },
  "language_info": {
   "codemirror_mode": {
    "name": "ipython",
    "version": 3
   },
   "file_extension": ".py",
   "mimetype": "text/x-python",
   "name": "python",
   "nbconvert_exporter": "python",
   "pygments_lexer": "ipython3",
   "version": "3.12.2"
  }
 },
 "nbformat": 4,
 "nbformat_minor": 5
}
