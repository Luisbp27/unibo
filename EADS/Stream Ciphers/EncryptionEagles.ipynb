{
 "cells": [
  {
   "cell_type": "markdown",
   "id": "bd7ea495",
   "metadata": {},
   "source": [
    "# Stream Cipher"
   ]
  },
  {
   "cell_type": "code",
   "execution_count": 43,
   "id": "5a21e285-771a-4a16-a1d3-29a418c1de67",
   "metadata": {},
   "outputs": [],
   "source": [
    "from streamcipher import LFSR\n",
    "from streamcipher import berlekamp_massey\n",
    "from streamcipher import ShrinkingGenerator, SelfShrinkingGenerator\n",
    "\n",
    "from itertools import islice"
   ]
  },
  {
   "cell_type": "markdown",
   "id": "149f9e72",
   "metadata": {},
   "source": [
    "## LFSR"
   ]
  },
  {
   "cell_type": "markdown",
   "id": "3bbb6668",
   "metadata": {},
   "source": [
    "### testing"
   ]
  },
  {
   "cell_type": "markdown",
   "id": "ebd5aaf2",
   "metadata": {},
   "source": [
    "Test LFSR implementation (all attributes and mehtods) with the polynomial `poly = [4, 1, 0]`."
   ]
  },
  {
   "cell_type": "code",
   "execution_count": 44,
   "id": "6be05e00",
   "metadata": {},
   "outputs": [],
   "source": [
    "def lfsr_generator(poly_list, state_list=None, berk=False):\n",
    "    lfsr = LFSR(poly_list, state_list)\n",
    "\n",
    "    if not berk :\n",
    "        print('\\nstate     b fb')\n",
    "        for _ in islice(lfsr, 10):\n",
    "            print(lfsr)\n",
    "\n",
    "    if berk :\n",
    "        full_cycle = lfsr.cycle()\n",
    "        print(f'\\nfull LFSR cycle -> {full_cycle}')\n",
    "\n",
    "        P = berlekamp_massey(full_cycle)\n",
    "\n",
    "        print(f'\\nBerlekamp-Massey algorithm -> {P}')\n",
    "        P.reverse()\n",
    "        nonzero = [i for i, e in enumerate(P) if e != 0]\n",
    "        poly_list = [f'x^{d}' for d in nonzero if d!= 0]\n",
    "        poly_list.reverse()\n",
    "        poly = \"+\".join(poly_list) + \"+1\"\n",
    "        print(poly)"
   ]
  },
  {
   "cell_type": "code",
   "execution_count": 45,
   "id": "9f7c5999",
   "metadata": {},
   "outputs": [],
   "source": [
    "# We could make list comprehension but it's not very readable\n",
    "def poly_to_list(degrees):\n",
    "    \"\"\" Convert a polynomial to a list of taps for an LFSR \"\"\"\n",
    "    length = max(degrees) + 1\n",
    "    taps = [1 if i in degrees else 0 for i in range(length)]\n",
    "    return taps[::-1]"
   ]
  },
  {
   "cell_type": "code",
   "execution_count": 46,
   "id": "e0871c42",
   "metadata": {},
   "outputs": [
    {
     "name": "stdout",
     "output_type": "stream",
     "text": [
      "Poly list: [1, 0, 0, 1, 1]\n",
      "Initial state: [1, 1, 1, 1, 1]\n",
      "\n",
      "state     b fb\n",
      "[0, 1, 1, 1, 1] 1 0\n",
      "[0, 0, 1, 1, 1] 1 0\n",
      "[0, 0, 0, 1, 1] 1 1\n",
      "[1, 0, 0, 0, 1] 1 0\n",
      "[0, 1, 0, 0, 0] 0 0\n",
      "[0, 0, 1, 0, 0] 0 1\n",
      "[1, 0, 0, 1, 0] 0 1\n",
      "[1, 1, 0, 0, 1] 1 0\n",
      "[0, 1, 1, 0, 0] 0 1\n",
      "[1, 0, 1, 1, 0] 0 0\n"
     ]
    }
   ],
   "source": [
    "poly_list = poly_to_list([4, 1, 0])\n",
    "print(f\"Poly list: {poly_list}\")\n",
    "lfsr_generator(poly_list)"
   ]
  },
  {
   "cell_type": "markdown",
   "id": "0f5f9c4e",
   "metadata": {},
   "source": [
    "## Berlekamp Massey"
   ]
  },
  {
   "cell_type": "markdown",
   "id": "661ac806",
   "metadata": {},
   "source": [
    "### testing"
   ]
  },
  {
   "cell_type": "markdown",
   "id": "c3400ce8",
   "metadata": {},
   "source": [
    "Test the implementation Berlekamp-Massy Algorithm with the sequence produced by the following LFSR:\n",
    "- `poly = [3, 1, 0]` and `state = '\\x06'`\n",
    "- `poly = [5, 2, 1, 0]` and `state = '\\x05'`\n",
    "- `poly = [96, 81, 17, 15, 0]` and `state = b'streamcipher'`"
   ]
  },
  {
   "cell_type": "code",
   "execution_count": 47,
   "id": "882a2776",
   "metadata": {},
   "outputs": [
    {
     "name": "stdout",
     "output_type": "stream",
     "text": [
      "Initial state: [0, 1, 1, 0]\n",
      "\n",
      "full LFSR cycle -> [1, 1, 0, 0, 1, 0, 1, 1, 1, 0, 0, 1, 0, 1, 1]\n",
      "\n",
      "Berlekamp-Massey algorithm -> [0, 1, 3, 4, 5, 7, 8, 9, 10, 13, 16, 17, 18]\n",
      "x^11+x^10+x^9+x^8+x^7+x^6+x^5+x^4+x^3+x^2+x^1+1\n"
     ]
    }
   ],
   "source": [
    "poly_list = poly_to_list([3, 1, 0])\n",
    "state = int.from_bytes(b'\\x06', byteorder='big')\n",
    "lfsr_generator(poly_list, state, True)\n"
   ]
  },
  {
   "cell_type": "code",
   "execution_count": 48,
   "id": "518ff00f",
   "metadata": {},
   "outputs": [
    {
     "name": "stdout",
     "output_type": "stream",
     "text": [
      "Initial state: [0, 0, 0, 1, 0, 1]\n",
      "\n",
      "full LFSR cycle -> [0, 1, 0, 0, 0, 0, 1, 0, 0, 1, 0, 1, 1, 0, 0, 1, 1, 1, 1, 1, 0, 0, 0, 1, 1, 0, 1, 1, 1, 0, 1, 0, 1, 0, 0, 0, 0, 1, 0, 0, 1, 0, 1, 1, 0, 0, 1, 1, 1, 1, 1, 0, 0, 0, 1, 1, 0, 1, 1, 1, 0, 1, 0]\n",
      "\n",
      "Berlekamp-Massey algorithm -> [0, 2, 4, 6, 8, 9, 17, 18, 19, 22]\n",
      "x^8+x^7+x^6+x^5+x^4+x^3+x^2+x^1+1\n"
     ]
    }
   ],
   "source": [
    "poly_list = poly_to_list([5, 2, 0])\n",
    "state = int.from_bytes(b'\\x05', byteorder='big')\n",
    "lfsr_generator(poly_list, state, True)"
   ]
  },
  {
   "cell_type": "code",
   "execution_count": 49,
   "id": "0763abea",
   "metadata": {},
   "outputs": [],
   "source": [
    "poly_list = poly_to_list([96, 81, 17, 15, 0])\n",
    "state = int.from_bytes(b'streamcipher', byteorder='big')\n",
    "#lfsr_generator(poly_list, state, True)"
   ]
  },
  {
   "cell_type": "markdown",
   "id": "71170711",
   "metadata": {},
   "source": [
    "Load `'binary_sequence'` and find the polynomial corresponding to the shortest LFSR that can produce that sequence."
   ]
  },
  {
   "cell_type": "code",
   "execution_count": 50,
   "id": "42256487",
   "metadata": {},
   "outputs": [],
   "source": [
    "# Loading the binary_sequence.bin file\n",
    "with open('binary_sequence.bin', 'rb') as f:\n",
    "    data = f.read()\n",
    "\n",
    "# Finding the polynomial corresponding to the shortest LFSR that generates the sequence\n",
    "#lfsr_generator(data, berk=True)"
   ]
  },
  {
   "cell_type": "markdown",
   "id": "11f7dd2d",
   "metadata": {},
   "source": [
    "## LFSR-based Generator (Shrinking or Self-Shrinking Generator)"
   ]
  },
  {
   "cell_type": "markdown",
   "id": "13198006",
   "metadata": {
    "tags": []
   },
   "source": [
    "### testing"
   ]
  },
  {
   "cell_type": "markdown",
   "id": "69edbabe-9b0f-435f-bd4b-0d450f713bc1",
   "metadata": {},
   "source": [
    "Test Generator implementation (all attributes and methods)."
   ]
  },
  {
   "cell_type": "code",
   "execution_count": 51,
   "id": "38f54c80-e3d5-4a07-9038-be586d981db9",
   "metadata": {},
   "outputs": [
    {
     "name": "stdout",
     "output_type": "stream",
     "text": [
      "\n",
      "Shrinking Generator\n",
      "Initial state: [0, 1, 1, 0]\n",
      "Initial state: [0, 1, 0, 1]\n",
      "LFSRA: [0, 1, 1, 0] [0] 1\n",
      "LFSRS: [0, 1, 0, 1] [0] 1\n",
      "output: None\n",
      "0\n",
      "1\n",
      "0\n",
      "1\n",
      "0\n",
      "0\n"
     ]
    }
   ],
   "source": [
    "# Testing the Shrinking Generator\n",
    "print(\"\\nShrinking Generator\")\n",
    "poly_list1 = poly_to_list([3, 2, 0])\n",
    "poly_list2 = poly_to_list([3, 1, 0])\n",
    "state1 = int.from_bytes(b'\\x06', byteorder='big')\n",
    "state2 = int.from_bytes(b'\\x05', byteorder='big')\n",
    "\n",
    "sg = ShrinkingGenerator(poly_list1, poly_list2, state1, state2)\n",
    "\n",
    "# Test all attributes\n",
    "print(f'LFSRA: {sg.lfsrA}')\n",
    "print(f'LFSRS: {sg.lfsrS}')\n",
    "print(f'output: {sg.output}')\n",
    "\n",
    "# Testing the next method\n",
    "print(next(sg))\n",
    "print(next(sg))\n",
    "print(next(sg))\n",
    "\n",
    "# Testing the iter method\n",
    "iterator = iter(sg)\n",
    "print(next(iterator))\n",
    "print(next(iterator))\n",
    "print(next(iterator))\n",
    "\n",
    "\n"
   ]
  },
  {
   "cell_type": "code",
   "execution_count": 52,
   "id": "7c263954",
   "metadata": {},
   "outputs": [
    {
     "name": "stdout",
     "output_type": "stream",
     "text": [
      "\n",
      "Self Shrinking Generator\n",
      "Initial state: [0, 1, 1, 0]\n",
      "\n",
      "state     b fb\n",
      "<streamcipher.SelfShrinkingGenerator object at 0x10a0da9c0>\n",
      "<streamcipher.SelfShrinkingGenerator object at 0x10a0da9c0>\n",
      "<streamcipher.SelfShrinkingGenerator object at 0x10a0da9c0>\n",
      "<streamcipher.SelfShrinkingGenerator object at 0x10a0da9c0>\n",
      "<streamcipher.SelfShrinkingGenerator object at 0x10a0da9c0>\n",
      "<streamcipher.SelfShrinkingGenerator object at 0x10a0da9c0>\n",
      "<streamcipher.SelfShrinkingGenerator object at 0x10a0da9c0>\n",
      "<streamcipher.SelfShrinkingGenerator object at 0x10a0da9c0>\n",
      "<streamcipher.SelfShrinkingGenerator object at 0x10a0da9c0>\n",
      "<streamcipher.SelfShrinkingGenerator object at 0x10a0da9c0>\n"
     ]
    }
   ],
   "source": [
    "# Testing the Self Shrinking Generator\n",
    "print(\"\\nSelf Shrinking Generator\")\n",
    "poly_list = poly_to_list([3, 2, 0])\n",
    "sbit = 4\n",
    "state = int.from_bytes(b'\\x06', byteorder='big')\n",
    "\n",
    "ssg = SelfShrinkingGenerator(poly_list, sbit, state)\n",
    "\n",
    "print(f'\\nstate     b fb')\n",
    "for _ in islice(ssg, 10):\n",
    "    print(ssg)"
   ]
  },
  {
   "cell_type": "markdown",
   "id": "8d2b63d3",
   "metadata": {},
   "source": [
    "Decrypt the ciphertext in `ciphertext_shrinking.bin` or `ciphertext_selfshrinking.bin`."
   ]
  },
  {
   "cell_type": "code",
   "execution_count": 53,
   "id": "2076fc3e",
   "metadata": {},
   "outputs": [
    {
     "name": "stdout",
     "output_type": "stream",
     "text": [
      "Parity bit: 1\n"
     ]
    }
   ],
   "source": [
    "# Transform the name group into a bytes object (big endian)\n",
    "group_name = b'EncryptionEagles'\n",
    "\n",
    "# Iterate over the 8 bits of the byte and shift the byte i times to the right and check if the least significant bit is 1.\n",
    "group_bits = [bool(byte & (1 << i)) for byte in group_name for i in range(8)]\n",
    "\n",
    "# Comptute the parity bit\n",
    "parity = sum(group_bits) % 2\n",
    "print(f'Parity bit: {parity}')\n"
   ]
  },
  {
   "cell_type": "code",
   "execution_count": 54,
   "id": "be3bbfe1-ed49-48f8-93b1-e38b730fc5bb",
   "metadata": {},
   "outputs": [],
   "source": [
    "polyA = [16, 15, 12, 10, 0]\n",
    "polyS = [24, 11, 5, 2, 0]\n",
    "stateA = b'\\xc5\\xd7'\n",
    "stateS = b'\\x14\\x84\\xf8'"
   ]
  },
  {
   "cell_type": "code",
   "execution_count": 55,
   "id": "9d575238-a930-492c-8a1f-d3d3430b0659",
   "metadata": {},
   "outputs": [],
   "source": [
    "poly = [32, 16, 7, 2, 0]\n",
    "selection_bit = 4\n",
    "state = b'mJ\\x9by'"
   ]
  },
  {
   "cell_type": "code",
   "execution_count": 56,
   "id": "55126a94",
   "metadata": {},
   "outputs": [
    {
     "name": "stdout",
     "output_type": "stream",
     "text": [
      "Initial state: [1, 1, 0, 1, 1, 0, 1, 0, 1, 0, 0, 1, 0, 1, 0, 1, 0, 0, 1, 1, 0, 1, 1, 0, 1, 1, 1, 1, 0, 0, 1]\n"
     ]
    }
   ],
   "source": [
    "# Choosing the assigned generator depending on the parity bit\n",
    "if parity == 0:\n",
    "    sg = ShrinkingGenerator(polyA, polyS, int.from_bytes(stateA, byteorder='big'), int.from_bytes(stateS, byteorder='big'))\n",
    "else:\n",
    "    ssg = SelfShrinkingGenerator(poly, selection_bit, int.from_bytes(state, byteorder='big'))"
   ]
  },
  {
   "cell_type": "markdown",
   "id": "0fdca22c",
   "metadata": {
    "tags": []
   },
   "source": [
    "## Conclusion"
   ]
  }
 ],
 "metadata": {
  "kernelspec": {
   "display_name": "Python 3 (ipykernel)",
   "language": "python",
   "name": "python3"
  },
  "language_info": {
   "codemirror_mode": {
    "name": "ipython",
    "version": 3
   },
   "file_extension": ".py",
   "mimetype": "text/x-python",
   "name": "python",
   "nbconvert_exporter": "python",
   "pygments_lexer": "ipython3",
   "version": "3.12.2"
  }
 },
 "nbformat": 4,
 "nbformat_minor": 5
}
