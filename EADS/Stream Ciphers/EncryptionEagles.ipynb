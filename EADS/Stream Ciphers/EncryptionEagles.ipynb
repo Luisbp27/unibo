{
 "cells": [
  {
   "cell_type": "markdown",
   "id": "ef3e6e3f",
   "metadata": {},
   "source": [
    "<div style=\"text-align: center;\">\n",
    "<h1>Assignment 2: Stream Ciphers</font></h1>\n",
    "<h2>Course: Elements of Applied Data Security</font></h2>\n",
    "\n",
    "<center><img src=\"../images/unibo.png\" alt=\"unibo_logo\" width=\"200\"/></center>\n",
    "\n",
    "<h3>Professor: Alex Marchioni and Livia Manovi</font></h3>\n",
    "<h3>University: Università degli Studi di Bologna</font></h3>\n",
    "<h3>Author: Lluis Barca Pons</font></h3>\n",
    "<h3>Date: 2024-04-23</font></h3>\n",
    "</div>"
   ]
  },
  {
   "cell_type": "markdown",
   "id": "8c108e90",
   "metadata": {},
   "source": [
    "Stream cipher is an encryption method that processes the plaintext by encrypting one bit or byte at a time with a pseudorandom keystream. This type of cipher operates by generating a stream of cryptographic keys that are then bitwise XORed with the plaintext bits to produce ciphertext. Stream ciphers are noted for their speed and simplicity, making them ideal for applications that require fast, continuous data encryption such as real-time communication. They offer advantages in scenarios where quick encryption and decryption are needed without the added complexity and size constraints posed by block ciphers."
   ]
  },
  {
   "cell_type": "markdown",
   "id": "0b6cec16",
   "metadata": {},
   "source": [
    "# Importing libraries and modules"
   ]
  },
  {
   "cell_type": "code",
   "execution_count": 1,
   "id": "5a21e285-771a-4a16-a1d3-29a418c1de67",
   "metadata": {},
   "outputs": [],
   "source": [
    "from streamcipher import LFSR\n",
    "from streamcipher import berlekamp_massey\n",
    "from streamcipher import ShrinkingGenerator, SelfShrinkingGenerator\n",
    "\n",
    "from itertools import islice"
   ]
  },
  {
   "cell_type": "markdown",
   "id": "149f9e72",
   "metadata": {},
   "source": [
    "## LFSR"
   ]
  },
  {
   "cell_type": "markdown",
   "id": "bb731ea0",
   "metadata": {},
   "source": [
    "LFSR (Linear Feedback Shift Register) is a simple yet powerful hardware-efficient structure used to generate pseudorandom binary sequences. It consists of a series of flip-flops (registers), each capable of storing one bit of data, shifted in steps under the control of a clock. At each step, a feedback function, typically a linear combination of bits in specific positions of the register (taps), is computed using the XOR operation. This result is then fed back as input to the register. The configuration of taps determines the characteristics of the output sequence, such as its period and randomness. LFSRs are widely used in cryptography, digital signal processing, and error detection protocols."
   ]
  },
  {
   "cell_type": "markdown",
   "id": "3bbb6668",
   "metadata": {},
   "source": [
    "### Testing"
   ]
  },
  {
   "cell_type": "markdown",
   "id": "ebd5aaf2",
   "metadata": {},
   "source": [
    "Test LFSR implementation (all attributes and mehtods) with the polynomial `poly = [4, 1, 0]`."
   ]
  },
  {
   "cell_type": "code",
   "execution_count": 2,
   "id": "6be05e00",
   "metadata": {},
   "outputs": [],
   "source": [
    "def lfsr_generator(poly_list, state_list=None, bm=False):\n",
    "    \"\"\" LFSR generator function\n",
    "    This function generates the LFSR sequence and optionally applies the Berlekamp-Massey algorithm to find the polynomial that generates the sequence.\n",
    "\n",
    "    Args:\n",
    "        poly_list: list of integers representing the polynomial coefficients\n",
    "        state_list: list of integers representing the initial state of the LFSR\n",
    "        bm: boolean flag to apply the Berlekamp-Massey algorithm. Default is False\n",
    "    \"\"\"\n",
    "\n",
    "    lfsr = LFSR(poly_list, state_list)\n",
    "\n",
    "    if not bm :\n",
    "        print('\\nstate     b fb')\n",
    "        for _ in islice(lfsr, 10):\n",
    "            print(lfsr)\n",
    "\n",
    "    if bm :\n",
    "        full_cycle = lfsr.cycle()\n",
    "        print(f'\\nfull LFSR cycle -> {full_cycle}')\n",
    "\n",
    "        P = berlekamp_massey(full_cycle)\n",
    "\n",
    "        print(f'\\nBerlekamp-Massey algorithm -> {P}')\n",
    "        P.reverse()\n",
    "        nonzero = [i for i, e in enumerate(P) if e != 0]\n",
    "        poly_list = [f'x^{d}' for d in nonzero if d!= 0]\n",
    "        poly_list.reverse()\n",
    "        poly = \"+\".join(poly_list) + \"+1\"\n",
    "        print(poly)"
   ]
  },
  {
   "cell_type": "code",
   "execution_count": 3,
   "id": "e0871c42",
   "metadata": {},
   "outputs": [
    {
     "name": "stdout",
     "output_type": "stream",
     "text": [
      "Initial state: [1, 1, 1, 1]\n",
      "\n",
      "state     b fb\n",
      "[0, 1, 1, 1] 1 0\n",
      "[0, 0, 1, 1] 1 0\n",
      "[0, 0, 0, 1] 1 1\n",
      "[1, 0, 0, 0] 0 0\n",
      "[0, 1, 0, 0] 0 0\n",
      "[0, 0, 1, 0] 0 1\n",
      "[1, 0, 0, 1] 1 1\n",
      "[1, 1, 0, 0] 0 0\n",
      "[0, 1, 1, 0] 0 1\n",
      "[1, 0, 1, 1] 1 0\n"
     ]
    }
   ],
   "source": [
    "lfsr_generator([4, 1, 0])"
   ]
  },
  {
   "cell_type": "markdown",
   "id": "0f5f9c4e",
   "metadata": {},
   "source": [
    "## Berlekamp Massey"
   ]
  },
  {
   "cell_type": "markdown",
   "id": "dee3bcce",
   "metadata": {},
   "source": [
    "The Berlekamp-Massey algorithm is an efficient method used to determine the minimal polynomial of a linear feedback shift register (LFSR) from a given sequence of binary data. This polynomial represents the shortest LFSR that can generate the observed sequence. The algorithm systematically adjusts a simulated LFSR's taps through discrepancy calculations, effectively minimizing the polynomial's length while ensuring it aligns with the input sequence. It is widely used in error-correcting codes to optimize decoding processes and in cryptography to analyze the structure of pseudorandom number generators, enabling the reconstruction of the original LFSR configuration from output sequences."
   ]
  },
  {
   "cell_type": "markdown",
   "id": "661ac806",
   "metadata": {},
   "source": [
    "### Testing"
   ]
  },
  {
   "cell_type": "markdown",
   "id": "c3400ce8",
   "metadata": {},
   "source": [
    "Test the implementation Berlekamp-Massy Algorithm with the sequence produced by the following LFSR:\n",
    "- `poly = [3, 1, 0]` and `state = '\\x06'`\n",
    "- `poly = [5, 2, 1, 0]` and `state = '\\x05'`\n",
    "- `poly = [96, 81, 17, 15, 0]` and `state = b'streamcipher'`"
   ]
  },
  {
   "cell_type": "code",
   "execution_count": 4,
   "id": "60fb8add",
   "metadata": {},
   "outputs": [],
   "source": [
    "def state_to_bits(s):\n",
    "    \"\"\" Convert a state to a list of bits\n",
    "\n",
    "    Args:\n",
    "        s: A binary string representing the state of a LFSR\n",
    "\n",
    "    state_to_bitsReturns:\n",
    "        bits: A list of bits representing the state\n",
    "    \"\"\"\n",
    "\n",
    "    return int.from_bytes(s, byteorder='big')"
   ]
  },
  {
   "cell_type": "code",
   "execution_count": 5,
   "id": "882a2776",
   "metadata": {},
   "outputs": [
    {
     "name": "stdout",
     "output_type": "stream",
     "text": [
      "Initial state: [1, 1, 0]\n",
      "\n",
      "full LFSR cycle -> [1, 1, 1, 0, 0, 1, 0]\n",
      "\n",
      "Berlekamp-Massey algorithm -> [0, 3, 6]\n",
      "x^1+1\n"
     ]
    }
   ],
   "source": [
    "poly_list = [3, 1, 0]\n",
    "state = state_to_bits(b'\\x06')\n",
    "lfsr_generator(poly_list, state, bm=True)"
   ]
  },
  {
   "cell_type": "code",
   "execution_count": 6,
   "id": "518ff00f",
   "metadata": {},
   "outputs": [
    {
     "name": "stdout",
     "output_type": "stream",
     "text": [
      "Initial state: [0, 0, 1, 0, 1]\n",
      "\n",
      "full LFSR cycle -> [0, 1, 0, 0, 0, 0, 1, 0, 0, 1, 0, 1, 1, 0, 0, 1, 1, 1, 1, 1, 0, 0, 0, 1, 1, 0, 1, 1, 1, 0, 1]\n",
      "\n",
      "Berlekamp-Massey algorithm -> [0, 2, 4, 6, 8, 9, 17, 18, 19, 22]\n",
      "x^8+x^7+x^6+x^5+x^4+x^3+x^2+x^1+1\n"
     ]
    }
   ],
   "source": [
    "poly_list = [5, 2, 0]\n",
    "state = state_to_bits(b'\\x05')\n",
    "lfsr_generator(poly_list, state, bm=True)"
   ]
  },
  {
   "cell_type": "code",
   "execution_count": 7,
   "id": "0763abea",
   "metadata": {},
   "outputs": [],
   "source": [
    "poly_list = [96, 81, 17, 15, 0]\n",
    "state = state_to_bits(b'streamcipher')\n",
    "lfsr_generator(poly_list, state, bm=True)"
   ]
  },
  {
   "cell_type": "markdown",
   "id": "71170711",
   "metadata": {},
   "source": [
    "Load `'binary_sequence'` and find the polynomial corresponding to the shortest LFSR that can produce that sequence."
   ]
  },
  {
   "cell_type": "code",
   "execution_count": 8,
   "id": "42256487",
   "metadata": {},
   "outputs": [],
   "source": [
    "# Loading the binary_sequence.bin file\n",
    "with open('binary_sequence.bin', 'rb') as f:\n",
    "    data = f.read()\n",
    "\n",
    "# Converting the binary data to bits\n",
    "bits_data = []\n",
    "for byte in data:\n",
    "    for i in range(8): # 8 bits in a byte\n",
    "        bits_data.append((byte >> i) & 1)\n",
    "\n",
    "# Finding the exponents of the polynomial\n",
    "poly = [index for index, bit in enumerate(bits_data) if bit == 1]\n",
    "\n",
    "# Finding the polynomial corresponding to the shortest LFSR that generates the sequence\n",
    "lfsr_generator(poly_list=poly, bm=True)"
   ]
  },
  {
   "cell_type": "markdown",
   "id": "11f7dd2d",
   "metadata": {},
   "source": [
    "## LFSR-based Generator (Shrinking or Self-Shrinking Generator)"
   ]
  },
  {
   "cell_type": "markdown",
   "id": "13198006",
   "metadata": {
    "tags": []
   },
   "source": [
    "### Testing"
   ]
  },
  {
   "cell_type": "markdown",
   "id": "69edbabe-9b0f-435f-bd4b-0d450f713bc1",
   "metadata": {},
   "source": [
    "Test Generator implementation (all attributes and methods)."
   ]
  },
  {
   "cell_type": "code",
   "execution_count": 9,
   "id": "38f54c80-e3d5-4a07-9038-be586d981db9",
   "metadata": {},
   "outputs": [
    {
     "name": "stdout",
     "output_type": "stream",
     "text": [
      "\n",
      "Shrinking Generator\n",
      "Initial state: [1, 1, 0]\n",
      "Initial state: [1, 0, 1]\n",
      "LFSRA: [1, 1, 0] [1] 1\n",
      "LFSRS: [1, 0, 1] [1] 1\n",
      "output: None\n",
      "0\n",
      "1\n",
      "1\n",
      "0\n",
      "0\n",
      "0\n"
     ]
    }
   ],
   "source": [
    "# Testing the Shrinking Generator\n",
    "print(\"\\nShrinking Generator\")\n",
    "poly_list1 = [3, 2, 0]\n",
    "poly_list2 = [3, 1, 0]\n",
    "state1 = int.from_bytes(b'\\x06', byteorder='big')\n",
    "state2 = int.from_bytes(b'\\x05', byteorder='big')\n",
    "\n",
    "sg = ShrinkingGenerator(poly_list1, poly_list2, state1, state2)\n",
    "\n",
    "# Test all attributes\n",
    "print(f'LFSRA: {sg.lfsrA}')\n",
    "print(f'LFSRS: {sg.lfsrS}')\n",
    "print(f'output: {sg.output}')\n",
    "\n",
    "# Testing the next method\n",
    "print(next(sg))\n",
    "print(next(sg))\n",
    "print(next(sg))\n",
    "\n",
    "# Testing the iter method\n",
    "iterator = iter(sg)\n",
    "print(next(iterator))\n",
    "print(next(iterator))\n",
    "print(next(iterator))"
   ]
  },
  {
   "cell_type": "code",
   "execution_count": 10,
   "id": "7c263954",
   "metadata": {},
   "outputs": [
    {
     "name": "stdout",
     "output_type": "stream",
     "text": [
      "\n",
      "Self Shrinking Generator\n",
      "Initial state: [1, 1, 0]\n",
      "LFSR: [1, 1, 0] [1] 1\n",
      "sbit: 4\n",
      "output: None\n",
      "0\n",
      "0\n",
      "0\n",
      "0\n",
      "0\n",
      "0\n"
     ]
    }
   ],
   "source": [
    "# Testing the Self Shrinking Generator\n",
    "print(\"\\nSelf Shrinking Generator\")\n",
    "poly_list = [3, 2, 0]\n",
    "sbit = 4\n",
    "state = int.from_bytes(b'\\x06', byteorder='big')\n",
    "\n",
    "ssg = SelfShrinkingGenerator(poly_list, sbit, state)\n",
    "\n",
    "# Test all attributes\n",
    "print(f'LFSR: {ssg.lfsr}')\n",
    "print(f'sbit: {ssg.sbit}')\n",
    "print(f'output: {ssg.output}')\n",
    "\n",
    "# Testing the next method\n",
    "print(next(ssg))\n",
    "print(next(ssg))\n",
    "print(next(ssg))\n",
    "\n",
    "# Testing the iter method\n",
    "iterator = iter(ssg)\n",
    "print(next(iterator))\n",
    "print(next(iterator))\n",
    "print(next(iterator))"
   ]
  },
  {
   "cell_type": "markdown",
   "id": "8d2b63d3",
   "metadata": {},
   "source": [
    "Decrypt the ciphertext in `ciphertext_shrinking.bin` or `ciphertext_selfshrinking.bin`."
   ]
  },
  {
   "cell_type": "code",
   "execution_count": 11,
   "id": "2076fc3e",
   "metadata": {},
   "outputs": [
    {
     "name": "stdout",
     "output_type": "stream",
     "text": [
      "Parity bit: 1\n"
     ]
    }
   ],
   "source": [
    "# Transform the name group into a bytes object (big endian)\n",
    "group_name = b'EncryptionEagles'\n",
    "\n",
    "# Iterate over the 8 bits of the byte and shift the byte i times to the right and check if the least significant bit is 1.\n",
    "group_bits = [bool(byte & (1 << i)) for byte in group_name for i in range(8)]\n",
    "\n",
    "# Comptute the parity bit\n",
    "parity = sum(group_bits) % 2\n",
    "print(f'Parity bit: {parity}')"
   ]
  },
  {
   "cell_type": "code",
   "execution_count": 12,
   "id": "be3bbfe1-ed49-48f8-93b1-e38b730fc5bb",
   "metadata": {},
   "outputs": [],
   "source": [
    "polyA = [16, 15, 12, 10, 0]\n",
    "polyS = [24, 11, 5, 2, 0]\n",
    "stateA = b'\\xc5\\xd7'\n",
    "stateS = b'\\x14\\x84\\xf8'"
   ]
  },
  {
   "cell_type": "code",
   "execution_count": 13,
   "id": "9d575238-a930-492c-8a1f-d3d3430b0659",
   "metadata": {},
   "outputs": [],
   "source": [
    "poly = [32, 16, 7, 2, 0]\n",
    "selection_bit = 4\n",
    "state = b'mJ\\x9by'"
   ]
  },
  {
   "cell_type": "code",
   "execution_count": 14,
   "id": "e1bdf6dd",
   "metadata": {},
   "outputs": [],
   "source": [
    "def decrypt_file(file, sg):\n",
    "    \"\"\" Decrypt a file using a stream cipher generator\n",
    "\n",
    "    Args:\n",
    "        file: file to decrypt\n",
    "        sg: stream cipher generator\n",
    "\n",
    "    Returns:\n",
    "        plaintext: decrypted file\n",
    "    \"\"\"\n",
    "\n",
    "    with open(file, 'rb') as f:\n",
    "        ciphertext = f.read()\n",
    "\n",
    "    plaintext = []\n",
    "    for byte in ciphertext:\n",
    "        keystream_byte = next(sg)\n",
    "        plaintext_byte = byte ^ keystream_byte\n",
    "        plaintext.append(plaintext_byte)\n",
    "\n",
    "    print(f'\\nPlaintext coded: {bytes(plaintext)}')\n",
    "\n",
    "    return bytes(plaintext).decode('utf-8', errors='replace')"
   ]
  },
  {
   "cell_type": "code",
   "execution_count": 15,
   "id": "55126a94",
   "metadata": {},
   "outputs": [
    {
     "name": "stdout",
     "output_type": "stream",
     "text": [
      "Initial state: [0, 1, 1, 0, 1, 1, 0, 1, 0, 1, 0, 0, 1, 0, 1, 0, 1, 0, 0, 1, 1, 0, 1, 1, 0, 1, 1, 1, 1, 0, 0, 1]\n",
      "\n",
      "Plaintext coded: b'\\x03\\x901-o\\xcd\\xa0M2\\xe9\\x01C^\\x07jvs\\xc3\\xfe\\x81p\\xa9\\xe7h/\\xb8\\xa5\\xe1+y5F\\xb0\\xf7\\x98V\\x92\\xb4\\xeb=l\\x13\\x93\\xf8\\xde\\xf8\\xda\\x19,\\x97\\xa7[,\\t3a(\\xd75j=\\xb6\\xafP\\x01\\xad\\xbb\\x86\\x93\\xa0\\x89\\x08\\xef\\xc3\\xd2B\\xea\\'\\xe2\\xd3\\x93\\xec\\xa5\\x86\\xedp\\x1a\\x11\\x00\\x0c\\x0f\\xdbY\\xfe\\xebM\\xa8\\xcbl\\xdc\\xc6_R\\xf8\\xb7\\xf9\\x8d\\xf9~\\xae\\xb3\\x10\\xe6m\\x13=\\xe8\\x84u\\x99\\x90X\\xf3\\x1dx=\\xed\\x92\\xc5;\\xdd\\xc7g\\x90\\xd0u\\t\\xf2\\x11\\xef\\x1a^\\xff\\xe0\\x12z\\x1e\\xfa\\x08\\xb88\\xf4~j\\x95\\xdd\\x85\\xa1\\xac o\\x00\\xe6\\xf0~\\xb1\\xd2\\'n\\x88\\xc3\\xa7\\x0b3X\\x00r\\xda#\\xf0bz\\xd3Y\\xaey\\x7fiz\\xdf\\xa5\\xd5\\x9f\\xba\\x0b\\xcc\\x01l\\xcd\\xb6\\xc0%/\\xdfn\\x9d\\x7f\\xe7,}Q\\xe9\\xd7\\x8b\\xab\\xcc\\xfb\\xf9\\xad\\x86\\xb3Y\\x07\\x7fQ[\\x97\\x0f%p}\\xbe\\x87C\\xff\\x17\\xfd[_\\xbf\\x03\\xe48\\x9f\\x1b\\xd0\\x1c8x\\x96&eg8\\xd1\\\\\\xca\\xe5!\\xa4\\x0b\\x8c\\xf5\\x93m\\x86\\x9d\\x87D\\xbfk\\x01\\x07\\x1fb\\x9d\\xf1\\xd9\\x9b\\x8e\\xaa}\\x1f\\xb6\\x86\\xad\\xcc\\xb6!\\x8b\\x02K\\xb7\\xaf\\xb3\\x9a\\x86\\xf6QH\\x85\\n\\xe29\\\\o\\x0bW\\x1b\\x1f\\xe6t\\xa4\\xf4\\xe5\\xd9\\x96\\x08\\xc8\\xdad\\xbb3&o\\xc7j\\xeb\\xd1\\x0b\\xe5V\\xcc\\x1b\\x969*\\xd0\\x81\\x98#\\xe1H\\xa6\\x8ak4\\x11\\xb2\"xa\\xf7\\x9d\\xbb\\x02\\x94g\\xc9\\xb1\\xb4\\x9f+\\x85{\\xb1@\\xd5\\x8c\\xc8\\x8c\\xd3\\x9a\\xca\\xdeP\\xef\\r\\xcc\\xf6\\x8e\\xf8\\x80\\x1fN\\x89}\\x90\\xaeP\\x88\\xf4D\\xd0a\\xcb1L\\x83a!\\xa7\\x86q\\x04\\xca\\x03r\\x1b4\\x05x\\xa3guI\\xfe\\x02\\xb5\\x0f7\\xc7\\xdc5#V\\x89\\xc0\\x92\\xb8\\x80\\xac\\xaa|\\xdf#ss\\x0f$\\xd7\\xd6\\xfeHk[\\xdc\\x0c\\x18\\xe9Q\\x82-\\x0e\\x9c\\x0b`Y\\xfb)\\xc3\\xc5\\xcd\\xd2\\xc8c\\xba\\xe6\\xfa \\xdcj\\xfbx&\\x12\\xcd{\\x86t`\\xf3\\x9a\\xd4K\\x11\\xd0\\xf9\\x87;\\xf5K\\xc6`w\\xa7b\\xc5\\xb7l\\x92g\\xad\\xe1\\xbe?\\x10T\\xc7\\x7f\\x07\\xc7w\\xff\\xed\\xa0\\xc3K\\xaa\\xa0>\\xbb\\xce\\xc0\\x93a\\xec\\xca\\x17\\xed\\x8fX\\xc6|\\xa6G\\x95\\x9c\\x94\\x04\\xee\\xb1\\xcfXp\\xee\\xd2Sl\\xeb\\x05\\xe2_\\x02\\xc1\\x94mD\\xf0\\'a\\x81\\x8c0\\x97\\xb1\\\\\"\\xf9\\x1ar(\\xfcz\\x9f/\\xfe\\r\\xf9\\xc2\\x94\\xc6\\x06\\xae\\xc9'\n",
      "\n",
      "Plaintext decoded: \u0003�1-o͠M2�\u0001C^\u0007jvs���p��h/���+y5F���V���=l\u0013�����\u0019,��[,\t3a(�5j=��P\u0001��������B�'�ӓ쥆�p\u001a\u0011\u0000\f\u000f�Y��M��l��_R�����~��\u0010�m\u0013=�u��X�\u001dx=��;��g��u\t�\u0011�\u001a^��\u0012z\u001e�8�~j�݅�� o\u0000��~��'n�ç\u000b3X\u0000r�#�bz�Y�yizߥ՟�\u000b�\u0001lͶ�%/�n��,}Q�׋�������Y\u0007Q[�\u000f%p}��C�\u0017�[_�\u0003�8�\u001b�\u001c8x�&eg8�\\��!�\u000b���m���D�k\u0001\u0007\u001fb��ٛ��}\u001f���̶!�\u0002K������QH�\n",
      "��\u0006��N�}��P��D�a�1L�a!��q\u0004�\u0003r\u001b4\u0005x�guI�\u0002�\u000f7��5#V�������|�#ss\u000f$���Hk[�\f\u0018�Q�-\u000e�\u000b`Y�)�����c��� �j�x&\u0012�{�t`��K\u0011���;�K�`w�bŷl�g��?\u0010T�\u0007�w����K��>����a��\u0017�X�|�G���\u0004��Xp��Sl�\u0005�_\u0002��mD�'a��0��\\\"�\u001ar(�z�/�\n"
     ]
    }
   ],
   "source": [
    "# Choosing the assigned generator depending on the parity bit\n",
    "if parity == 0:\n",
    "    sg = ShrinkingGenerator(polyA, polyS, state_to_bits(stateA), state_to_bits(stateS))\n",
    "    plaintext = decrypt_file('./ciphertext_shrinking.bin', sg)\n",
    "    print(plaintext)\n",
    "else:\n",
    "    ssg = SelfShrinkingGenerator(poly, selection_bit, state_to_bits(state))\n",
    "    plaintext = decrypt_file('./ciphertext_selfshrinking.bin', ssg)\n",
    "    print(f'\\nPlaintext decoded: {plaintext}')"
   ]
  },
  {
   "cell_type": "markdown",
   "id": "0fdca22c",
   "metadata": {
    "tags": []
   },
   "source": [
    "## Conclusion"
   ]
  },
  {
   "cell_type": "markdown",
   "id": "90a942fd",
   "metadata": {},
   "source": [
    "Stream Ciphers represent a fundamental category of symmetric key cipher where plaintext data is encrypted one bit at a time. This method contrasts with block ciphers, which process blocks of data in fixed sizes. The primary advantage of stream ciphers is their efficiency and simplicity, making them highly suitable for environments where data is transmitted continuously, such as in telecommunications and real-time applications.\n",
    "\n",
    "In this project, I employed a specific type of stream cipher known as a Shrinking Generator, which leverages the properties of Linear Feedback Shift Registers (LFSRs) to produce a pseudorandom bit stream. This keystream is then used to encrypt or decrypt messages via the XOR operation, offering a blend of simplicity and speed alongside decent security under certain conditions. LFSRs are particularly noted for their efficient hardware implementation and predictable cycle length, which can be precisely controlled by choosing appropriate feedback taps.\n",
    "\n",
    "Also, I used the Berlekamp-Massey algorithm that is crucial in analyzing LFSRs within cryptographic applications, as it efficiently determines the minimal polynomial of an LFSR based on its output sequence. This capability is instrumental in cryptanalysis, helping to expose vulnerabilities in the stream cipher if the LFSR sequence can be predicted or reconstructed.\n",
    "\n",
    "Overall, the integration of LFSRs with stream ciphers, analyzed through methods like the Berlekamp-Massey algorithm, demonstrates a robust approach to achieving fast and secure data encryption. However, the security of such systems heavily relies on the proper selection of the LFSR parameters and the unpredictability of the output sequence, emphasizing the need for careful cryptographic design and analysis."
   ]
  }
 ],
 "metadata": {
  "kernelspec": {
   "display_name": "Python 3 (ipykernel)",
   "language": "python",
   "name": "python3"
  },
  "language_info": {
   "codemirror_mode": {
    "name": "ipython",
    "version": 3
   },
   "file_extension": ".py",
   "mimetype": "text/x-python",
   "name": "python",
   "nbconvert_exporter": "python",
   "pygments_lexer": "ipython3",
   "version": "3.12.2"
  }
 },
 "nbformat": 4,
 "nbformat_minor": 5
}
